{
  "metadata": {
    "kernelspec": {
      "display_name": "Python",
      "language": "python3",
      "name": "python3"
    },
    "language_info": {
      "codemirror_mode": {
        "name": "ipython",
        "version": 3
      },
      "file_extension": "py",
      "mimetype": "text/x-python",
      "name": "python"
    }
  },
  "nbformat": 4,
  "nbformat_minor": 5,
  "cells": [
    {
      "cell_type": "code",
      "id": "css_setup",
      "metadata": {
        "jupyter": {
          "source_hidden": true
        }
      },
      "source": [
        "import requests\n",
        "from IPython.core.display import HTML\n",
        "HTML(f\"\"\"\n",
        "<style>\n",
        "@import \"https://cdn.jsdelivr.net/npm/bulma@0.9.4/css/bulma.min.css\";\n",
        "</style>\n",
        "\"\"\")"
      ],
      "execution_count": 0,
      "outputs": []
    },
    {
      "cell_type": "markdown",
      "id": "8G_PsbkkwDpjOKtbIULhc",
      "metadata": {},
      "source": [
        "# Transformations Tutorial\n",
        "This tutorial demonstrates the use of linear transformations using Python. We assume you have read the reading material for this week prior to starting the tutorial.\n",
        "The tutorial covers the following topics:\n",
        "1. Rotation, scaling and shearing of one and several points. \n",
        "2. Rotations around a point.\n",
        "3. 3D rotations and scaling. \n",
        "4. Show by example, that matrix multiplication does not commute ($AB \\neq BA$).\n",
        "5. Affine transformation in Euclidean coordinates.\n",
        "6. Transforming between Euclidean and homogeneous representations.\n",
        "7. Affine transformations using homogeneous coordinates.\n",
        "\n",
        "Recall that linear transformations ($Ax=y$) leave the origin fixed and preserve parallelism. Scaling, shearing, rotation and reflection are examples of linear transformations. Affine transformations ($Ax + b = y$) adds translation but can also be formulated as a matrix multiplication using homogeneous coordinates.\n",
        "## Vector and matrix of points\n",
        "Define a point $x=\\begin{bmatrix} 1 \\\\ 2 \\end{bmatrix} \\in \\mathbb{R}^2$ and a matrix $A =\\begin{bmatrix} 0 & 1 & 0 & -1\\\\\n",
        "1 & -1 & -1 & 0 \\end{bmatrix} \\in \\mathbb{R}^{2\\times 4}$, where each column is considered a separate point:\n",
        ""
      ]
    },
    {
      "cell_type": "code",
      "id": "J2Z3ckB7Ufek2bKAB1qAT",
      "metadata": {},
      "source": [
        "import numpy as np\n",
        "\n",
        "# single 2d point\n",
        "x = np.array([1, 2])\n",
        "\n",
        "# matrix with column vectors of points\n",
        "A = np.array([[0, 1],\n",
        "              [1, 0],\n",
        "              [0, -1],\n",
        "              [-1, 0]]).T\n",
        "\n",
        "print(\"x=\", x)\n",
        "print(\"A=\\n\", A)"
      ],
      "execution_count": 0,
      "outputs": []
    },
    {
      "cell_type": "markdown",
      "id": "TdPHJfmFhr2yxtA4UvQDO",
      "metadata": {},
      "source": [
        "## 2D Transformations and matrix multiplication\n",
        "Matrix multiplication $Tx=x'$ linearly transforms $x$ to $x'$ where $T$ is a transformation matrix and $x$ is an arbitrary point. \n",
        "The following cell visualizes the transformations using Matplotlib: \n",
        ""
      ]
    },
    {
      "cell_type": "code",
      "id": "01c_VLTZo9pq5Z08OVKZ4",
      "metadata": {},
      "source": [
        "#import libraries\n",
        "import matplotlib.pyplot as plt\n",
        "import numpy as np\n",
        "import math\n",
        "np.set_printoptions(precision=4)\n",
        "np.set_printoptions(suppress=True)\n",
        "\n",
        "\n",
        "def plot_points(points, t_points, origin=(0, 0)):\n",
        "    \"\"\"\n",
        "    Displays the points and t_points in separate subplots and where the points with the same index have the same color\n",
        "    \n",
        "    Args:\n",
        "        points: matrix of 2D points.\n",
        "        t_points: matrix of transformed 2D points.\n",
        "        origin: it is simply show the origin and is (0,0) by default.\n",
        "    \"\"\"\n",
        "    color_lut = 'rgbcmy'\n",
        "    fig, (ax1, ax2) = plt.subplots(1, 2)\n",
        "    xs_t = []\n",
        "    ys_t = []\n",
        "    xs = []\n",
        "    ys = []\n",
        "    i = 0\n",
        "\n",
        "    text_offset = 0.15\n",
        "    ax1.scatter(origin[0], origin[1], color='k')\n",
        "    ax1.text(origin[0] + text_offset, origin[1], \"o\")\n",
        "    ax2.scatter(origin[0], origin[1], color='k')\n",
        "    ax2.text(origin[0] + text_offset, origin[1], \"o\")\n",
        "\n",
        "    for row, t_row in zip(points.T, t_points.T):\n",
        "        x_s, y_s = row\n",
        "        x_s_t, y_s_t = t_row\n",
        "        xs.append(x_s)\n",
        "        ys.append(y_s)\n",
        "        xs_t.append(x_s_t)\n",
        "        ys_t.append(y_s_t)\n",
        "        c_s = color_lut[i]  # these are the same but, its good to be explicit\n",
        "        ax1.scatter(x_s, y_s, color=c_s)\n",
        "        ax1.text(x_s + text_offset, y_s, str(i))\n",
        "        ax2.scatter(x_s_t, y_s_t, color=c_s)\n",
        "        ax2.text(x_s_t + text_offset, y_s_t, str(i))\n",
        "        i += 1\n",
        "    xs.append(xs[0])\n",
        "    ys.append(ys[0])\n",
        "    xs_t.append(xs_t[0])\n",
        "    ys_t.append(ys_t[0])\n",
        "    ax1.plot(xs, ys, color=\"gray\", linestyle='dotted')\n",
        "    ax1.set_xticks(np.arange(-2.5, 3, 0.5))\n",
        "    ax1.set_yticks(np.arange(-2.5, 3, 0.5))\n",
        "    ax2.plot(xs_t, ys_t, color=\"gray\", linestyle='dotted')\n",
        "    ax2.set_xticks(np.arange(-2.5, 3, 0.5))\n",
        "    ax2.set_yticks(np.arange(-2.5, 3, 0.5))\n",
        "    ax1.grid()\n",
        "    ax2.grid()\n",
        "    plt.show()\n",
        "\n",
        "plot_points(A, A_prime)"
      ],
      "execution_count": 0,
      "outputs": []
    },
    {
      "cell_type": "markdown",
      "id": "xmbm8sodwtLLf_e2_o27w",
      "metadata": {},
      "source": [
        "### Scaling\n",
        "Let $S = \n",
        "\t\\begin{bmatrix}\n",
        "\t\ts_x & 0\\\\\n",
        "\t\t0 & s_y\n",
        "\t\\end{bmatrix}$ be scaling matrix such that $x'=S p$ scales the first coordinate of $x$ with $s_x$ and the second coordinate with $s_y$. The following example scales (anisotropically)  the first coordinate  with $2$ and the second coordinate with $3$.\n",
        ""
      ]
    },
    {
      "cell_type": "code",
      "id": "6AcEVPg4O0HUTUrZgGOZH",
      "metadata": {},
      "source": [
        "# scaling transformation \n",
        "S = np.array([[2, 0], [0, 3]])\n",
        "x_prime = S @ x\n",
        "print(\"original point: \\n\", x)\n",
        "print(\"scaled point: \\n\", x_prime)"
      ],
      "execution_count": 0,
      "outputs": []
    },
    {
      "cell_type": "markdown",
      "id": "QiY1AuIwGWXFaRfJsRmhu",
      "metadata": {},
      "source": [
        "Let us apply scaling transformation S to the matrix $A$  ( $A_s=SA$ ):Transforming the points in the columns of $A$ is done by multipying $A$ by $S$\n",
        "\n",
        "$$A_s=SA$$\n",
        " \n",
        ""
      ]
    },
    {
      "cell_type": "code",
      "id": "KlIMvpf8NalyOmPt4FiIc",
      "metadata": {},
      "source": [
        "A_s = S @ A\n",
        "plot_points(A, A_s)"
      ],
      "execution_count": 0,
      "outputs": []
    },
    {
      "cell_type": "markdown",
      "id": "5UZ2z5mqau9yrdVK24KrT",
      "metadata": {},
      "source": [
        "### Shearing\n",
        "Define shearing matrices $S_{x}$ and $S_{y}$ as\n",
        "\n",
        "$$S_x = \n",
        "\t\\begin{bmatrix}\n",
        "\t\t1 & sh_x\\\\\n",
        "\t\t0 & 1\n",
        "\t\\end{bmatrix}\n",
        "\\,\\quad S_y =\n",
        "\t\\begin{bmatrix}\n",
        "\t\t1 & 0\\\\\n",
        "\t\tsh_y & 1\n",
        "\t\\end{bmatrix},\n",
        " $$\n",
        "where  $S_x$ is a horizontal shear and $S_y$ is a vertical shear (with shearing factors $sh_x$ and $sh_y$ respectively). The cell below demonstrates the transformations:\n",
        ""
      ]
    },
    {
      "cell_type": "code",
      "id": "CxwiJwu5P1Bx_V3Uotb0J",
      "metadata": {},
      "source": [
        "# Horizontal shear \n",
        "S_x = np.array([[1, 1], [0, 1]])\n",
        "print('Horizontal shear \\n', S_x)\n",
        "x_sx = S_x.dot(A)\n",
        "plot_points(A, x_sx)\n",
        "\n",
        "# Vertical shear \n",
        "S_y = np.array([[1, 0], [1, 1]])\n",
        "x_sy = S_y.dot(A)\n",
        "print('Vertical shear \\n', S_y)\n",
        "plot_points(A, x_sy)"
      ],
      "execution_count": 0,
      "outputs": []
    },
    {
      "cell_type": "markdown",
      "id": "5OxmfT44fAZxg4B8D4ESg",
      "metadata": {},
      "source": [
        "### Rotation\n",
        "The rotation matrix $R$ around the origin is given by:\n",
        "\n",
        "$$R = \n",
        "\t\\begin{bmatrix}\n",
        "\t\t\\cos(\\theta) & -\\sin(\\theta)\\\\\n",
        "\t\t\\sin(\\theta) & \\cos(\\theta)\n",
        "\t\\end{bmatrix},\n",
        "\t$$\n",
        "where $\\theta$ is the (anticlockwise) rotation angle around the origin $\\begin{bmatrix} 0 \\\\ 0 \\end{bmatrix}$ as illustrated in the code cell below:\n",
        ""
      ]
    },
    {
      "cell_type": "code",
      "id": "Nl6MQ2aoJxFs-xKlI0uIF",
      "metadata": {},
      "source": [
        "# Rotation with angle theta\n",
        "angle = 30\n",
        "theta = np.radians(angle)\n",
        "R = np.array([[np.cos(theta), -np.sin(theta)], [np.sin(theta), np.cos(theta)]])\n",
        "\n",
        "#Rotation of a single point using matrix multiplication\n",
        "x_prime = R @ x\n",
        "\n",
        "print('Rotation matrix \\n', R)\n",
        "print(x)\n",
        "print(\"Rotated P\", x_prime)\n",
        "\n",
        "#Rotation of multiple points using matrix multiplication\n",
        "A_prime = R @ A  #rotate the points in A around the origin through matrix multiplication with T_r\n",
        "\n",
        "print(\"Points before rotation \\n\", A)  #Printing such that each point is on one row.. Hence transposing the matrix\n",
        "print(\"Points after rotation \\n\", A_prime.T)"
      ],
      "execution_count": 0,
      "outputs": []
    },
    {
      "cell_type": "markdown",
      "id": "tv0zI71q6DNrfVeKcAasI",
      "metadata": {},
      "source": [
        "## 2D Rotation about a point\n",
        "Three steps are needed to transform  a point $x$ (or matrix of points $A$) around an arbitrary point $p$\n",
        "1. Translate the point(s) by $p$ (e.g. $A_1=A-p$)\n",
        "2. Transform translated points $A_2= TA_1$. \n",
        "3. Undo the translation by moving the points back $A_3=A_2+p$\n",
        "\n",
        "The following example shows a 30-degree rotation of matrix $A$ around point $p=\\begin{bmatrix}1\\\\1\\end{bmatrix}$:\n",
        ""
      ]
    },
    {
      "cell_type": "code",
      "id": "BxYv54biNft99qbSeqkG2",
      "metadata": {},
      "source": [
        "# centered point\n",
        "p = np.array([1, 1])\n",
        "\n",
        "# Rotation around a point\n",
        "\n",
        "# STEP 1: translation to the point \n",
        "# HAVE comment for repeat \n",
        "A_1 = A - np.repeat(x, 2)\n",
        "\n",
        "# STEP 2: rotate\n",
        "A_2 = R.dot(A_1)\n",
        "\n",
        "# STEP 3: reverse tranlation\n",
        "A_3 = A_2 + np.repeat(x, 2)\n",
        "\n",
        "#plot\n",
        "plot_points(A, A_3, p)"
      ],
      "execution_count": 0,
      "outputs": []
    },
    {
      "cell_type": "markdown",
      "id": "Ma5uTaFnisZBp9kpjt9lK",
      "metadata": {},
      "source": [
        "## 3D Geometric Transformations\n",
        "### Matrix of points\n",
        "Similar to 2D transformations, define a matrix \n",
        "$A =\\begin{bmatrix} 0 & 1 & 0 & -31\\\\\n",
        "2 & 0 & -1 & 0 \\\\ \n",
        "0 & 0 & 0 & 0\\end{bmatrix}$ \n",
        "of columns of three-dimensional points:\n",
        ""
      ]
    },
    {
      "cell_type": "code",
      "id": "4h1B6vABX6sjScQlkySus",
      "metadata": {},
      "source": [
        "#  3d points \n",
        "a, b, c, d = [0, 2, 0], [1, 0, 0], [0, -1, 0], [-3, 0, 0]\n",
        "\n",
        "# matrix with row vectors of points\n",
        "A = np.array([a, b, c, d]).T\n",
        "print('A=', A)"
      ],
      "execution_count": 0,
      "outputs": []
    },
    {
      "cell_type": "markdown",
      "id": "3-keHiVcUmstpux6SP9iD",
      "metadata": {},
      "source": [
        "### 3D Rotation\n",
        "The following three rotation matrices, rotate points by an angle θ about the x-axis, y-axis, and z-axis in three dimensions:\n",
        "\n",
        "$$Rx = \n",
        "\t\\begin{bmatrix}\n",
        "\t\t1 & 0 & 0 \\\\\n",
        "\t\t0 & \\cos(\\theta) & -\\sin(\\theta) \\\\\n",
        "        0 &  \\sin(\\theta) & \\cos(\\theta) \\\\\n",
        "\t\\end{bmatrix}\n",
        ",\\quad\n",
        "Ry = \n",
        "\\begin{bmatrix}\n",
        "    \\cos(\\theta) & 0 & \\sin(\\theta) \\\\\n",
        "    0 & 1 & 0 \\\\\n",
        "    -\\sin(\\theta) &  0 & \\cos(\\theta) \\\\\n",
        "\\end{bmatrix}\n",
        ",\\quad\n",
        "Rz = \n",
        "\\begin{bmatrix}\n",
        "    \\cos(\\theta) & -\\sin(\\theta) & 0 \\\\\n",
        "    \\sin(\\theta) & \\cos(\\theta) & 0\\\\\n",
        "    0 &  0 & 1 \\\\\n",
        "\\end{bmatrix}$$\n",
        "Use the function `get_3d_rotation_matrix`\n",
        " below to build a 3D rotation matrix. Feel free to study the code.\n",
        ""
      ]
    },
    {
      "cell_type": "code",
      "id": "t-YrrjItmqYOuTPkEM6TQ",
      "metadata": {},
      "source": [
        "def get_3d_rotation_matrix(theta, axis=0):\n",
        "    \"\"\"\n",
        "    This function return a rotation matrix given an input theta angle in\n",
        "    radians.\n",
        "    \"\"\"\n",
        "    if axis == 0:\n",
        "        return np.array(\n",
        "            [\n",
        "                [1, 0, 0],\n",
        "                [0, math.cos(theta), -math.sin(theta)],\n",
        "                [0, math.sin(theta), math.cos(theta)],\n",
        "            ],\n",
        "            dtype=np.float64,\n",
        "        )\n",
        "    elif axis == 1:\n",
        "        return np.array(\n",
        "            [\n",
        "                [math.cos(theta), 0, math.sin(theta)],\n",
        "                [0, 1, 0],\n",
        "                [-math.sin(theta), 0, math.cos(theta)],\n",
        "            ],\n",
        "            dtype=np.float64,\n",
        "        )\n",
        "\n",
        "    return np.array(\n",
        "        [\n",
        "            [math.cos(theta), -math.sin(theta), 0],\n",
        "            [math.sin(theta), math.cos(theta), 0],\n",
        "            [0, 0, 1],\n",
        "        ],\n",
        "        dtype=np.float64,\n",
        "    )"
      ],
      "execution_count": 0,
      "outputs": []
    },
    {
      "cell_type": "markdown",
      "id": "8tiZXWCRRNz1NXbL04CRQ",
      "metadata": {},
      "source": [
        "The following code transforms matrix $A$ by right  multiplying 3D rotation matrices $R_x$, $R_y$ and $R_z$ (rotation around x, y, or z-axis respectively).\n",
        ""
      ]
    },
    {
      "cell_type": "code",
      "id": "fkQ-nsp6SF0haE1y8VJgm",
      "metadata": {},
      "source": [
        "#rotation angle\n",
        "angle = 60 #degrees\n",
        "theta = np.radians(angle) #radians\n",
        "\n",
        "#3d rotation around X-axis\n",
        "R_x = get_3d_rotation_matrix(theta, axis=0)\n",
        "print('3d rotation  over X-axis', angle, 'degrees \\n', R_x)\n",
        "P_rx = np.dot(R_x, A)\n",
        "\n",
        "#3d rotation  around Y-axis\n",
        "R_y = get_3d_rotation_matrix(theta, axis=1)\n",
        "print('3d rotation  over Y-axis', angle, 'degrees \\n', R_y)\n",
        "P_ry = np.dot(R_y, A)\n",
        "\n",
        "#3d rotation  around Z-axis\n",
        "R_z = get_3d_rotation_matrix(theta, axis=2)\n",
        "print('3d rotation  over Z-axis', angle, 'degrees \\n', R_z)\n",
        "P_rz = np.dot(R_z, A)"
      ],
      "execution_count": 0,
      "outputs": []
    },
    {
      "cell_type": "markdown",
      "id": "7UgPwh93kk1aH-0gE1TkG",
      "metadata": {},
      "source": [
        "### Helper Functions for 3d plotting\n",
        "The following code snippet is used to plot points in 3D. The details of these methods are not essential for the core concepts of the tutorial. \n",
        ""
      ]
    },
    {
      "cell_type": "code",
      "id": "5ht3NiNOepJIyLl6CMkRk",
      "metadata": {},
      "source": [
        "def plot3d_points(points, t_points, view_point=45):\n",
        "    \"\"\"This function get a matrix of 3D points and transformed points and them in separate subplots.\n",
        "    The details are not important for understanding the course material.\n",
        "    \n",
        "    Args:\n",
        "        points: matrix of 3D points\n",
        "        t_points: matrix of transformed 3D points\n",
        "        view_point: view point if 3D plot in degree\n",
        "    \"\"\"\n",
        "    color_lut = 'rgbcmy'\n",
        "    fig, (ax, ax2) = plt.subplots(1, 2, figsize=(10, 10), subplot_kw=dict(projection='3d'))\n",
        "    ax.view_init(elev=45., azim=view_point)\n",
        "    ax2.view_init(elev=45., azim=view_point)\n",
        "    \n",
        "    xs = []\n",
        "    ys = []\n",
        "    zs = []\n",
        "\n",
        "    xs_t = []\n",
        "    ys_t = []\n",
        "    zs_t = []\n",
        "    i = 0\n",
        "    ax.scatter(0, 0, 0, color='k')\n",
        "    ax2.scatter(0, 0, 0, color='k')\n",
        "    for row, t_row in zip(points.T, t_points.T):\n",
        "        x, y, z = row\n",
        "        xs.append(x)\n",
        "        ys.append(y)\n",
        "        zs.append(z)\n",
        "        c = color_lut[i]  # these are the same but, its good to be explicit\n",
        "        ax.scatter(x, y, z, color=c)\n",
        "\n",
        "        x_t, y_t, z_t = t_row\n",
        "        xs_t.append(x_t)\n",
        "        ys_t.append(y_t)\n",
        "        zs_t.append(z_t)\n",
        "        c_t = color_lut[i]  # these are the same but, its good to be explicit\n",
        "        ax2.scatter(x_t, y_t, z_t, color=c_t)\n",
        "\n",
        "        i += 1\n",
        "\n",
        "    xs.append(xs[0])\n",
        "    ys.append(ys[0])\n",
        "    zs.append(zs[0])\n",
        "    ax.plot(xs, ys, zs, color=\"gray\", linestyle='dotted')\n",
        "    ax.set_xlabel('X Label')\n",
        "    ax.set_ylabel('Y Label')\n",
        "    ax.set_zlabel('Z Label')\n",
        "    ax.set_xticks(np.arange(-2.5, 3, 0.5))\n",
        "    ax.set_yticks(np.arange(-2.5, 3, 0.5))\n",
        "    ax.set_zticks(np.arange(-2.5, 3, 0.5))\n",
        "    plt.grid()\n",
        "\n",
        "    xs_t.append(xs_t[0])\n",
        "    ys_t.append(ys_t[0])\n",
        "    zs_t.append(zs_t[0])\n",
        "    ax2.plot(xs_t, ys_t, zs_t, color=\"gray\", linestyle='dotted')\n",
        "    ax2.set_xlabel('X Label')\n",
        "    ax2.set_ylabel('Y Label')\n",
        "    ax2.set_zlabel('Z Label')\n",
        "    ax2.set_xticks(np.arange(-2.5, 3, 0.5))\n",
        "    ax2.set_yticks(np.arange(-2.5, 3, 0.5))\n",
        "    ax2.set_zticks(np.arange(-2.5, 3, 0.5))\n",
        "    plt.grid()\n",
        "\n",
        "    plt.show()"
      ],
      "execution_count": 0,
      "outputs": []
    },
    {
      "cell_type": "markdown",
      "id": "ysQDgSv4TLslb_V48Dgtp",
      "metadata": {},
      "source": [
        "`plot3d_points`\n",
        " is used to plot the points $A$ and rotated points $P_{rx}$, $P_{ry}$ and $P_{rz}$.\n",
        ""
      ]
    },
    {
      "cell_type": "code",
      "id": "1l1OIKt1jssjn6w6yFQpt",
      "metadata": {},
      "source": [
        "#3d rotation  over X-axis\n",
        "print('3D rotation  over X-axis', angle, 'degrees \\n')\n",
        "plot3d_points(A, P_rx)\n",
        "\n",
        "#3d rotation  over Y-axis\n",
        "print('3D rotation  over Y-axis', angle, 'degrees \\n')\n",
        "plot3d_points(A, P_ry)\n",
        "\n",
        "#3d rotation  over Z-axis\n",
        "print('3D rotation  over Z-axis', angle, 'degrees \\n')\n",
        "plot3d_points(A, P_rz)"
      ],
      "execution_count": 0,
      "outputs": []
    },
    {
      "cell_type": "markdown",
      "id": "RxxFAgjU_bm3tkVas5Hrx",
      "metadata": {},
      "source": [
        "#### 3D scaling\n",
        "The scaling matrix ($S$) in three dimensions is given by:\n",
        "\n",
        "$$S = \\begin{bmatrix}\n",
        "\t\ts_x & 0 & 0\\\\\n",
        "\t\t0 & s_y & 0 \\\\\n",
        "        0 & 0 & s_z\n",
        "\t\\end{bmatrix}\n",
        ",$$\n",
        "Three 3D-points are transformed with the scaling matrix and plotted with the original points for reference. \n",
        ""
      ]
    },
    {
      "cell_type": "code",
      "id": "Df6974KQBtVYC91kzMlG-",
      "metadata": {},
      "source": [
        "# 3D points \n",
        "a, b, c = (1, 0,0), (0, 1,0), (0, 0,1)\n",
        "\n",
        "# Matrix with row vectors of points\n",
        "A = np.array([a, b, c]).T\n",
        "\n",
        "# 3D-Scaling  \n",
        "T_3d_s=np.array([[2,0,0],[0,1,0],[0,0,3]])\n",
        "print('3d Sacaling \\n',T_3d_s)\n",
        "P_3d_s=np.dot(T_3d_s,A)\n",
        "plot3d_points(A,P_3d_s)"
      ],
      "execution_count": 0,
      "outputs": []
    },
    {
      "cell_type": "markdown",
      "id": "UfeanXRUkoUIz8cVt1duK",
      "metadata": {},
      "source": [
        "### Commutative property in 3D rotation\n",
        "The composition of 3D rotations is generally not commutative (the order of the matrices in the composition matter). \n",
        "The code below shows how different compositions of rotations will give different results:\n",
        ""
      ]
    },
    {
      "cell_type": "code",
      "id": "Bl-1HJZp1K0RpcpSbAzsx",
      "metadata": {},
      "source": [
        "#Commutative property \n",
        "T_1 = R_z.dot(R_y).dot(R_x)\n",
        "T_2 = R_x.dot(R_y).dot(R_z)\n",
        "T_3 = R_x.dot(R_z).dot(R_y)\n",
        "\n",
        "print(\"T_1=R_z*R_y*R_x\")\n",
        "plot3d_points(A, np.dot(T_1, A))\n",
        "\n",
        "print(\"T_2=R_x*R_y*R_z\")\n",
        "plot3d_points(A, np.dot(T_2, A))\n",
        "\n",
        "print(\"T_3=R_x*R_z*R_y\")\n",
        "plot3d_points(A, np.dot(T_3, A))"
      ],
      "execution_count": 0,
      "outputs": []
    },
    {
      "cell_type": "markdown",
      "id": "lJps5zk3A0RPpvnYkV1jG",
      "metadata": {},
      "source": [
        "Compositions of 3D rotations around the same axis _are commutative_. As shown in the cell below.\n",
        ""
      ]
    },
    {
      "cell_type": "code",
      "id": "dlx6BAgH6R_BgwGnMzfaK",
      "metadata": {},
      "source": [
        "#Commutative property in rotations over the same axis\n",
        "#3d rotation  over X-axis\n",
        "angle_1 = np.radians(30)\n",
        "angle_2 = np.radians(50)\n",
        "angle_3 = np.radians(70)\n",
        "R_x1 = get_3d_rotation_matrix(angle_1, axis=0)\n",
        "R_x2 = get_3d_rotation_matrix(angle_2, axis=0)\n",
        "R_x3 = get_3d_rotation_matrix(angle_3, axis=0)\n",
        "\n",
        "#building different ordering of rotations \n",
        "T_1 = R_x1.dot(R_x2).dot(R_x3)\n",
        "T_2 = R_x2.dot(R_x1).dot(R_x3)\n",
        "T_3 = R_x3.dot(R_x2).dot(R_x1)\n",
        "\n",
        "print(\"T_1=R_x1*R_x2*R_x3\")\n",
        "plot3d_points(A, np.dot(T_1, A))\n",
        "\n",
        "print(\"T_2==R_x2*R_x1*R_x3\")\n",
        "plot3d_points(A, np.dot(T_2, A))\n",
        "\n",
        "print(\"T_3==R_x3*R_x2*R_x1\")\n",
        "plot3d_points(A, np.dot(T_3, A))"
      ],
      "execution_count": 0,
      "outputs": []
    },
    {
      "cell_type": "markdown",
      "id": "be2MDdXR9GPq8f0kMfE4P",
      "metadata": {},
      "source": [
        "## Commutativity of translation and rotation in 2D\n",
        "Given the matrix $A =\\begin{bmatrix} 0 & 1 & 0 & -1\\\\\n",
        "              1 & -1 & -1 & 0 \\end{bmatrix}$  (where each column contains a point):\n",
        ""
      ]
    },
    {
      "cell_type": "code",
      "id": "iVFw5r5xGHK34tBaQTjTn",
      "metadata": {},
      "source": [
        "# points a, b, c and d\n",
        "a, b, c, d = (0, 1), (1, 0), (0, -1), (-1, 0)\n",
        "\n",
        "# matrix with row vectors of points\n",
        "A = np.array([a, b, c, d]).T"
      ],
      "execution_count": 0,
      "outputs": []
    },
    {
      "cell_type": "markdown",
      "id": "wL6MG5g2Lz1PF2T-uVkhR",
      "metadata": {},
      "source": [
        "The following code cell first applies a rotation of $90^\\circ$ and then a translation of $\\begin{bmatrix}1\\\\2\\end{bmatrix}$: \n",
        ""
      ]
    },
    {
      "cell_type": "code",
      "id": "UrcxgNR3Z9noaUFB5u6k_",
      "metadata": {},
      "source": [
        "# rotation and translation\n",
        "T_t = np.array([[1], [2]])\n",
        "T_r = np.array([[0, 1], [-1, 0]]).T\n",
        "P_r = T_r @ A\n",
        "P_rt = P_r + T_t\n",
        "plot_points(P_r, P_rt)"
      ],
      "execution_count": 0,
      "outputs": []
    },
    {
      "cell_type": "markdown",
      "id": "2r-Rt26oP2_QlJpDNN78q",
      "metadata": {},
      "source": [
        "In the following cell, the translation is performed first, followed by the rotation:\n",
        ""
      ]
    },
    {
      "cell_type": "code",
      "id": "hjJif1R5YihdT2h9UWuip",
      "metadata": {},
      "source": [
        "#2- translation and rotation\n",
        "P_t = A + T_t\n",
        "P_tr = T_r @ P_t\n",
        "plot_points(P_t,P_tr)"
      ],
      "execution_count": 0,
      "outputs": []
    },
    {
      "cell_type": "markdown",
      "id": "Sgk7xk90GIiR31oDarj_B",
      "metadata": {},
      "source": [
        "<article class=\"message is-info\">\n",
        "  <div class=\"message-header\">Info</div>\n",
        "  <div class=\"message-body\">\n",
        "\n",
        "  Observe how the order of the transformations affects the outputs.\n",
        "\n",
        "\n",
        "  </div>\n",
        "</article>\n",
        "### Homogeneous coordinates\n",
        "Affine transformations can conveniently be expressed as a matrix multiplication using homogeneous coordinates.\n",
        "The following example illustrates a transformation consisting of a rotation and a translation using homogeneous coordinates:\n",
        "\n",
        "$$\n",
        "T=\\begin{bmatrix}\\cos\\theta&-\\sin\\theta & x_t\\\\\\sin\\theta& \\cos\\theta & y_t\\\\ 0&0&1\\end{bmatrix}\n",
        "$$\n",
        "<article class=\"message is-info\">\n",
        "  <div class=\"message-header\">Info</div>\n",
        "  <div class=\"message-body\">\n",
        "\n",
        "  $T$ is a particular simple kind of affine transformation called a _similarity transform_.\n",
        "\n",
        "\n",
        "  </div>\n",
        "</article>\n",
        "Applying the transformation yields:\n",
        "\n",
        "$$\n",
        "\\begin{bmatrix}x'\\\\ y'\\\\1\\end{bmatrix} = T\\begin{bmatrix}x\\\\ y\\\\1\\end{bmatrix}.\n",
        "$$\n",
        "The cell below provides the functions `to_homogeneous`\n",
        " and `to_euclidean`\n",
        " for easy conversion of points:\n",
        ""
      ]
    },
    {
      "cell_type": "code",
      "id": "BSMv6CTgUKSylO6beVVbR",
      "metadata": {},
      "source": [
        "def to_homogeneous(points):\n",
        "    \"\"\"Transform points to homogeneous coordinates.\"\"\"\n",
        "    return np.vstack((points, np.ones((1, points.shape[1]))))\n",
        "\n",
        "\n",
        "def to_euclidean(points):\n",
        "    \"\"\"Transform homogeneous points to euclidean points.\"\"\"\n",
        "    return points[:2] / points[2]"
      ],
      "execution_count": 0,
      "outputs": []
    },
    {
      "cell_type": "markdown",
      "id": "YHMgEy1JB-aozl0GvYJ_f",
      "metadata": {},
      "source": [
        "The cell below transforms the points in $A$ into homogeneous coordinates:\n",
        ""
      ]
    },
    {
      "cell_type": "code",
      "id": "_1KyqxJ8FpvmG5Ts2BCIX",
      "metadata": {},
      "source": [
        "#Affine transformation (rotation nad translation)\n",
        "print('points in euclidean coordinates \\n', A)\n",
        "A_h = to_homogeneous(A)\n",
        "print('points in homogeneous coordinates \\n', A_h)"
      ],
      "execution_count": 0,
      "outputs": []
    },
    {
      "cell_type": "markdown",
      "id": "kZ2iIzJmGEbx2-PEX_Uzh",
      "metadata": {},
      "source": [
        "The following code defines the affine transformation $T_A$ and apply it to the converted points in matrix $A_h$. \n",
        "\n",
        "$$\n",
        "T_A=\\begin{bmatrix}0 & -1 & 1 \\\\ 1 & 0 & 2 \\\\ 0 & 0 & 1\\end{bmatrix}\n",
        "$$\n",
        ""
      ]
    },
    {
      "cell_type": "code",
      "id": "Xnbg9Okv2_1YZmmnJdPsf",
      "metadata": {},
      "source": [
        "#Affine transformation (rotation then translation)\n",
        "T_A = np.array([[0, 1, 0], [-1, 0, 0], [1, 2, 1]]).T\n",
        "print('Affine transformation \\n', T_A)\n",
        "A_h_prime = np.dot(T_A, A_h)\n",
        "print('transformed points in homogeneous coordinate \\n', A_h_prime)"
      ],
      "execution_count": 0,
      "outputs": []
    },
    {
      "cell_type": "markdown",
      "id": "LWCPYmb0USwbm-0-DJX7M",
      "metadata": {},
      "source": [
        "Finally, the points are converted from homogeneous coordinates $A'_h$ to Euclidean coordinates by using `to_euclidean`\n",
        ". The points are plotted below:\n",
        ""
      ]
    },
    {
      "cell_type": "code",
      "id": "Y5ievHDfJp2cDKSpB8FzH",
      "metadata": {},
      "source": [
        "A_prime = to_euclidean(A_h_prime)\n",
        "print('transformed points in euclidean coordinates \\n', A_prime)\n",
        "plot_points(A, A_prime)"
      ],
      "execution_count": 0,
      "outputs": []
    },
    {
      "cell_type": "markdown",
      "id": "3SS6AhhgV6RbY12BmLr0w",
      "metadata": {},
      "source": [
        "<article class=\"message is-info\">\n",
        "  <div class=\"message-header\">Info</div>\n",
        "  <div class=\"message-body\">\n",
        "\n",
        "  Note the transformed points using affine transformation ($A'$) are exactly the same as points transformed by combination of rotation then translation ($P_{rt}$) in previous example.\n",
        "\n",
        "\n",
        "  </div>\n",
        "</article>\n",
        ""
      ]
    }
  ]
}