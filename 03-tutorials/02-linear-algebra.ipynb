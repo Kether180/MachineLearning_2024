{
  "metadata": {
    "kernelspec": {
      "display_name": "Python",
      "language": "python3",
      "name": "python3"
    },
    "language_info": {
      "codemirror_mode": {
        "name": "ipython",
        "version": 3
      },
      "file_extension": "py",
      "mimetype": "text/x-python",
      "name": "python"
    }
  },
  "nbformat": 4,
  "nbformat_minor": 5,
  "cells": [
    {
      "cell_type": "code",
      "id": "css_setup",
      "metadata": {
        "jupyter": {
          "source_hidden": true
        }
      },
      "source": [
        "import requests\n",
        "from IPython.core.display import HTML\n",
        "HTML(f\"\"\"\n",
        "<style>\n",
        "@import \"https://cdn.jsdelivr.net/npm/bulma@0.9.4/css/bulma.min.css\";\n",
        "</style>\n",
        "\"\"\")"
      ],
      "execution_count": 0,
      "outputs": []
    },
    {
      "cell_type": "markdown",
      "id": "9jlh1rNY82hvWv1WtHwjF",
      "metadata": {},
      "source": [
        "# Linear Algebra\n",
        "This tutorial will cover basic terms in linear algebra and their implementation in NumPy. \n",
        "The tutorial includes:\n",
        "1. Data structures in linear algebra \n",
        "2. Vectors operations (addition , inner product, length vs number of elements ...)\n",
        "3. Matrix operations \n",
        "4. Special matrices\n",
        "5. Determinant and inverse of a matrix\n",
        "\n",
        "## Data structures in linear algebra\n",
        "Define:\n",
        "- Scalar: Single number\n",
        "- Vector: Array of numbers\n",
        "- Matrix: 2-dimensional array of numbers\n",
        "- Tensor: $n$-dimensional array of numbers where $n > 2$\n",
        "\n",
        "NumPy represents a vector as a 1-D array, a matrix as a 2-D array (array of arrays), and an $n$-tensor as a $n$-dimensional array (e.g. A 3D-tensor is an array of 2D arrays etc.):\n",
        "<div class=\"has-text-centered\">\n",
        "<figure class=\"image is-inline-block\" id=\"arrays\">\n",
        "\n",
        "<img src=\"data:image/png;base64,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\" class=\"figure-img img-fluid rounded\" style=\"width:50%\" />\n",
        "\n",
        "<figcaption class=\"figure-caption has-text-centered\">Figure 1</figcaption>\n",
        "</figure>\n",
        "</div>\n",
        "The following cells demonstrates how to create Numpy arrays:\n",
        ""
      ]
    },
    {
      "cell_type": "code",
      "id": "AkvvHn6lqwsjfUBiRDVpe",
      "metadata": {},
      "source": [
        "#import the numpy lib\n",
        "import numpy as np"
      ],
      "execution_count": 0,
      "outputs": []
    },
    {
      "cell_type": "markdown",
      "id": "FLp04aBasw1hkvAErml9g",
      "metadata": {},
      "source": [
        ""
      ]
    },
    {
      "cell_type": "code",
      "id": "-fEHPZNE-dKYu817NdOzH",
      "metadata": {},
      "source": [
        "#Vector with 4 elements:\n",
        "a = np.array([1, 6, 3, 1])\n",
        "print(a)"
      ],
      "execution_count": 0,
      "outputs": []
    },
    {
      "cell_type": "markdown",
      "id": "PK5SqVLDuDtwLIcL8A66d",
      "metadata": {},
      "source": [
        ""
      ]
    },
    {
      "cell_type": "code",
      "id": "nyClSFbcJ-ufu5LyY5PtM",
      "metadata": {},
      "source": [
        "# A 2x4 matrix:\n",
        "A = np.array([[1, 42, 6, 4], [2, 6, 87, 2]])\n",
        "print(A)"
      ],
      "execution_count": 0,
      "outputs": []
    },
    {
      "cell_type": "markdown",
      "id": "aeC2al4t0hU_XfN9NFEFl",
      "metadata": {},
      "source": [
        ""
      ]
    },
    {
      "cell_type": "code",
      "id": "CoRvjhAdZnTIUZll9R-j0",
      "metadata": {},
      "source": [
        "#print the size of the matrix\n",
        "print(A.shape)"
      ],
      "execution_count": 0,
      "outputs": []
    },
    {
      "cell_type": "markdown",
      "id": "e4G0qOokyI22KNt2oSZIo",
      "metadata": {},
      "source": [
        ""
      ]
    },
    {
      "cell_type": "code",
      "id": "IWajIBzmAuKQrdGVqrilf",
      "metadata": {},
      "source": [
        "# A 2x2x4 tensor:\n",
        "T = np.array([[[1, 23, 3, 4], [42, 6, 7, 87]], [[9, 3, 11, 2], [2, 22, 15, 101]]])\n",
        "print(T)"
      ],
      "execution_count": 0,
      "outputs": []
    },
    {
      "cell_type": "markdown",
      "id": "l7c17EmKg1H6jcfrfRq1l",
      "metadata": {},
      "source": [
        ""
      ]
    },
    {
      "cell_type": "code",
      "id": "xTfMbkb5gcdmceYxNii_L",
      "metadata": {},
      "source": [
        "#print the size of the tensor\n",
        "print(T.shape)"
      ],
      "execution_count": 0,
      "outputs": []
    },
    {
      "cell_type": "markdown",
      "id": "NwZF8qYJ85udCP522Zh82",
      "metadata": {},
      "source": [
        "## Vector Operations\n",
        "**A vector multiplied by a scalar:** \n",
        ""
      ]
    },
    {
      "cell_type": "code",
      "id": "Cdoh6ia-fg1plIcnjjQBN",
      "metadata": {},
      "source": [
        "a = np.array([3, 22, 3, 21])\n",
        "a * 2"
      ],
      "execution_count": 0,
      "outputs": []
    },
    {
      "cell_type": "markdown",
      "id": "VJTDO-1Nj3heovoItoyNM",
      "metadata": {},
      "source": [
        "**dot product/ inner product:** The dot product (see lecture slides for details) of vectors $a$ and $b$ with $n$ elements each: \n",
        "\n",
        "$$\n",
        "a\\cdot b =\\sum_i^N a_ib_i = a^\\top b\n",
        "$$\n",
        "The **dot product** can be calculated using the Numpy function [`np.dot(a,b)`\n",
        "](https://numpy.org/devdocs/reference/generated/numpy.dot.html<elem-17>.dot)\n",
        ": \n",
        ""
      ]
    },
    {
      "cell_type": "code",
      "id": "JBkRSpcLSMHD-Qv-7Cehc",
      "metadata": {},
      "source": [
        "#Create 2 vectors v1 and b\n",
        "a = np.array([1, 2, 3, 42])\n",
        "b = np.array([2, 3, 4, 5])\n",
        "# calculate the dot product\n",
        "np.dot(a, b)"
      ],
      "execution_count": 0,
      "outputs": []
    },
    {
      "cell_type": "markdown",
      "id": "yQ40Q2jL_8v6vnpuyhsz4",
      "metadata": {},
      "source": [
        "**Summation and Subtraction of 2 vectors:**  Elementwise summation/subtraction/multiplication \n",
        "<article class=\"message is-info\">\n",
        "  <div class=\"message-header\">Note</div>\n",
        "  <div class=\"message-body\">\n",
        "  \n",
        "  The elementwise operations also exist for matrices and tensors. \n",
        "\n",
        "  \n",
        "  </div>\n",
        "</article>\n",
        "\n",
        ""
      ]
    },
    {
      "cell_type": "code",
      "id": "qOyrJR9tt0uY74PJoQMms",
      "metadata": {},
      "source": [
        "#create 2 vectors\n",
        "a = np.array([1, 2, 3, 42])\n",
        "b = np.array([2, 3, 4, 5])\n",
        "\n",
        "print(\"a + b is : \\n\", a + b)\n",
        "print(\"a - b is :  \\n\", a - b)\n",
        "print(\"a * b is :  \\n\", a * b)"
      ],
      "execution_count": 0,
      "outputs": []
    },
    {
      "cell_type": "markdown",
      "id": "kcha8VRwDjoQxlBvAeaZk",
      "metadata": {},
      "source": [
        "## Length and dimensionality of vectors\n",
        "The Euclidean distance ($L2$-norm) of a vector $a$ is the square root of the inner product \n",
        "$$ |a| =\\sqrt{\\sum_i^N a_i^2 }= \\sqrt{a^\\top a}$$\n",
        ".\n",
        ""
      ]
    },
    {
      "cell_type": "code",
      "id": "Vov6_E8q8NVL26cUWj_Px",
      "metadata": {},
      "source": [
        "# inner product of v1 with itself\n",
        "a_a_inner_product = np.dot(a, a)\n",
        "Euc_len_a = np.sqrt(a_a_inner_product)\n",
        "print('Euclidean distance of v1:', Euc_len_a)"
      ],
      "execution_count": 0,
      "outputs": []
    },
    {
      "cell_type": "markdown",
      "id": "eMVJ8phmFTmI963djr3-q",
      "metadata": {},
      "source": [
        "The Euclidean length can also be determined by a single built-in numpy function [`np.linalg.norm()`\n",
        "](https://numpy.org/doc/stable/reference/generated/numpy.linalg.norm.html<elem-26>.linalg.norm)\n",
        "\n",
        ""
      ]
    },
    {
      "cell_type": "code",
      "id": "yw0wAzbCgpi3M87WZLHoO",
      "metadata": {},
      "source": [
        "print('Euclidean distance of v1:', np.linalg.norm(a))"
      ],
      "execution_count": 0,
      "outputs": []
    },
    {
      "cell_type": "markdown",
      "id": "CuokxAw3NkKa-oJi6Sihh",
      "metadata": {},
      "source": [
        "### Orthogonal and normal vectors\n",
        "Vectors $a$ and $b$ are considered orthogonal/perpendicular if $ a^\\top b=0$.\n",
        "<article class=\"message is-info\">\n",
        "  <div class=\"message-header\">Recall</div>\n",
        "  <div class=\"message-body\">\n",
        "  \n",
        "  Recall that the dot product is related to the angle between vectors $a$ and $b$:\n",
        "\n",
        "$$\n",
        "\\cos(\\theta)  = \\frac{a \\cdot b}{\\|a\\| \\|b\\|}\n",
        "$$\n",
        "\n",
        "  \n",
        "  </div>\n",
        "</article>\n",
        "\n",
        ""
      ]
    },
    {
      "cell_type": "code",
      "id": "dDTC242J2YcOTPkLVFFYw",
      "metadata": {},
      "source": [
        "# Orthognonal vectors\n",
        "a = np.array([1, -2, 4])\n",
        "b = np.array([2, 5, 2])\n",
        "\n",
        "print(a.dot(b))  ## Alternative way to do dot product. Equivalent to (np.dot(a,b))"
      ],
      "execution_count": 0,
      "outputs": []
    },
    {
      "cell_type": "markdown",
      "id": "Boj8e8eTp9FV6RSx8BnEH",
      "metadata": {},
      "source": [
        "**Orthonormal vectors:** Defined as two orthogonal vectors both with unit length.\n",
        "In the cell below, orthogonal vectors `a`\n",
        " and `b`\n",
        " are normalized by division with their length. \n",
        ""
      ]
    },
    {
      "cell_type": "code",
      "id": "hU7Gs9U_uknIhrBPKkEx8",
      "metadata": {},
      "source": [
        "a_normalized = a / np.linalg.norm(a)\n",
        "print('a_normalized:', a_normalized)\n",
        "b_normalized = b / np.linalg.norm(b)\n",
        "print('b_normalized:', b_normalized)\n",
        "\n",
        "#inner product of orthonormal vectors\n",
        "print('inner product of a_normalized and b_normalized: \\n', a_normalized.dot(b_normalized))"
      ],
      "execution_count": 0,
      "outputs": []
    },
    {
      "cell_type": "markdown",
      "id": "3NskD_pAcwZN_QlOGq-cx",
      "metadata": {},
      "source": [
        "## Matrix Operations\n",
        "The following section provides an overview of important matrix properties and well-known matrix compositions. \n",
        "**Square matrix:** A two-dimensional array with the same number of rows and columns.\n",
        ""
      ]
    },
    {
      "cell_type": "code",
      "id": "FJoJBfHEbmqa_7KVenCNm",
      "metadata": {},
      "source": [
        "A = np.random.randint(5, size=(3, 3))\n",
        "A"
      ],
      "execution_count": 0,
      "outputs": []
    },
    {
      "cell_type": "markdown",
      "id": "WpVPRIYxhUJg6L4hUtO_L",
      "metadata": {},
      "source": [
        "**Identity matrix** is a square matrix that contains ones on the diagonal and zeros elsewhere.\n",
        "The NumPy function [`np.identity(N)`\n",
        "](https://numpy.org/doc/stable/reference/generated/numpy.identity.html#numpy-identity)\n",
        " creates an identity matrix with N elements on the diagonal. \n",
        ""
      ]
    },
    {
      "cell_type": "code",
      "id": "9glbsm4XuN-FsgtAqvkVG",
      "metadata": {},
      "source": [
        "I3 = np.identity(3)\n",
        "I3"
      ],
      "execution_count": 0,
      "outputs": []
    },
    {
      "cell_type": "markdown",
      "id": "3Ya2U6QKuQFkVXwIK7Cyl",
      "metadata": {},
      "source": [
        ""
      ]
    },
    {
      "cell_type": "code",
      "id": "WJ0MZKz05DTQwStLdnf06",
      "metadata": {},
      "source": [
        "I4 = np.identity(4)\n",
        "I4"
      ],
      "execution_count": 0,
      "outputs": []
    },
    {
      "cell_type": "markdown",
      "id": "W2eCedqXVZfKemFMt-JhA",
      "metadata": {},
      "source": [
        "**Diagonal matrix:** A diagonal matrix is a matrix with non-zero elements in the diagonal and zeroes elsewhere.\n",
        "The NumPy function `np.diag(a)`\n",
        " creates a 2D array (diagonal matrix)\n",
        "given a 1D array (list/vector containing diagonal elements) as input. \n",
        ""
      ]
    },
    {
      "cell_type": "code",
      "id": "A84lPQ4XFniThCZjzurnb",
      "metadata": {},
      "source": [
        "# Create an array:\n",
        "v = np.array([3., 2., 5.])"
      ],
      "execution_count": 0,
      "outputs": []
    },
    {
      "cell_type": "markdown",
      "id": "hIUnB9g209cLkjit8XRDf",
      "metadata": {},
      "source": [
        ""
      ]
    },
    {
      "cell_type": "code",
      "id": "wJqNZlyIqKS_euu_4ZrGg",
      "metadata": {},
      "source": [
        "# Create a matrix with elements of v on the diagonal:\n",
        "D = np.diag(v)\n",
        "print(D)"
      ],
      "execution_count": 0,
      "outputs": []
    },
    {
      "cell_type": "markdown",
      "id": "NJ_nXAZYxOP5g9PGYEhuG",
      "metadata": {},
      "source": [
        "## Matrix multiplication\n",
        "**Matrix multiplication of two matrices consist of inner products of row-column pairs:**\n",
        "Consider the matrices A1 and A2:\n",
        ""
      ]
    },
    {
      "cell_type": "code",
      "id": "r9dNw7MStgik3iZRNQqDC",
      "metadata": {},
      "source": [
        "A1 = np.array([[1, 3, 0], [4, 4, 4]])\n",
        "A2 = np.array([[2, 2], [0, 4], [2, 3]])"
      ],
      "execution_count": 0,
      "outputs": []
    },
    {
      "cell_type": "markdown",
      "id": "XDrqnhdXHop4tAdsDtoQ6",
      "metadata": {},
      "source": [
        "<article class=\"message is-warning\">\n",
        "  <div class=\"message-header\">Tip</div>\n",
        "  <div class=\"message-body\">\n",
        "  \n",
        "  In Numpy, matrices (and other arrays) are zero-indexed like regular Python lists. This is in contrast to mathematical notation, which is one-indexed.\n",
        "\n",
        "  \n",
        "  </div>\n",
        "</article>\n",
        "\n",
        "In the following, we demonstrate matrix multiplication as a series of inner products. The cell below shows matrix multiplication of `A1`\n",
        " and `A2`\n",
        " using the `dot`\n",
        " function in Numpy: \n",
        ""
      ]
    },
    {
      "cell_type": "code",
      "id": "8hfWEO1FsT_TSZD4fOvG0",
      "metadata": {},
      "source": [
        "np.dot(A1, A2)"
      ],
      "execution_count": 0,
      "outputs": []
    },
    {
      "cell_type": "markdown",
      "id": "Xh0TzsWqW6KlqBeJrV6TH",
      "metadata": {},
      "source": [
        "The first element ($2$) of the result is calculated as the inner product of the first row of `A1`\n",
        " and the first column of `A2`\n",
        ":\n",
        ""
      ]
    },
    {
      "cell_type": "code",
      "id": "Qmocf7KGXSBJAYMPpAyct",
      "metadata": {},
      "source": [
        "#A1 first row, A2 first column : position [1,1]\n",
        "np.dot(A1[0, :], A2[:, 0])"
      ],
      "execution_count": 0,
      "outputs": []
    },
    {
      "cell_type": "markdown",
      "id": "jGz12_u0nwbsAE1iILwRt",
      "metadata": {},
      "source": [
        "Similarly, the other elements can be calculated using the appropriate combinations of rows `A1`\n",
        " and columns in `A2`\n",
        ": \n",
        ""
      ]
    },
    {
      "cell_type": "code",
      "id": "rPTWMxUBzJ_S16laOfkyd",
      "metadata": {},
      "source": [
        "#A1 second row, A2 first column : position [2,1]\n",
        "print(\"A1 second row, A2 first column:\", np.dot(A1[1, :], A2[:, 0]))\n",
        "\n",
        "#A1 first row, A2 second column : position [1,2]\n",
        "print(\"A1 first row, A2 second column:\", np.dot(A1[0, :], A2[:, 1]))\n",
        "\n",
        "#A1 second row, A2 second column : position [2,2]\n",
        "print(\"A1 second row, A2 second column:\", np.dot(A1[1, :], A2[:, 1]))"
      ],
      "execution_count": 0,
      "outputs": []
    },
    {
      "cell_type": "markdown",
      "id": "NZ-CbLhaVCR-1sarENt3r",
      "metadata": {},
      "source": [
        "### Identity matrix\n",
        "Multiplying a matrix A (from either left or right) with the identity matrix yields the matrix A. Thus, \n",
        "\n",
        "$$AI = A = IA.$$\n",
        "\n",
        "An example is provided below:\n",
        ""
      ]
    },
    {
      "cell_type": "code",
      "id": "BpMdYX8SrEYpt6OCpua2f",
      "metadata": {},
      "source": [
        "# create 3x3 matrix A with random values between 0 and 4.\n",
        "A = np.random.randint(5, size=(3, 3))\n",
        "\n",
        "# create 3x3 identity matrix.\n",
        "I = np.identity(3)\n",
        "\n",
        "# multiply the matrices\n",
        "R = np.dot(A, I)\n",
        "\n",
        "print(\"A:\\n\", A, \"\\nI:\\n\", I, \"\\nmultiplication result:\\n\", R)"
      ],
      "execution_count": 0,
      "outputs": []
    },
    {
      "cell_type": "markdown",
      "id": "wx7wcjaCJi_onJQDhTsLa",
      "metadata": {},
      "source": [
        "## Determinant and inverse of a matrix\n",
        "We use [`np.linalg.det()`\n",
        "](https://numpy.org/doc/stable/reference/generated/numpy.linalg.det.html<elem-59>.linalg.det)\n",
        " to get determinant of a matrix. \n",
        ""
      ]
    },
    {
      "cell_type": "code",
      "id": "IbCP2A5K7Ygn1Gt7zSElZ",
      "metadata": {},
      "source": [
        "# example matrices\n",
        "A = np.array([[1, 1, 1], [0, 2, 5], [2, 5, -1]])\n",
        "B = np.array([[0, 0, 0], [0, 2, 5], [2, 5, -1]])\n",
        "\n",
        "# calculate the determinant \n",
        "print(\"det(A):\", np.linalg.det(A))\n",
        "print(\"det(B):\", np.linalg.det(B))"
      ],
      "execution_count": 0,
      "outputs": []
    },
    {
      "cell_type": "markdown",
      "id": "T3WYrZLUvJNDs65P2U_Fn",
      "metadata": {},
      "source": [
        "The function [`np.linalg.inv(A)`\n",
        "](https://numpy.org/doc/stable/reference/generated/numpy.linalg.inv.html<elem-62>.linalg.inv)\n",
        " can be used to calculate the inverse of a matrix. \n",
        "<article class=\"message is-info\">\n",
        "  <div class=\"message-header\">Note</div>\n",
        "  <div class=\"message-body\">\n",
        "  \n",
        "  The function returns an error when the matrix is singular (i.e. the determinant is zero).\n",
        "\n",
        "  \n",
        "  </div>\n",
        "</article>\n",
        "\n",
        ""
      ]
    },
    {
      "cell_type": "code",
      "id": "ZjOapNRkdL8MG6SyQUQdq",
      "metadata": {},
      "source": [
        "print(\"A^-1:\", np.linalg.inv(A))\n",
        "print(\"B^-1:\", np.linalg.inv(B))  # This yields an error because B is singular"
      ],
      "execution_count": 0,
      "outputs": []
    },
    {
      "cell_type": "markdown",
      "id": "nYAS0DBCgA5PIOgH_TVfx",
      "metadata": {},
      "source": [
        "The matrix A multiplied by its inverse yields the identity matrix:\n",
        ""
      ]
    },
    {
      "cell_type": "code",
      "id": "iM-j6DVUs793OxiizAFA3",
      "metadata": {},
      "source": [
        "np.dot(A, np.linalg.inv(A))"
      ],
      "execution_count": 0,
      "outputs": []
    },
    {
      "cell_type": "markdown",
      "id": "pEaSkpZtjkm_jx4WogE6g",
      "metadata": {},
      "source": [
        "<article class=\"message is-info\">\n",
        "  <div class=\"message-header\">Note</div>\n",
        "  <div class=\"message-body\">\n",
        "  \n",
        "  The result of the calculation above may be slightly off. This is due to the limitations of floating point numbers.\n",
        "\n",
        "  \n",
        "  </div>\n",
        "</article>\n",
        "\n",
        "### Diagonal matrices (determinant and inversion)\n",
        ""
      ]
    },
    {
      "cell_type": "code",
      "id": "Yb2f9JnWKHPKbBG7rrbU1",
      "metadata": {},
      "source": [
        "# Create a diagonal matrix \n",
        "A = np.diag([5, 2, 3])\n",
        "A"
      ],
      "execution_count": 0,
      "outputs": []
    },
    {
      "cell_type": "markdown",
      "id": "unPAKTqEvfZaCEMSsBEoj",
      "metadata": {},
      "source": [
        "The determinant of a diagonal matrix is the product of the elements on the diagonal. \n",
        ""
      ]
    },
    {
      "cell_type": "code",
      "id": "FqiT6z2DmxZPG6SOz6hjL",
      "metadata": {},
      "source": [
        "np.linalg.det(A)"
      ],
      "execution_count": 0,
      "outputs": []
    },
    {
      "cell_type": "markdown",
      "id": "oHu6f-rP2vLDndZDrcI0Z",
      "metadata": {},
      "source": [
        "The inverse of a diagonal matrix is the reciprocal of each element on the diagonal.\n",
        ""
      ]
    },
    {
      "cell_type": "code",
      "id": "zG5zlWoWCzRi3QnOIedj8",
      "metadata": {},
      "source": [
        "np.linalg.inv(A)"
      ],
      "execution_count": 0,
      "outputs": []
    },
    {
      "cell_type": "markdown",
      "id": "B9BhNQSkdAq36oDAqe4NW",
      "metadata": {},
      "source": [
        "This concludes the tutorial.\n",
        ""
      ]
    }
  ]
}