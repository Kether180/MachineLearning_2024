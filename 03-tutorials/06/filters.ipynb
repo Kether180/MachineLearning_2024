{
  "metadata": {
    "kernelspec": {
      "display_name": "Python",
      "language": "python3",
      "name": "python3"
    },
    "language_info": {
      "codemirror_mode": {
        "name": "ipython",
        "version": 3
      },
      "file_extension": "py",
      "mimetype": "text/x-python",
      "name": "python"
    }
  },
  "nbformat": 4,
  "nbformat_minor": 5,
  "cells": [
    {
      "cell_type": "code",
      "id": "css_setup",
      "metadata": {
        "jupyter": {
          "source_hidden": true
        }
      },
      "source": [
        "import requests\n",
        "from IPython.core.display import HTML\n",
        "HTML(f\"\"\"\n",
        "<style>\n",
        "@import \"https://cdn.jsdelivr.net/npm/bulma@0.9.4/css/bulma.min.css\";\n",
        "</style>\n",
        "\"\"\")"
      ],
      "execution_count": 0,
      "outputs": []
    },
    {
      "cell_type": "markdown",
      "id": "6qfcxStYFZiXp9ZSgcfh4",
      "metadata": {},
      "source": [
        "# Filters and Denoising Introduction\n",
        "This tutorial demonstrates convolution using the _scikit-image_ library. The tutorial will cover:\n",
        "- Convolution/correlation with manual and predefined filters.\n",
        "- Explicitly construct filters to perform specific operations.\n",
        "\n",
        "As a first step, it is necessary to import the libraries:\n",
        ""
      ]
    },
    {
      "cell_type": "code",
      "id": "lHB4QjGOEX-JTH9EMa1EU",
      "metadata": {},
      "source": [
        "import numpy as np\n",
        "import matplotlib.pyplot as plt\n",
        "from scipy.ndimage import convolve\n",
        "from skimage import data, filters\n",
        "from scipy import signal\n",
        "import scipy\n",
        "import scipy.ndimage as sp\n",
        "import seaborn as sns\n",
        "import pandas as pd\n",
        "from skimage import data, color\n",
        "from scipy.signal import convolve2d"
      ],
      "execution_count": 0,
      "outputs": []
    },
    {
      "cell_type": "markdown",
      "id": "Jgm0_yKLFj6aWLH8GoLEp",
      "metadata": {},
      "source": [
        "Scikit-Image has many example images that can be obtained (see the [documentation](https://scikit-image.org/docs/stable/api/skimage.data.html)\n",
        " for a complete list). You can change the name and view some of the provided images in the cell below:\n",
        ""
      ]
    },
    {
      "cell_type": "code",
      "id": "byuwAevYTJF_uDF-nZwHT",
      "metadata": {},
      "source": [
        "print(data.__all__)\n",
        "plt.imshow(data.rocket(), cmap=\"gray\")\n",
        "plt.axis(False)"
      ],
      "execution_count": 0,
      "outputs": []
    },
    {
      "cell_type": "markdown",
      "id": "BBitb03UUZyXL2Zl01kAE",
      "metadata": {},
      "source": [
        "Most of the filters presented at the lecture can be obtained and applied using the `skimage.filters`\n",
        " module. For example, a gaussian filter can be applied using the `filters.gaussian`\n",
        " function as shown below. A complete reference for the included filters can be found in the [documentation](https://scikit-image.org/docs/stable/api/skimage.filters.html)\n",
        ". You can expermient with other filters and see the results. \n",
        ""
      ]
    },
    {
      "cell_type": "code",
      "id": "eM5EaTejA0Wkx8cH73Qov",
      "metadata": {},
      "source": [
        "blurred = filters.gaussian(data.rocket(), channel_axis=2, sigma=5)\n",
        "plt.imshow(blurred, cmap=\"gray\")\n",
        "plt.axis(False)"
      ],
      "execution_count": 0,
      "outputs": []
    },
    {
      "cell_type": "markdown",
      "id": "OX7dHxuHTurjycq1jp5Fe",
      "metadata": {},
      "source": [
        "## Filters from scratch\n",
        "Although Scikit-Image makes filtering simple, it is worthwhile to understand filtering in more detail.\n",
        "Let us define a mean kernel (matrix), i.e. a filter that calculates the average over a region specified by the kernel size. The kernel is defined by an  N x N matrix which determines the extent of smoothing/blurring applied to the signal. In image processing the kernel values represent the weights applied to the corresponding pixel and its neighboring pixels. A larger kernel will lead to more smoothing by averaging over a larger area. The function `mean_kernel`\n",
        " in the cell below produces a mean kernel:\n",
        ""
      ]
    },
    {
      "cell_type": "code",
      "id": "539ORK-8PwetZcDcFOi1O",
      "metadata": {},
      "source": [
        "def mean_kernel(size):\n",
        "    return np.ones((size, size, 1))/(size**2)\n",
        "\n",
        "k = mean_kernel(10)"
      ],
      "execution_count": 0,
      "outputs": []
    },
    {
      "cell_type": "markdown",
      "id": "bI8Ybn8D6l6ZGfDT77wpG",
      "metadata": {},
      "source": [
        "The cell below plots the mean kernel constructed above:\n",
        ""
      ]
    },
    {
      "cell_type": "code",
      "id": "DOXsv1X_mWC6zC4ueDgRJ",
      "metadata": {},
      "source": [
        "# Create a 10x10 grid to display the kernel values\n",
        "plt.figure(figsize=(8, 8))\n",
        "plt.imshow(k[:, :, 0], cmap='gray', interpolation='none', vmin=0, vmax=0.01, extent=[0, 10, 0, 10])  # Adjust vmin and vmax for your specific kernel values\n",
        "\n",
        "# Display the values strictly inside each cell\n",
        "for i in range(k.shape[0]):\n",
        "    for j in range(k.shape[1]):\n",
        "        plt.text(j + 0.5, i + 0.5, f'{k[i, j, 0]:.2f}', color='black', ha='center', va='center')\n",
        "\n",
        "plt.title('Mean Kernel (10x10)')\n",
        "plt.xticks(np.arange(0, 11, 1))\n",
        "plt.yticks(np.arange(0, 11, 1))\n",
        "plt.grid(color='black', linestyle='-', linewidth=0.5)\n",
        "plt.show()"
      ],
      "execution_count": 0,
      "outputs": []
    },
    {
      "cell_type": "markdown",
      "id": "K-KbnBxxRZlUAxjpAainl",
      "metadata": {},
      "source": [
        "When this kernel is convolved with an image, each pixel in the resulting image will be the average over the neighborhood of pixels, giving a smoothing effect. The cell below visualizes the image of the rocket ship with normalized pixel values, similarly to the representation of the mean kernel (for illustrative purposes the image is downsampled to 20x20 pixels): \n",
        ""
      ]
    },
    {
      "cell_type": "code",
      "id": "hFxHB9CMiCBqQaPuS9g3l",
      "metadata": {},
      "source": [
        "# Load the \"camera\" image from scikit-learn\n",
        "data1 = data.rocket()\n",
        "from skimage.transform import resize\n",
        "\n",
        "# Resize the image to a smaller size\n",
        "target_height, target_width = 20, 20  # Set your desired dimensions\n",
        "resized_image = resize(data1, (target_height, target_width))\n",
        "\n",
        "# Create a figure with two subplots\n",
        "fig, axes = plt.subplots(1, 2, figsize=(15, 8))\n",
        "\n",
        "# Plot the grid of values in the first subplot\n",
        "axes[0].imshow(np.ones_like(resized_image), cmap='gray', extent=[0, 20, 0, 20], vmin=0, vmax=1)  # Display white cells\n",
        "\n",
        "# Display the values strictly inside each cell\n",
        "for i in range(target_height):\n",
        "    for j in range(target_width):\n",
        "        pixel_value = resized_image[i, j, 0]\n",
        "        axes[0].text(j + 0.5, target_height - i - 0.5, f'{pixel_value:.2f}', color='black', ha='center', va='center')\n",
        "\n",
        "axes[0].set_title('Grid of Values (20x20)')\n",
        "axes[0].set_xticks(np.arange(0, 21, 1))\n",
        "axes[0].set_yticks(np.arange(0, 21, 1))\n",
        "axes[0].grid(color='black', linestyle='-', linewidth=0.5)\n",
        "\n",
        "# Plot the downsampled image in the second subplot without pixel values\n",
        "axes[1].imshow(resized_image, cmap='hot', vmin=0, vmax=1)\n",
        "axes[1].set_title('Downsampled Image (20x20)')\n",
        "axes[1].axis('off')  # Hide axis for the image plot\n",
        "\n",
        "plt.tight_layout()\n",
        "plt.show()"
      ],
      "execution_count": 0,
      "outputs": []
    },
    {
      "cell_type": "markdown",
      "id": "AHHNNtG-rXpFmCkqjsK6R",
      "metadata": {},
      "source": [
        "Applying the mean kernel to the image is done by using the `scipy.ndimage.convolve`\n",
        " function:\n",
        ""
      ]
    },
    {
      "cell_type": "code",
      "id": "OpWaP-xK6K4NUe4vtHzYi",
      "metadata": {},
      "source": [
        "blurred = scipy.ndimage.convolve(data.rocket(), k)\n",
        "plt.imshow(blurred)\n",
        "plt.axis(False)"
      ],
      "execution_count": 0,
      "outputs": []
    },
    {
      "cell_type": "markdown",
      "id": "yk2b07G5t6ESURq3kF9Tq",
      "metadata": {},
      "source": [
        "### Edge Filter by convolution\n",
        "Linear filters are implemented as inner products and have many applications. One particular application is to find edges in an image, by constructing a filter that calculates the partial derivatives of an image in either the $x$ or $y$ direction.\n",
        "The definition of the partial derivative of a function $f$ with respect to $x$ can be defined as:\n",
        "\n",
        "$$\n",
        "\\begin{align}\n",
        "\\frac{\\partial f(x, y)}{\\partial x} = \\lim_{\\Delta \\rightarrow 0} \\frac{f(x+\\Delta, y) - f(x,y)}{\\Delta}\n",
        "\\end{align}\n",
        "$$\n",
        "An image is a discrete approximation of the light distribution hitting the camera sensor with integer indices. The partial derivative can be approximated by setting $\\Delta$ to $1$ (smallest possible step). This method is known as the _finite differences_ method:\n",
        "\n",
        "$$\n",
        "\\begin{align}\n",
        "\\frac{\\partial f(x, y)}{\\partial x} \\approx  \\frac{f(x+1, y) - f(x,y)}{1} = f(x+1, y) - f(x, y)\n",
        "\\end{align}\n",
        "$$\n",
        "Notice that the expression is just the difference between neighboring pixels. The corresponding kernel for calculating the derivative with respect to $x$ is:\n",
        "\n",
        "$$\n",
        "k_{x} = \\begin{bmatrix}1&-1\\end{bmatrix}\n",
        "$$\n",
        "Equivalently, the kernel for calculating the derivative in the $y$-direction is:\n",
        "\n",
        "$$\n",
        "\\begin{align*}\n",
        "k_{y} &= \\begin{bmatrix}1 \\\\ -1\\end{bmatrix}\n",
        "\\end{align*}\n",
        "$$\n",
        "You may have noticed that the $1$ and $-1$ seem reversed in the kernel. This is due the definition of convolution. The cell below implements the kernel and convolves it with the image . The image is grayscale but displayed using colors for illustrative purposes:\n",
        ""
      ]
    },
    {
      "cell_type": "code",
      "id": "DpAyfcjDaXN8JqUyi7Pxp",
      "metadata": {},
      "source": [
        "k_dx = np.array([[1, -1]])\n",
        "\n",
        "image = data.camera().astype(np.float32)\n",
        "\n",
        "dx = convolve(image, k_dx)\n",
        "\n",
        "# Create a 1x2 grid of subplots\n",
        "fig, axs = plt.subplots(1, 2, figsize=(10, 5))\n",
        "\n",
        "# Plot the first image in the first subplot\n",
        "axs[0].imshow(data.camera(), cmap='copper')\n",
        "axs[0].set_title('Original Image')\n",
        "axs[0].axis('off')\n",
        "\n",
        "# Plot the result of convolution in the second subplot\n",
        "axs[1].imshow(dx, cmap='copper')\n",
        "axs[1].set_title('Convolution Result')\n",
        "axs[1].axis('off')\n",
        "\n",
        "# Display the subplots\n",
        "plt.show()"
      ],
      "execution_count": 0,
      "outputs": []
    },
    {
      "cell_type": "markdown",
      "id": "XE8TXlVQZn9N-j7h4_RsT",
      "metadata": {},
      "source": [
        "In practice, finite differences is not robust to noise, so a larger area is usually needed, which is achieved by $k_{x} = \\begin{bmatrix}1&0&-1\\end{bmatrix}$. This is because the previous kernel calculates the approximate derivative between two pixels, whereas the modified kernel calculates it at the exact pixel location.\n",
        "Additionally, the image is typically blurred (or smoothed) using a Gaussian kernel before calculating the derivative, to decrease the effect of noise and other very small features. The Gaussian filter blurs the image by convolving the image with a Gaussian kernel defined by the scale parameter (`sigma`\n",
        "). Increasing sigma leads to more blurring, because the filter becomes larger:\n",
        ""
      ]
    },
    {
      "cell_type": "code",
      "id": "XvluGYC8EXmpPpNPTbfFk",
      "metadata": {},
      "source": [
        "k_dx = np.array([[1, 0, -1]]) # The new centered kernel\n",
        "\n",
        "image_blurred = filters.gaussian(image, sigma=1) # Blurring with a Gaussian, higher sigma more blurring\n",
        "\n",
        "dx = convolve(image_blurred, k_dx)\n",
        "plt.imshow(dx, cmap='copper')\n",
        "plt.axis(False)"
      ],
      "execution_count": 0,
      "outputs": []
    },
    {
      "cell_type": "markdown",
      "id": "AXziI-HB3XNgyzwoAiuHC",
      "metadata": {},
      "source": [
        "Due to the associative property of convolution, it is possible to convolve the gaussian and derivative kernels to produce a kernel that performs both operations (differentiation and blurring). Performing a convolution operation between the derivative kernel and the Gaussian kernel is the same as to taking the derivative of the Gaussian, resulting in the creation of a new filter. In the cell below a derivative kernel (`k_dx`\n",
        ") is created then convolved with a Gaussian, and then the new filter is applied to the image. \n",
        ""
      ]
    },
    {
      "cell_type": "code",
      "id": "BuDBSSGRKwQh1JcYJsYPj",
      "metadata": {},
      "source": [
        "k_dx = np.array([\n",
        "    [0, 0, 0],\n",
        "    [1., 0, -1.],\n",
        "    [0, 0, 0]\n",
        "]) # The kernel has to be padded with zeroes, otherwise the convolution will result in a new 1x3 kernel (try it yourself if you want to see the result)\n",
        "\n",
        "k_dx_blurred = filters.gaussian(k_dx, sigma=1, preserve_range=True) # we apply the blurring to the filter instead of the image\n",
        "dx = convolve(image, k_dx_blurred) # convolve the image with the blurred filter\n",
        "\n",
        "# Create a 1x2 grid of subplots\n",
        "fig, axs = plt.subplots(1, 2, figsize=(10, 5))\n",
        "\n",
        "# Plot the first image in the first subplot\n",
        "axs[0].imshow(k_dx_blurred, cmap='copper')\n",
        "axs[0].set_title('Filter')\n",
        "axs[0].axis('off')\n",
        "\n",
        "# Plot the result of convolution in the second subplot\n",
        "axs[1].imshow(dx, cmap='copper')\n",
        "axs[1].set_title('Convolution Result')\n",
        "axs[1].axis('off')\n",
        "\n",
        "# Display the subplots\n",
        "plt.show()"
      ],
      "execution_count": 0,
      "outputs": []
    },
    {
      "cell_type": "markdown",
      "id": "sf4QSMY-Ja5rIM3MciYsN",
      "metadata": {},
      "source": [
        "There exist several predefined kernels that are capable of edge detection, albeit with slight variations to achieve certain desirable properties. One such kernel is the _sobel operator_ which is included in scikit-image. The sobel operator is used to highlight edges within an image by convolving the image with two 3x3 kernels (one for detecting changes in the horizontal direction and the other for the vertical direction). The result of applying it on the $x$-direction is shown below:\n",
        ""
      ]
    },
    {
      "cell_type": "code",
      "id": "Qljqoex9-OOxo6zI1jwRT",
      "metadata": {},
      "source": [
        "dx = filters.sobel(image, axis=1)\n",
        "plt.imshow(dx, cmap='copper')\n",
        "plt.axis(False)"
      ],
      "execution_count": 0,
      "outputs": []
    },
    {
      "cell_type": "markdown",
      "id": "IZXH6wEJPh1LpEoFXnoR2",
      "metadata": {},
      "source": [
        "So far the focus has been on horizontal edges (`k_dx`\n",
        "). The cell below defines a derivative kernel for finding derivatives (edges) in the $y$-direction. The kernel is convolved with a Gaussian kernel, before it's applied to the image:\n",
        ""
      ]
    },
    {
      "cell_type": "code",
      "id": "2Fr2OQ5bq2JzYEokeBmIS",
      "metadata": {},
      "source": [
        "k_dy = np.array([\n",
        "    [0, 1., 0],\n",
        "    [0, 0, 0],\n",
        "    [0, -1., 0]\n",
        "])\n",
        "\n",
        "k_dy_blurred = filters.gaussian(k_dy, sigma=1, preserve_range=True) # we apply the blurring to the filter instead of the image\n",
        "dy = convolve(image, k_dy_blurred) # convolve the image with the blurred filter\n",
        "plt.show()\n",
        "plt.imshow(dy, cmap='copper')\n",
        "plt.axis(False)"
      ],
      "execution_count": 0,
      "outputs": []
    },
    {
      "cell_type": "markdown",
      "id": "SK0XP2KmHODm_paa1QldC",
      "metadata": {},
      "source": [
        "By applying the horizontal and vertical edge detection kernels, areas in the image where pixel intensities change rapidly were highlighted, indicating potential edges. Remember that these kernels were convolved with a Gaussian filter for noise reduction. \n",
        "In the cell below the gradient magnitude (`gradMag`\n",
        ") is calculated, which highlights the regions of the image where there are significant intensity changes, making it easier to identify edges and key features in the image: \n",
        ""
      ]
    },
    {
      "cell_type": "code",
      "id": "IsQd77YlEx9-dePVJXjAB",
      "metadata": {},
      "source": [
        "# Perform convolution to compute horizontal and vertical gradients\n",
        "Ix = convolve(image, k_dx_blurred)\n",
        "Iy = convolve(image, k_dy_blurred)\n",
        "\n",
        "# Calculate gradient magnitude\n",
        "gradMag = np.sqrt(Ix**2 + Iy**2)\n",
        "\n",
        "# Create subplots to display the original image and gradient magnitude\n",
        "fig, axes = plt.subplots(1, 2, figsize=(10, 5))\n",
        "axes[0].imshow(image, cmap='copper')\n",
        "axes[0].set_title('Original Image')\n",
        "axes[0].axis('off')\n",
        "\n",
        "axes[1].imshow(gradMag, cmap='copper')\n",
        "axes[1].set_title('Edge and feature detection with Gradient Magnitude')\n",
        "axes[1].axis('off')\n",
        "\n",
        "plt.tight_layout()\n",
        "plt.show()"
      ],
      "execution_count": 0,
      "outputs": []
    },
    {
      "cell_type": "markdown",
      "id": "5beG4OSGtJ0z4mf83kB8j",
      "metadata": {},
      "source": [
        ""
      ]
    }
  ]
}