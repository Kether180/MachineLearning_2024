{
  "metadata": {
    "kernelspec": {
      "display_name": "Python",
      "language": "python3",
      "name": "python3"
    },
    "language_info": {
      "codemirror_mode": {
        "name": "ipython",
        "version": 3
      },
      "file_extension": "py",
      "mimetype": "text/x-python",
      "name": "python"
    }
  },
  "nbformat": 4,
  "nbformat_minor": 5,
  "cells": [
    {
      "cell_type": "code",
      "id": "css_setup",
      "metadata": {
        "jupyter": {
          "source_hidden": true
        }
      },
      "source": [
        "import requests\n",
        "from IPython.core.display import HTML\n",
        "HTML(f\"\"\"\n",
        "<style>\n",
        "@import \"https://cdn.jsdelivr.net/npm/bulma@0.9.4/css/bulma.min.css\";\n",
        "</style>\n",
        "\"\"\")"
      ],
      "execution_count": 0,
      "outputs": []
    },
    {
      "cell_type": "markdown",
      "id": "xzm33_6FZGKvKOO3Qhjur",
      "metadata": {},
      "source": [
        "# Data analysis, manipulation and plotting\n",
        "<article class=\"message is-warning\">\n",
        "  <div class=\"message-header\">Info</div>\n",
        "  <div class=\"message-body\">\n",
        "  \n",
        "  The tutorials may contain small exercises and these are all optional.\n",
        "\n",
        "  \n",
        "  </div>\n",
        "</article>\n",
        "\n",
        "## Introduction\n",
        "This tutorial will cover the following topics:\n",
        "1. Introduction to arrays and vectors in numpy.\n",
        "\n",
        "2. Loading/Saving data. \n",
        "\n",
        "3. Essential methods for data analysis/manipulation. \n",
        "\n",
        "4. Elementary plotting using matplotlib.\n",
        "\n",
        "\n",
        "Run the cell below to import Numpy and Matplotlib:\n",
        ""
      ]
    },
    {
      "cell_type": "code",
      "id": "IXgyWbazfTaoKjqw-yQ6X",
      "metadata": {},
      "source": [
        "#Import necessary libraries \n",
        "import numpy as np\n",
        "import matplotlib.pyplot as plt"
      ],
      "execution_count": 0,
      "outputs": []
    },
    {
      "cell_type": "markdown",
      "id": "CzUmewhzkYCzuvDPIvrvH",
      "metadata": {},
      "source": [
        "### Creating data in numpy\n",
        "#### Numpy arrays\n",
        "Numpy has several convenient functions for creation of arrays. The following are especially useful for this course (read more about array creation [here](https://numpy.org/doc/stable/user/basics.creation.html#array-creation)\n",
        "):\n",
        "- [`np.ones(size)`\n",
        "](https://numpy.org/doc/stable/reference/generated/numpy.ones.html<elem-3>.ones)\n",
        ", [`np.zeros(size)`\n",
        "](https://numpy.org/doc/stable/reference/generated/numpy.zeros.html)\n",
        ": Creates an array of size `size`\n",
        " with either all ones or zeros.\n",
        "- [`np.linspace(start, stop, num)`\n",
        "](https://numpy.org/doc/stable/reference/generated/numpy.linspace.html<elem-7>.linspace)\n",
        ", [`np.arange(start, stop, step)`\n",
        "](https://numpy.org/doc/stable/reference/generated/numpy.arange.html#numpy-arange)\n",
        ": Creates 1d arrays of ranges from `start`\n",
        " to `stop`\n",
        " (inclusive) using either interpolation to create `num`\n",
        " elements in the case of `linspace`\n",
        " or using a certain `step`\n",
        "-size in `arange`\n",
        ".\n",
        "- [`np.random.uniform(size)`\n",
        "](https://numpy.org/doc/stable/reference/random/generated/numpy.random.uniform.html<elem-16>.random.uniform)\n",
        ", [`np.random.normal(loc, scale, size)`\n",
        "](https://numpy.org/doc/stable/reference/random/generated/numpy.random.normal.html<elem-18>.random.normal)\n",
        ": Creates arrays with random elements drawn either from a uniform or normal/Gaussian distribution. For the gaussian, `loc`\n",
        "=$\\mu$ (mean) and `scale`\n",
        "=$\\sigma$ (standard deviation).\n",
        "\n",
        "Don't worry about memorizing them for now. \n",
        "The cell below shows a few samples of their use:\n",
        ""
      ]
    },
    {
      "cell_type": "code",
      "id": "6oa99VkvcLYIzpZuJxMzv",
      "metadata": {},
      "source": [
        "a_ones = np.ones((2, 3)) # 2 by 3 array of ones. \n",
        "a_zeros = np.zeros((3, 2)) # 2 by 3 array of ones.\n",
        "a_linspace = np.linspace(0, 10, 5) ## creates an array of 5 numbers evenly spaced from 0 to 9 (10-1 # zero indexed).\n",
        "a_arange = np.arange(0, 10, 2) # creates arrays from 0 to 9 (max) with a stride of 2. since (10>9) the max value will be 8.\n",
        "a_uniform = np.random.uniform(size= (2, 2)) # creates a 2 by 2 array of \"random\" numbers drawn from a uniform distribution. \n",
        "a_normal = np.random.normal(size=(2, 2))  # creates a 2 by 2 array of \"random\" numbers drawn from a normal/gaussian distribution. \n",
        "\n",
        "print('ones:\\n', a_ones)\n",
        "print('zeros:\\n', a_zeros)\n",
        "print('linspace:\\n', a_linspace)\n",
        "print('arange:\\n', a_arange)\n",
        "print('uniform:\\n', a_uniform)\n",
        "print('normal:\\n', a_normal)"
      ],
      "execution_count": 0,
      "outputs": []
    },
    {
      "cell_type": "markdown",
      "id": "v_QZOLhWPmUpuYbyUgKwm",
      "metadata": {},
      "source": [
        "<article class=\"message is-info\">\n",
        "  <div class=\"message-header\">Note</div>\n",
        "  <div class=\"message-body\">\n",
        "  \n",
        "  There is no need for iteration (i.e. loops) when creating arrays in numpy!\n",
        "\n",
        "  \n",
        "  </div>\n",
        "</article>\n",
        "\n",
        "## Saving arrays with numpy\n",
        "The following example shows how to save Numpy arrays. Numpy arrays can be stored in the following two formats:\n",
        "- [`np.save(save_path)`\n",
        "](https://numpy.org/doc/stable/reference/generated/numpy.save.html<elem-26>.save)\n",
        " stores the data as a compressed npy file.\n",
        "- [`np.savetxt(save_path)`\n",
        "](https://numpy.org/doc/stable/reference/generated/numpy.savetxt.html)\n",
        " stores the data as a (uncompressed txt-file).\n",
        "\n",
        ""
      ]
    },
    {
      "cell_type": "code",
      "id": "yeJzhsE0belO320B6e3bG",
      "metadata": {},
      "source": [
        "a_normal_50 = np.random.normal(size=(50,2))\n",
        "## Saving the array as a compressed npy file (numpy data format)\n",
        "np.save('./Data/RandomData.npy',a_normal_50) \n",
        "\n",
        "a_arange_50 = np.arange(0,100,2)\n",
        "np.save('./Data/StructuredData.npy',a_arange_50)\n",
        "\n",
        "#numpy can additionally save to as a txt-file (uncompressed) formats like.\n",
        "a_linspace_50 = np.linspace((1,2),(10,20),10)\n",
        "### saving data as a regular txt file, also possible to save as a csv file\n",
        "np.savetxt('./Data/Txt_file.txt',a_linspace_50)"
      ],
      "execution_count": 0,
      "outputs": []
    },
    {
      "cell_type": "markdown",
      "id": "fUuYwPo8u_gNlaNpLG9Fx",
      "metadata": {},
      "source": [
        "## Loading data with numpy\n",
        "Numpy arrays can be loaded with the Numpy functions `np.load(path)`\n",
        " and `np.loadtxt(path)`\n",
        " as shown below:\n",
        ""
      ]
    },
    {
      "cell_type": "code",
      "id": "0prcvyNcTyuD2u5FDRn78",
      "metadata": {},
      "source": [
        "## Loading data stored as a compressed npy file (numpy data format)\n",
        "A = np.load('./Data/RandomData.npy') \n",
        "B = np.load('./Data/StructuredData.npy')\n",
        "\n",
        "#load data stored as a txt/ (csv) file (uncompressed) formats like.\n",
        "C = np.loadtxt('./Data/Txt_file.txt')\n",
        "\n",
        "# Note A[:N] is only a slice i.e. the first N elements of A\n",
        "print('A:\\n',A[:5])\n",
        "print('B:\\n',B[:10])\n",
        "print('C:\\n',C[:5])"
      ],
      "execution_count": 0,
      "outputs": []
    },
    {
      "cell_type": "markdown",
      "id": "gPsTHKhArPw3_fnpIlH0M",
      "metadata": {},
      "source": [
        "## Operate along dimensions\n",
        "Numpy arrays are often used to handle multidimensional data. In these instances you may want to perform operations along only one or some of the array axes.\n",
        "### Example: Mean\n",
        "In this example, we calculate the average of $N$ random vectors. \n",
        "The cell below defines an $N\\times K$ matrix of random values:\n",
        ""
      ]
    },
    {
      "cell_type": "code",
      "id": "SeJubLlue4yjxlmST2-4v",
      "metadata": {},
      "source": [
        "N, K = 20, 10\n",
        "r = np.random.uniform(size=(N, K))"
      ],
      "execution_count": 0,
      "outputs": []
    },
    {
      "cell_type": "markdown",
      "id": "_CSwOZSDgsM7z_TizJEfE",
      "metadata": {},
      "source": [
        "The Numpy function `np.mean`\n",
        " calculates averages over Numpy arrays. The `axis`\n",
        " argument specifies the direction ($0$ for rows or $1$ for columns) of the calculation. This is demonstrated in the cell below:\n",
        ""
      ]
    },
    {
      "cell_type": "code",
      "id": "ZiqH_av59rrdy0OF1f7V4",
      "metadata": {},
      "source": [
        "np.mean(r, axis=0)"
      ],
      "execution_count": 0,
      "outputs": []
    },
    {
      "cell_type": "markdown",
      "id": "lOq996__SeZcuU4U2S0zN",
      "metadata": {},
      "source": [
        "<article class=\"message is-warning\">\n",
        "  <div class=\"message-header\">Tip</div>\n",
        "  <div class=\"message-body\">\n",
        "  \n",
        "  The `axis`\n",
        " argument is supported by most of Numpy's functions, including `sum`\n",
        " and `sqrt`\n",
        ".\n",
        "\n",
        "  \n",
        "  </div>\n",
        "</article>\n",
        "\n",
        "## Essential Numpy array methods for data analysis and manipulation\n",
        "The next section covers essential methods for data analysis and manipulation. The methods will be used abundantly throughout the course and are worth paying careful attention to.\n",
        "- [`np.mean(Array,dim)`\n",
        "](https://numpy.org/doc/stable/reference/generated/numpy.mean.html)\n",
        ", [`np.std(Array,dim)`\n",
        "](https://numpy.org/doc/stable/reference/generated/numpy.std.html)\n",
        ": Calculate the mean value of a given Numpy array of numbers (`floats`\n",
        " or `integers`\n",
        ").\n",
        "- `a.shape`\n",
        ": Finds the shape (dimensionality of a given data array), `Len(list/Array)`\n",
        " provides the length of the first list/Array dimension.\n",
        "- **Slicing:** using the `:`\n",
        " operator can create slices of an array `A`\n",
        " as `A[start:stop:step]`\n",
        ". Read more in the official guide [here](https://numpy.org/doc/stable/user/basics.indexing.html)\n",
        ".\n",
        "- **Broadcasting:** Is used in Numpy to perform operations between arrays of different size. Read more in the official guide [here](https://numpy.org/doc/stable/user/basics.broadcasting.html)\n",
        ".\n",
        "- **Elementwise addition and multiplication**\n",
        "- [`np.concatenate(Array list, axis)`\n",
        "](https://numpy.org/doc/stable/reference/generated/numpy.concatenate.html)\n",
        ": Stack numpy arrays along the direction of `axis`\n",
        ".\n",
        "\n",
        "Next, we consider a few examples to demonstrate the functionalities described above:\n",
        ""
      ]
    },
    {
      "cell_type": "code",
      "id": "_hMIOXeraOA1f7cLhamh-",
      "metadata": {},
      "source": [
        "A = np.linspace(0,9,10)\n",
        "\n",
        "B = np.array([\n",
        "    [-16, 15, -14, 13],\n",
        "    [-12, 11, -10, 9],\n",
        "    [-8, 7, -6, 5],\n",
        "    [-4, 3, -2, 1]\n",
        "])\n",
        "\n",
        "print('A:\\n',A)\n",
        "print('B:\\n',B)"
      ],
      "execution_count": 0,
      "outputs": []
    },
    {
      "cell_type": "markdown",
      "id": "HEW2XFbCTzZ_uSrWBqQVv",
      "metadata": {},
      "source": [
        ""
      ]
    },
    {
      "cell_type": "code",
      "id": "B8C92zBIW1MQg8qJD5NOm",
      "metadata": {},
      "source": [
        "### Mean of an array \n",
        "# Using/calling the mean method from the Numpy library to determine the mean of the loaded data.\n",
        "print('Mean A:\\n',np.mean(A)) \n",
        "\n",
        "# Most Numpy array manipulation methods can additionally be called from an array object\n",
        "print('Mean of using Array method:\\n',A.mean())\n",
        "\n",
        "### Std of an array \n",
        "print('Std of A:\\n',np.std(A))\n",
        "\n",
        "### Sum of an array \n",
        "print('A sum:\\n', np.sum(A))\n",
        "\n",
        "### shape (size) of an array\n",
        "print('A shape:\\n',A.shape)\n",
        "print('B shape:\\n',B.shape)\n",
        "\n",
        "## np.concatenation([A,B]) example\n",
        "print('Concatenation of A and Slice of B matrix:\\n',np.concatenate([A,B[0,:]],axis=0))"
      ],
      "execution_count": 0,
      "outputs": []
    },
    {
      "cell_type": "markdown",
      "id": "xx6WbysYr9v58aYfMiRCr",
      "metadata": {},
      "source": [
        "## Slicing of arrays\n",
        ""
      ]
    },
    {
      "cell_type": "code",
      "id": "JDn6mBLLyOdTEHU8_6h4K",
      "metadata": {},
      "source": [
        "### Slicing of array\n",
        "print(B[:,0])\n",
        "\n",
        "print(A[:5])\n",
        "print('A[5:], A array except the first 5:\\n',A[5:])\n",
        "\n",
        "print('A[:-5], A array except the last 5:\\n', A[:-5])\n",
        "\n",
        "print('A[1::2] array of every second elemt of A starting from the second:\\n',A[1::2])"
      ],
      "execution_count": 0,
      "outputs": []
    },
    {
      "cell_type": "markdown",
      "id": "bC0LSqUVLCA0y0f7M3e4L",
      "metadata": {},
      "source": [
        "## Array Arithmetic\n",
        ""
      ]
    },
    {
      "cell_type": "code",
      "id": "peSrQHHpDI7krPY8E8aI2",
      "metadata": {},
      "source": [
        "### Adding of array\n",
        "print('Adding a slice of A shape (4,) to B shape (4,4) using broadcasting:\\n',A[:4]+B)\n",
        "\n",
        "print('Adding constant to A (10,) using broadcasting:\\n',A+10)\n",
        "print('Adding single element array (shape (1,)) to B (shape (4,4)) using broadcasting:\\n',B  + np.array([10]))\n",
        "\n",
        "### Elementwise multiplication of arrayLoading\n",
        "print('Elementwise multiplication of a slice of A (shape (4,)) to B (shape (4,4)) using broadcasting:\\n',A[:4]*B)\n",
        "\n",
        "### Add division example\n",
        "print('Elementwise division of a slice of B (shape (4,)) and A (shape (4,)):\\n',B[0,:]/A[1:5])"
      ],
      "execution_count": 0,
      "outputs": []
    },
    {
      "cell_type": "markdown",
      "id": "MUQff6p3AgUGs180Z81Gp",
      "metadata": {},
      "source": [
        "## Comparison operators\n",
        "Just as the elementwise arithmetic operators, Numpy implements elementwise comparison operators (see the [official guide](https://numpy.org/doc/stable/user/basics.indexing.html#boolean-array-indexing)\n",
        " for additional detail). For example, to find all elements of `vr`\n",
        " larger than $98$, write: \n",
        ""
      ]
    },
    {
      "cell_type": "code",
      "id": "2kpEzPYb9QLWzxrVNEkD5",
      "metadata": {},
      "source": [
        "vr = np.array([0, 99, 5, 70, 24, 1, 200]) # Create array of random values\n",
        "vr > 98"
      ],
      "execution_count": 0,
      "outputs": []
    },
    {
      "cell_type": "markdown",
      "id": "Myqc-Y1Tvuok3jWQsJBP1",
      "metadata": {},
      "source": [
        "This boolean array can be used to select elements from a Numpy array:\n",
        ""
      ]
    },
    {
      "cell_type": "code",
      "id": "4pkPtaTsxplqPq1wSg8Ny",
      "metadata": {},
      "source": [
        "comparison = vr > 98\n",
        "vr[comparison]"
      ],
      "execution_count": 0,
      "outputs": []
    },
    {
      "cell_type": "markdown",
      "id": "-J73w1k2L6-3T4C02RYjR",
      "metadata": {},
      "source": [
        "Boolean arrays can be combined by using the logical operators `&`\n",
        " and `|`\n",
        ":\n",
        ""
      ]
    },
    {
      "cell_type": "code",
      "id": "tYmMC8eHFe9NdwfseNJ_q",
      "metadata": {},
      "source": [
        "vr[(vr < 2) | (vr > 98)]"
      ],
      "execution_count": 0,
      "outputs": []
    },
    {
      "cell_type": "markdown",
      "id": "ekB-zKb2AYNLMm9MVN1VL",
      "metadata": {},
      "source": [
        "Boolean indexing can also be used for assignment:\n",
        ""
      ]
    },
    {
      "cell_type": "code",
      "id": "ss1mLvWi0J4c1bNfZHef1",
      "metadata": {},
      "source": [
        "vr[vr > 50] = 0\n",
        "vr"
      ],
      "execution_count": 0,
      "outputs": []
    },
    {
      "cell_type": "markdown",
      "id": "ElkNB4Bv1rplvcJdALXrR",
      "metadata": {},
      "source": [
        "## Basics plotting with matplotlib\n",
        "Matplotlib contains an API for creating and manipulating plots using functions.\n",
        "`plot`\n",
        " and `scatter`\n",
        " will be the most frequently used functions in this course:\n",
        "- [`plot`\n",
        "](https://matplotlib.org/stable/plot_types/basic/plot.html#sphx-glr-plot-types-basic-plot-py)\n",
        " is typically used for creating connected line segments described by x and y data.\n",
        "- [`scatter`\n",
        "](https://matplotlib.org/stable/plot_types/basic/scatter_plot.html#sphx-glr-plot-types-basic-scatter-plot-py)\n",
        " is used for plotting individual points, e.g. from a dataset.\n",
        "\n",
        "### Line plot\n",
        "Take a look at the following sample plot code and output:\n",
        ""
      ]
    },
    {
      "cell_type": "code",
      "id": "UJtgczhlYzRc1YWMKr6Rg",
      "metadata": {},
      "source": [
        "x_range = np.linspace(0, 5, 50) # Creates an array of linearly spaced elements\n",
        "y_linear = x_range + 3 # adding to constant to the numpy array (broadcasting)\n",
        "y_quadratic = x_range**2 # elementwise exponetiation\n",
        "y_exp = np.exp(x_range) # exponential function applied elemtwise to x_range\n",
        "\n",
        "plt.plot(x_range, y_linear)\n",
        "plt.plot(x_range, y_quadratic)\n",
        "plt.plot(x_range,y_exp);"
      ],
      "execution_count": 0,
      "outputs": []
    },
    {
      "cell_type": "markdown",
      "id": "v6Po0_asUKm43YaxuYCLh",
      "metadata": {},
      "source": [
        "### Scatter plot\n",
        "Scatter plots are two-dimensional plots of individual points. The example below creates a quadratic function, adds normally distributed random noise to it, and plots both the original (with [`plt.plot`\n",
        "](https://matplotlib.org/stable/api/_as_gen/matplotlib.axes.Axes.plot.html)\n",
        ") and the noisy points (with [`plt.scatter`\n",
        "](https://matplotlib.org/stable/api/_as_gen/matplotlib.axes.Axes.scatter.html#)\n",
        ").\n",
        ""
      ]
    },
    {
      "cell_type": "code",
      "id": "s-up-Mu0QQPdZ2EKWm8mG",
      "metadata": {},
      "source": [
        "x_range = np.linspace(-10, 10, 50) # Create the x-values for the plot\n",
        "y_values = x_range**2 # Calculate the y-values for the quadratic\n",
        "\n",
        "noise = np.random.normal(scale=5, size=50) # Create random noise\n",
        "y_noise = y_values + noise # Add the noise to the y-values\n",
        "\n",
        "plt.plot(x_range, y_values) # Plot the quadratic function\n",
        "plt.scatter(x_range, y_noise); # Plot the noisy points"
      ],
      "execution_count": 0,
      "outputs": []
    },
    {
      "cell_type": "markdown",
      "id": "y5zqPSx4YjXDu_bNclDyn",
      "metadata": {},
      "source": [
        "## Styling\n",
        "Matplotlib allows customization of plots. Some useful functionality is described below:\n",
        "- [`plt.plot`\n",
        "](https://matplotlib.org/stable/api/_as_gen/matplotlib.axes.Axes.plot.html)\n",
        " takes a third argument, `format`\n",
        ", which is used to adapt the styling of lines. Generally, a letter designating a color (e.g. `r`\n",
        ",`g`\n",
        ",`b`\n",
        ") and a symbol designating line or point style (e.g. `+`\n",
        ", `--`\n",
        ") are combined to produce a format, e.g. `r+`\n",
        " to create red crosses.\n",
        "- [`plt.scatter`\n",
        "](https://matplotlib.org/stable/api/_as_gen/matplotlib.axes.Axes.scatter.html#)\n",
        " takes an argument `c`\n",
        " for the color (can be letter form or complete color names) and an argument `marker`\n",
        " for the marker style (e.g. `+`\n",
        ", `o`\n",
        ").\n",
        "\n",
        "Here is a basic example:\n",
        ""
      ]
    },
    {
      "cell_type": "code",
      "id": "EvZ2MFFzuAYuLmbbdmEeK",
      "metadata": {},
      "source": [
        "plt.plot(x_range, y_values, 'r--')\n",
        "plt.scatter(x_range, y_noise, c='green', marker='d');"
      ],
      "execution_count": 0,
      "outputs": []
    },
    {
      "cell_type": "markdown",
      "id": "lRJAucYDRuNbmE2FHtbNG",
      "metadata": {},
      "source": [
        "### Advanced styling\n",
        "Matplotlib automatically assigns colors to lines and point series using an internally defined `style`\n",
        ", however, you can change colors manually. The current style can be changed permanently using [`plt.style.use(style)`\n",
        "](https://matplotlib.org/stable/api/style_api.html<elem-88>.style.use)\n",
        " or inside a `with`\n",
        " block using `plt.style.context(style)`\n",
        ". A reference of built-in style-sheets can be found [here](https://matplotlib.org/stable/gallery/style_sheets/style_sheets_reference.html)\n",
        ". The cell below shows an example:\n",
        ""
      ]
    },
    {
      "cell_type": "code",
      "id": "K0uqPvf271hK4Job4npAf",
      "metadata": {},
      "source": [
        "# We create some normal and uniformly distributed noise. (random data i.e. not structured)\n",
        "xs, ys = np.random.normal(size=(2, 100))\n",
        "xu, yu = np.random.uniform(size=(2,100))\n",
        "\n",
        "with plt.style.context('seaborn'):\n",
        "    plt.scatter(xs, ys, marker='+')\n",
        "    plt.scatter(xu, yu, marker='x')"
      ],
      "execution_count": 0,
      "outputs": []
    },
    {
      "cell_type": "markdown",
      "id": "0OMBxQwqenKQ0B2T2-QLz",
      "metadata": {},
      "source": [
        "## Labels, Title and Legend\n",
        "Legend, title, and axis labels can be added to plots using the following functions: \n",
        "- [`plt.legend(titles)`\n",
        "](https://matplotlib.org/stable/api/_as_gen/matplotlib.pyplot.legend.html)\n",
        ": Creates a legend using a list of `titles`\n",
        " for the names. Previously plotted elements are added in order.\n",
        "- [`plt.title(title)`\n",
        "](https://matplotlib.org/stable/api/_as_gen/matplotlib.pyplot.title.html)\n",
        ": Set plot title using string `title`\n",
        ". Use [`plt.suptitle`\n",
        "](https://matplotlib.org/stable/api/_as_gen/matplotlib.pyplot.suptitle.html)\n",
        " when adding a title to multiple plots.\n",
        "- [`plt.ylabel(name)`\n",
        "](https://matplotlib.org/stable/api/_as_gen/matplotlib.pyplot.ylabel.html)\n",
        "/[`plt.xlabel(name)`\n",
        "](https://matplotlib.org/stable/api/_as_gen/matplotlib.pyplot.xlabel.html)\n",
        ": Set plot axis labels.\n",
        "- [`plt.legend(label_list)`\n",
        "](https://matplotlib.org/stable/api/_as_gen/matplotlib.pyplot.legend.html)\n",
        ": Setting the data labels can be done with a label list or without input if labels are provided at each separate plot.\n",
        "\n",
        ""
      ]
    },
    {
      "cell_type": "code",
      "id": "tLGNn80jMxuFzJapNTLz9",
      "metadata": {},
      "source": [
        "with plt.style.context('seaborn'):\n",
        "    plt.scatter(xs, ys, marker='+')\n",
        "    plt.scatter(xu, yu, marker='x')\n",
        "    plt.legend(['normal', 'uniform'])\n",
        "    \n",
        "    plt.title('Comparison of distributions')\n",
        "    plt.ylabel('Y')\n",
        "    plt.xlabel('X')"
      ],
      "execution_count": 0,
      "outputs": []
    },
    {
      "cell_type": "markdown",
      "id": "rxjhhiHf9cKNqus1NnSK8",
      "metadata": {},
      "source": [
        "## Making subplots\n",
        "Matplotlib makes it possible to combine multiple plots into one figure. The function [`plt.subplots`\n",
        "](https://matplotlib.org/stable/api/_as_gen/matplotlib.pyplot.subplots.html)\n",
        " creates a figure with multiple sub-plots. The function returns a _figure_ object and an array of _axes_ objects. The _axes_ objects are used to make plots in each subplot, add titles, and so forth. An example is shown in the cell below:\n",
        ""
      ]
    },
    {
      "cell_type": "code",
      "id": "uHrO1aGHbrkwPHcyna0e7",
      "metadata": {},
      "source": [
        "figure, axes = plt.subplots(2, 2, figsize=(7, 5))\n",
        "\n",
        "axes[0, 0].plot(x_range, y_linear)\n",
        "axes[0, 1].plot(x_range, y_quadratic)\n",
        "axes[1, 0].scatter(xs, ys)\n",
        "axes[1, 1].plot(x_range, y_values)\n",
        "axes[1, 1].scatter(x_range, y_noise);"
      ],
      "execution_count": 0,
      "outputs": []
    },
    {
      "cell_type": "markdown",
      "id": "jJh3ot-YWuUZvyI4IaZ2d",
      "metadata": {},
      "source": [
        "## Saving plots\n",
        "To save a plot, use [`plt.savefig(output_path)`\n",
        "](https://matplotlib.org/stable/api/_as_gen/matplotlib.pyplot.savefig.html)\n",
        " to save the last plot created. An example is provided below:\n",
        ""
      ]
    },
    {
      "cell_type": "code",
      "id": "c8G92r7lV6yWp2tauCV_h",
      "metadata": {},
      "source": [
        "plt.savefig('./outputs.pdf');"
      ],
      "execution_count": 0,
      "outputs": []
    },
    {
      "cell_type": "markdown",
      "id": "g1bbR7EKQY0eGZHRTud2W",
      "metadata": {},
      "source": [
        ""
      ]
    },
    {
      "cell_type": "code",
      "id": "t1wJgs1eMfGHnC85l8qka",
      "metadata": {},
      "source": [
        ""
      ],
      "execution_count": 0,
      "outputs": []
    },
    {
      "cell_type": "markdown",
      "id": "beHlVYy7dT4N2wC2dCi-8",
      "metadata": {},
      "source": [
        ""
      ]
    }
  ]
}