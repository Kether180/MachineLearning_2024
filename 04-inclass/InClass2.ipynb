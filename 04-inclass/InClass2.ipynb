{
  "metadata": {
    "kernelspec": {
      "display_name": "Python",
      "language": "python3",
      "name": "python3"
    },
    "language_info": {
      "codemirror_mode": {
        "name": "ipython",
        "version": 3
      },
      "file_extension": "py",
      "mimetype": "text/x-python",
      "name": "python"
    }
  },
  "nbformat": 4,
  "nbformat_minor": 5,
  "cells": [
    {
      "cell_type": "code",
      "id": "css_setup",
      "metadata": {
        "jupyter": {
          "source_hidden": true
        }
      },
      "source": [
        "import requests\n",
        "from IPython.core.display import HTML\n",
        "HTML(f\"\"\"\n",
        "<style>\n",
        "@import \"https://cdn.jsdelivr.net/npm/bulma@0.9.4/css/bulma.min.css\";\n",
        "</style>\n",
        "\"\"\")"
      ],
      "execution_count": 0,
      "outputs": []
    },
    {
      "cell_type": "markdown",
      "id": "YzZJ2HzVhovUK56sOBOt5",
      "metadata": {},
      "source": [
        "# In-class - Week 2\n",
        "\n",
        "<article class=\"message\">\n",
        "    <div class=\"message-body\">\n",
        "        <strong>Overview of tasks</strong>\n",
        "        <ul style=\"list-style: none;\">\n",
        "            <li>\n",
        "            <a href=\"#lincomb\">Task 1: Linear combinations</a>\n",
        "            </li>\n",
        "            <li>\n",
        "            <a href=\"#matvec\">Task 2: Matrix-vector multiplication</a>\n",
        "            </li>\n",
        "            <li>\n",
        "            <a href=\"#matmul\">Task 3: Matrix-matrix multiplication</a>\n",
        "            </li>\n",
        "        </ul>\n",
        "    </div>\n",
        "</article>\n",
        "\n",
        "<article class=\"message task\"><a class=\"anchor\" id=\"lincomb\"></a>\n",
        "    <div class=\"message-header\">\n",
        "        <span>Task 1: Linear combinations</span>\n",
        "        <span class=\"has-text-right\">\n",
        "          <i class=\"bi bi-lightbulb-fill\"></i><i class=\"bi bi-stoplights easy\"></i>\n",
        "        </span>\n",
        "    </div>\n",
        "<div class=\"message-body\">\n",
        "\n",
        "\n",
        "[Exercise 1](https://app.grasple.com/#/courses/9252/ci/613148/subjects/13499)\n",
        "\n",
        "\n",
        "\n",
        "</div></article>\n",
        "\n",
        "<article class=\"message task\"><a class=\"anchor\" id=\"matvec\"></a>\n",
        "    <div class=\"message-header\">\n",
        "        <span>Task 2: Matrix-vector multiplication</span>\n",
        "        <span class=\"has-text-right\">\n",
        "          <i class=\"bi bi-lightbulb-fill\"></i><i class=\"bi bi-stoplights easy\"></i>\n",
        "        </span>\n",
        "    </div>\n",
        "<div class=\"message-body\">\n",
        "\n",
        "\n",
        "[Exercise 2](https://app.grasple.com/#/courses/9252/ci/613149/subjects/13501)\n",
        " \n",
        "\n",
        "\n",
        "</div></article>\n",
        "\n",
        "<article class=\"message task\"><a class=\"anchor\" id=\"matmul\"></a>\n",
        "    <div class=\"message-header\">\n",
        "        <span>Task 3: Matrix-matrix multiplication</span>\n",
        "        <span class=\"has-text-right\">\n",
        "          <i class=\"bi bi-lightbulb-fill\"></i><i class=\"bi bi-stoplights easy\"></i>\n",
        "        </span>\n",
        "    </div>\n",
        "<div class=\"message-body\">\n",
        "\n",
        "\n",
        "[Exercise 3](https://app.grasple.com/#/courses/9252/ci/613150/subjects/13500)\n",
        "\n",
        "\n",
        "\n",
        "</div></article>\n",
        "\n",
        ""
      ]
    }
  ]
}