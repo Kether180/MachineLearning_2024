{
  "metadata": {
    "kernelspec": {
      "display_name": "Python",
      "language": "python3",
      "name": "python3"
    },
    "language_info": {
      "codemirror_mode": {
        "name": "ipython",
        "version": 3
      },
      "file_extension": "py",
      "mimetype": "text/x-python",
      "name": "python"
    }
  },
  "nbformat": 4,
  "nbformat_minor": 5,
  "cells": [
    {
      "cell_type": "code",
      "id": "css_setup",
      "metadata": {
        "jupyter": {
          "source_hidden": true
        }
      },
      "source": [
        "import requests\n",
        "from IPython.core.display import HTML\n",
        "HTML(f\"\"\"\n",
        "<style>\n",
        "@import \"https://cdn.jsdelivr.net/npm/bulma@0.9.4/css/bulma.min.css\";\n",
        "</style>\n",
        "\"\"\")"
      ],
      "execution_count": 0,
      "outputs": []
    },
    {
      "cell_type": "markdown",
      "id": "hNXpb5bZZYByZgiTlgLEF",
      "metadata": {},
      "source": [
        "# Filtering\n",
        "Filters are arbitrary linear functions and can therefore be used to perform many different kinds of operations. In this exercise, we will explore image filtering, a powerful technique in image processing, to understand how filters can be applied to modify, or extract specific features from images.\n",
        "As a first step, import the necessary libraries:\n",
        ""
      ]
    },
    {
      "cell_type": "code",
      "id": "3G5sbdYsrfNk0W9U1vdMT",
      "metadata": {},
      "source": [
        "import numpy as np\n",
        "from skimage import data, color\n",
        "from scipy.ndimage import convolve, correlate\n",
        "from scipy import stats, signal\n",
        "from skimage import filters, feature, transform, io\n",
        "from skimage.transform import pyramid_gaussian\n",
        "import matplotlib.pyplot as plt"
      ],
      "execution_count": 0,
      "outputs": []
    },
    {
      "cell_type": "markdown",
      "id": "zSuRECZy1U7uWStLgyy0c",
      "metadata": {},
      "source": [
        "We will use the same set of example images from the Scikit-Image library that were used in the tutorial. You can use and modify the code below to load and inspect any of the images: \n",
        ""
      ]
    },
    {
      "cell_type": "code",
      "id": "ofnJ5FKolNhJvGHCCKWdZ",
      "metadata": {},
      "source": [
        "print(data.__all__)\n",
        "plt.imshow(data.coins(), cmap=\"gray\")\n",
        "plt.axis(False)"
      ],
      "execution_count": 0,
      "outputs": []
    },
    {
      "cell_type": "markdown",
      "id": "F2dYwcYLckU_yEWJNj5sm",
      "metadata": {},
      "source": [
        "<article class=\"message task\"><a class=\"anchor\" id=\"pixel_shift1\"></a>\n",
        "    <div class=\"message-header\">\n",
        "        <span>Task 1: Shifting pixels</span>\n",
        "        <span class=\"has-text-right\">\n",
        "          <i class=\"bi bi-code\"></i><i class=\"bi bi-infinity\"></i><i class=\"bi bi-stoplights easy\"></i>\n",
        "        </span>\n",
        "    </div>\n",
        "<div class=\"message-body\">\n",
        "\n",
        "\n",
        "Construct a filter that shifts pixels in the image by $n$ pixels to the right.\n",
        "1. Create a function with parameter `n`\n",
        " that returns a kernel that can be used to shift an image `n`\n",
        " pixels to the right.\n",
        "2. Apply the filter to one of the example images and show the results. Try out multiple different values for `n`\n",
        ".\n",
        "3. Make the functions `shift_to_left`\n",
        ", `shift_to_up`\n",
        ", and `shift_to_down`\n",
        " to shift the input images $n$ pixels to the left, up and down. Use one of the example images to test these functions and evaluate if the images are correctly shifted. \n",
        "4. (Optional) Modify the filter to not only shift the pixel to the right (or the other directions) but also decrease its brightness.\n",
        "\n",
        "\n",
        "\n",
        "</div></article>\n",
        "\n",
        ""
      ]
    },
    {
      "cell_type": "code",
      "id": "yNb5hsH5KU9FhjlftJREg",
      "metadata": {},
      "source": [
        "def shift_to_right(n):\n",
        "    \"\"\"\n",
        "    Param n: number of pixels to shift to the right.\n",
        "\n",
        "    Returns: kernel for shifting.\n",
        "    \"\"\"\n",
        "    # write your solution here\n",
        "    ..."
      ],
      "execution_count": 0,
      "outputs": []
    },
    {
      "cell_type": "markdown",
      "id": "EFuGkNrD470QgIZ9m2rW9",
      "metadata": {},
      "source": [
        "<article class=\"message task\"><a class=\"anchor\" id=\"gaussian\"></a>\n",
        "    <div class=\"message-header\">\n",
        "        <span>Task 2: Gaussian blurring</span>\n",
        "        <span class=\"has-text-right\">\n",
        "          <i class=\"bi bi-code\"></i><i class=\"bi bi-stoplights medium\"></i>\n",
        "        </span>\n",
        "    </div>\n",
        "<div class=\"message-body\">\n",
        "\n",
        "\n",
        "Construct a Gaussian filter and apply it to an image by following the steps below:\n",
        "1. Design a 3x3 kernel (filter) for Gaussian blurring. Each element of the filter should be filled with values that approximate a Gaussian distribution.\n",
        "\n",
        "<article class=\"message is-warning\">\n",
        "  <div class=\"message-header\">Hint</div>\n",
        "  <div class=\"message-body\">\n",
        "\n",
        "  The filter was covered during the lecture.\n",
        "\n",
        "\n",
        "  </div>\n",
        "</article>\n",
        "2. Plot the Gaussian Blur filter.\n",
        "3. Apply the filter to one of the example image and display the original and blurred images side by side.\n",
        "4. Explain the underlying reasons for the observed effects produced by this filter.\n",
        "5. Implement the increased Gaussian blurring kernel shown below. Apply the filter to the selected image and compare the results to the results obtained in the previous steps. Explain the observed effects. \n",
        "\n",
        "\n",
        "$$\n",
        "\\begin{equation}\n",
        "\\frac{1}{256}\n",
        "\\begin{bmatrix}\n",
        "1 & 4 & 6 & 4 & 1 \\\\\n",
        "4 & 16 & 24 & 16 & 4 \\\\\n",
        "6 & 24 & 36 & 24 & 6 \\\\\n",
        "4 & 16 & 24 & 16 & 4 \\\\\n",
        "1 & 4 & 6 & 4 & 1 \\\\\n",
        "\\end{bmatrix}\n",
        "\\end{equation}\n",
        "$$\n",
        "\n",
        "\n",
        "</div></article>\n",
        "\n",
        ""
      ]
    },
    {
      "cell_type": "code",
      "id": "BAtMbOwKRYE4cinWFQM7G",
      "metadata": {},
      "source": [
        "# write your solution here"
      ],
      "execution_count": 0,
      "outputs": []
    },
    {
      "cell_type": "markdown",
      "id": "M-4abTrwZi_a1VEKB1Cj_",
      "metadata": {},
      "source": [
        "<article class=\"message task\"><a class=\"anchor\" id=\"template_match\"></a>\n",
        "    <div class=\"message-header\">\n",
        "        <span>Task 3: Template matching</span>\n",
        "        <span class=\"has-text-right\">\n",
        "          <i class=\"bi bi-code\"></i><i class=\"bi bi-stoplights medium\"></i>\n",
        "        </span>\n",
        "    </div>\n",
        "<div class=\"message-body\">\n",
        "\n",
        "\n",
        "In the following exercise you will are going to implement template matching on the sunflower image (`sunflowers.jpg`\n",
        ") found in the data library for this week's exercises.\n",
        "1. Load the image, convert it to grayscale and normalize its pixel values. \n",
        "2. Define a rectangular region of interest (ROI) within the image. This ROI will serve as the template you want to extract from the image. and it should include the flower head of a single sunflower. Extract the template and plot it.\n",
        "3. Implement template matching by using the [`skimage.feature.match_template`\n",
        "](https://scikit-image.org/docs/stable/auto_examples/features_detection/plot_template.html)\n",
        " function. The function returns a two-dimensional array (correlation map) that indicate the similarity or correlation between the template and regions of the input image. Plot the results.\n",
        "4. Was the template correctly matched to the original image? Were there any other areas that appeared to be potential matches?\n",
        "\n",
        "\n",
        "\n",
        "</div></article>\n",
        "\n",
        ""
      ]
    },
    {
      "cell_type": "code",
      "id": "C3CWOw_FgiHPLNshbAllS",
      "metadata": {},
      "source": [
        "# write your solution here"
      ],
      "execution_count": 0,
      "outputs": []
    },
    {
      "cell_type": "markdown",
      "id": "CKiong27anty8Gp766Qh0",
      "metadata": {},
      "source": [
        "<article class=\"message task\"><a class=\"anchor\" id=\"sharp\"></a>\n",
        "    <div class=\"message-header\">\n",
        "        <span>Task 4: Sharpening</span>\n",
        "        <span class=\"has-text-right\">\n",
        "          <i class=\"bi bi-code\"></i><i class=\"bi bi-lightbulb-fill\"></i><i class=\"bi bi-stoplights medium\"></i>\n",
        "        </span>\n",
        "    </div>\n",
        "<div class=\"message-body\">\n",
        "\n",
        "\n",
        "In this task, you will create filters to sharpen the pixels of an input image, making details look clearer than in the original image. Here are two filters used for image sharpening:\n",
        "\n",
        "$$\n",
        "K_1=\\frac{1}{9}\\left[\n",
        "\t\\begin{array}{r r r}\n",
        "\t\t-1 & -1 & -1 \\\\\n",
        "\t\t-1 & 17 & -1 \\\\\n",
        "\t\t-1 & -1 & -1\n",
        "\t\\end{array}\n",
        "\\right],\n",
        "K_2=\\left[\n",
        "\t\\begin{array}{r r r}\n",
        "\t\t-1 & -1 & -1 \\\\\n",
        "\t\t-1 &  9 & -1 \\\\\n",
        "\t\t-1 & -1 & -1\n",
        "\t\\end{array}\n",
        "\\right]\n",
        "$$\n",
        "Notice that in this case the filter values sum to one.\n",
        "1. Why do sharpen filters contain a single positive value at their centers, which are completely surrounded by negative values?\n",
        "\n",
        "2. Define the above filter kernels as Numpy arrays.\n",
        "\n",
        "3. Use the filter kernels $K_1$ and $K_2$ to sharpen one of the example images from the Scikit-Image library. Show the two filtered images and compare them with the original input image.\n",
        "\n",
        "4. Implement the sharpening filter shown below and apply it to the selected image. Reflect on the effects of increasing the size of the sharpening filter. \n",
        "\n",
        "\n",
        "\n",
        "$$\n",
        "\\begin{equation}\n",
        "\\frac{1}{8}\n",
        "\\begin{bmatrix}\n",
        "-1 & -1 & -1 & -1 & -1 \\\\\n",
        "-1 & 2 & 2 & 2 & -1 \\\\\n",
        "-1 & 2 & 8 & 2 & -1 \\\\\n",
        "-1 & 2 & 2 & 2 & -1 \\\\\n",
        "-1 & -1 & -1 & -1 & -1 \\\\\n",
        "\\end{bmatrix}\n",
        "\\end{equation}\n",
        "$$\n",
        "\n",
        "\n",
        "</div></article>\n",
        "\n",
        ""
      ]
    },
    {
      "cell_type": "code",
      "id": "QvONi9kLYgI7UYMpc8WgD",
      "metadata": {},
      "source": [
        "# write your solution here"
      ],
      "execution_count": 0,
      "outputs": []
    },
    {
      "cell_type": "markdown",
      "id": "sriiQpR_-TFjV-pmJRIxQ",
      "metadata": {},
      "source": [
        ""
      ]
    }
  ]
}