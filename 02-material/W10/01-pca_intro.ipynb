{
  "metadata": {
    "kernelspec": {
      "display_name": "Python",
      "language": "python3",
      "name": "python3"
    },
    "language_info": {
      "codemirror_mode": {
        "name": "ipython",
        "version": 3
      },
      "file_extension": "py",
      "mimetype": "text/x-python",
      "name": "python"
    }
  },
  "nbformat": 4,
  "nbformat_minor": 5,
  "cells": [
    {
      "cell_type": "code",
      "id": "css_setup",
      "metadata": {
        "jupyter": {
          "source_hidden": true
        }
      },
      "source": [
        "import requests\n",
        "from IPython.core.display import HTML\n",
        "HTML(f\"\"\"\n",
        "<style>\n",
        "@import \"https://cdn.jsdelivr.net/npm/bulma@0.9.4/css/bulma.min.css\";\n",
        "</style>\n",
        "\"\"\")"
      ],
      "execution_count": 0,
      "outputs": []
    },
    {
      "cell_type": "markdown",
      "id": "BHIKnEU5FayRWFCqHWXXq",
      "metadata": {},
      "source": [
        "# Introduction to the exercise\n",
        "In this exercise you will implement and apply PCA to a database consisting of face shapes. The implementation is also needed for assignment 2. \n",
        "<article class=\"message is-danger\">\n",
        "  <div class=\"message-header\">Important</div>\n",
        "  <div class=\"message-body\">\n",
        "\n",
        "  This exercise and the in-class exercise overlap, but use different datasets. In this exercise you should use your implementation from the in-class exercise.\n",
        "\n",
        "\n",
        "  </div>\n",
        "</article>\n",
        "## Data\n",
        "The dataset used for the assigment consists of 120 landmarks (2D points) of faces (data space). A face consists of 73 (x,y)-coordinate pairs, i.e. 146 featues in total.\n",
        "The following cell imports the necessary libraries, loads the data and uses the function `plot_many_faces`\n",
        " to  visualize 6 faces.\n",
        ""
      ]
    },
    {
      "cell_type": "code",
      "id": "aO_3p4TA1z5f_eb_YaSqj",
      "metadata": {},
      "source": [
        "import matplotlib.pyplot as plt\n",
        "import numpy as np\n",
        "\n",
        "from utils import *\n",
        "\n",
        "path = './db'\n",
        "shapes, images = face_shape_data(path)\n",
        "plot_many_faces(shapes[:6])"
      ],
      "execution_count": 0,
      "outputs": []
    },
    {
      "cell_type": "markdown",
      "id": "KTypEiSYA-1Gb5J1nUYwc",
      "metadata": {},
      "source": [
        "## Implementing PCA\n",
        "An application of principal component analysis is about finding a linear transformation\n",
        "that reduces the number of dimensions used to represent the data while\n",
        "retaining a certain proportion of the variation. \n",
        "Let $X$ $\\in \\mathbb{R}^{N \\times D}$ be the data matrix, $C$ $\\in \\mathbb{R}^{D \\times D}$ the covariance matrix of $X$, and $V$ $\\in \\mathbb{R}^{D \\times D}$ the matrix of eigenvectors of $C$:\n",
        "\n",
        "$$\n",
        "\n",
        "{V} = \\begin{bmatrix} | & | & & | \\\\ \\vec{v}_1 & \\vec{v}_2 & \\cdots & \\vec{v}_D  \\\\ | & | & & | \\end{bmatrix}.\n",
        "\n",
        "$$\n",
        "The eigenvectors ${v}_i$ are sorted according to their eigenvalues $\\lambda_i$. $\\lambda_i$ is a measure of the variance of each dimension in latent space. The eigenvalues explain\n",
        "the variance of each dimension when that data has been transformed by\n",
        "PCA. The sum of all eigenvalues $\\lambda^{(1)}+\\dots+\\lambda^{(D)}$ is\n",
        "equal to the total variance of the data. \n",
        "(1) **Proportional variance** is the proportion of the total variance explained by a single component. \n",
        "\n",
        "$$\\frac{\\lambda^{(i)}}{\\lambda^{(1)} + \\dots + \\lambda^{(D)}}$$\n",
        "(2) **Cumulative variance** is the cumulative proportion of the total variance explained by the first $k$ components.\n",
        "\n",
        "$$\\frac{\\lambda^{(1)} + \\dots + \\lambda^{(k)}}{\\lambda^{(1)} + \\dots + \\lambda^{(D)}}$$\n",
        "Define $\\Phi$, as the $D\\times k$ matrix of the first $k$ eigenvectors of $V$:\n",
        "\n",
        "$$\n",
        "\n",
        "{\\Phi} = \\begin{bmatrix} | & | & & | \\\\ \\vec{v}_1 & \\vec{v}_2 & \\cdots & \\vec{v}_k \\\\ | & | & & | \\end{bmatrix}.\n",
        "\n",
        "$$\n",
        "The column vectors of ${\\Phi}$ constitute the basis of the latent space. ${\\Phi}$ can be used to transform data points between the data space and the latent space. Mapping a point $x$ to the latent space:\n",
        "\n",
        "$$ \n",
        "\\mathbf{a} = \\mathbf{\\Phi}^\\top(\\mathbf{x}-\\mathbf{\\mu}),\n",
        "$$\n",
        "and back into data space:\n",
        "\n",
        "$$\n",
        "x + \\epsilon = \\mathbf{\\Phi} \\mathbf{a} + \\mathbf{\\mu},\n",
        "$$\n",
        "may result in a _reconstruction error_ $\\epsilon$, where $\\mathbf{x}\\in\\mathbb{R}^D$ is the input vector, $\\mathbf{a}\\in\\mathbb{R}^k$ is the corresponding vector in latent space and ${\\mu}$ is the mean vector in data space.\n",
        "<article class=\"message task\"><a class=\"anchor\" id=\"eval\"></a>\n",
        "    <div class=\"message-header\">\n",
        "        <span>Task 1: Reconstruction</span>\n",
        "        <span class=\"has-text-right\">\n",
        "          <i class=\"bi bi-lightbulb-fill\"></i><i class=\"bi bi-stoplights easy\"></i>\n",
        "        </span>\n",
        "    </div>\n",
        "<div class=\"message-body\">\n",
        "\n",
        "\n",
        "1. Why do we get a reconstruction error $\\epsilon$?\n",
        "2. What is the expected error $\\epsilon$ when $k=D$? \n",
        "3. (Optional) Show 2 mathematically. \n",
        "4. What is the expected error when we change $k$?\n",
        "\n",
        "\n",
        "\n",
        "</div></article>\n",
        "\n",
        ""
      ]
    },
    {
      "cell_type": "code",
      "id": "-c7PCyMiqpoaIUeiwbuhO",
      "metadata": {},
      "source": [
        "# write answers here"
      ],
      "execution_count": 0,
      "outputs": []
    },
    {
      "cell_type": "markdown",
      "id": "JdMz-J9sF6HvveYONRNTA",
      "metadata": {},
      "source": [
        "The next task is to implement PCA and transform data between data space and latent space.\n",
        "<article class=\"message task\"><a class=\"anchor\" id=\"implementation\"></a>\n",
        "    <div class=\"message-header\">\n",
        "        <span>Task 2: PCA implementation</span>\n",
        "        <span class=\"has-text-right\">\n",
        "          <i class=\"bi bi-code\"></i><i class=\"bi bi-stoplights medium\"></i>\n",
        "        </span>\n",
        "    </div>\n",
        "<div class=\"message-body\">\n",
        "\n",
        "\n",
        "1. **Implement PCA:** Create a function that calculates and returns all principle components of the dataset. **Make sure to center the samples (subtract the mean before calculating the covariance matrix)**.\n",
        "\n",
        "2. **Calculate variance:** Create functions that calculate the _proportional_ and _cumulative_ variance.\n",
        "\n",
        "3. **Plot variance metrics:** Plot both the proportional and cumulative variance in a single plot. \n",
        "\n",
        "4. Create a function that transforms the data from the data space to latent space\n",
        "( [Equation 1](#eq:trans) ) \n",
        "\n",
        "\n",
        "\n",
        "$$\n",
        " \\mathbf{a} = \\mathbf{\\Phi}^\\top(\\mathbf{x}-\\mathbf{\\mu})\n",
        "$$\n",
        "5. Create a function that transforms the data from the  latent space to the data space\n",
        "( [Equation 2](#eq:inv) ).\n",
        "\n",
        "\n",
        "$$\n",
        " \\mathbf{x} = \\mathbf{\\Phi} \\mathbf{a} + \\mathbf{\\mu}\n",
        "$$\n",
        "<article class=\"message is-warning\">\n",
        "  <div class=\"message-header\">Tip</div>\n",
        "  <div class=\"message-body\">\n",
        "\n",
        "  Some of the later tasks will be easier if you return all 146 principle components. You can then create another function for extracting $k$ components to generate $\\Phi$.\n",
        "\n",
        "\n",
        "  </div>\n",
        "</article>\n",
        "\n",
        "\n",
        "</div></article>\n",
        "\n",
        ""
      ]
    },
    {
      "cell_type": "code",
      "id": "6qmKhX7Nfprl3lSURhc2K",
      "metadata": {},
      "source": [
        "# Write your implementation here."
      ],
      "execution_count": 0,
      "outputs": []
    },
    {
      "cell_type": "markdown",
      "id": "MIq06IRktG_pg3b8fYOy3",
      "metadata": {},
      "source": [
        ""
      ]
    },
    {
      "cell_type": "code",
      "id": "SUOcDFy2wGpBtBD_TIP84",
      "metadata": {},
      "source": [
        "# Write your implementation here.\n",
        "\n",
        "\n",
        "#Your implementation, uncomment below when the pca and tranformation is working.\n",
        "\n",
        "# n_components = 146\n",
        "# comp, val, mu = get_principle_components(shapes)\n",
        "\n",
        "# used = comp[:, :n_components]\n",
        "# transformed = transform(shapes, used, mu)"
      ],
      "execution_count": 0,
      "outputs": []
    },
    {
      "cell_type": "markdown",
      "id": "gFKb1eaeE4sTph4-YxQ7T",
      "metadata": {},
      "source": [
        "## Reconstruction error\n",
        "In this task you will implement a method for calculating the reconstruction error and use it observe the effect of changing the number of principal components.\n",
        "We will use the root mean square error (RMSE) to calculate the reconstruction error:\n",
        "\n",
        "$$RMSE(x, \\widetilde{x}) = \\sqrt{\\frac{1}{N}\\sum_i (x_i-\\widetilde{x}_i)^2},$$\n",
        "where $x$, $\\widetilde{x}$ are the original and transformed samples\n",
        "respectively and $N$ is the total number of samples $x_i$.\n",
        "<article class=\"message task\"><a class=\"anchor\" id=\"eval\"></a>\n",
        "    <div class=\"message-header\">\n",
        "        <span>Task 3: Evaluating precision</span>\n",
        "        <span class=\"has-text-right\">\n",
        "          <i class=\"bi bi-stoplights medium\"></i>\n",
        "        </span>\n",
        "    </div>\n",
        "<div class=\"message-body\">\n",
        "\n",
        "\n",
        "1. **Calculate reconstruction error:** Implement a function that calculates the reconstruction error given a dataset $X$, principle components $\\Phi$, and a mean vector $\\mu$.\n",
        "\n",
        "2. **Plot reconstruction error:** Plot the reconstruction error for $k=1 .... D$. \n",
        "\n",
        "\n",
        "\n",
        "\n",
        "</div></article>\n",
        "\n",
        ""
      ]
    },
    {
      "cell_type": "code",
      "id": "kUkcafSDlloqQmh394MZ0",
      "metadata": {},
      "source": [
        "# Write your implementation here."
      ],
      "execution_count": 0,
      "outputs": []
    },
    {
      "cell_type": "markdown",
      "id": "aTqz4WeO80u2wILjkDYB7",
      "metadata": {},
      "source": [
        ""
      ]
    }
  ]
}