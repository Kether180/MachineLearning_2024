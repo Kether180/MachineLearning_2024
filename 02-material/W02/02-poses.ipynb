{
  "metadata": {
    "kernelspec": {
      "display_name": "Python",
      "language": "python3",
      "name": "python3"
    },
    "language_info": {
      "codemirror_mode": {
        "name": "ipython",
        "version": 3
      },
      "file_extension": "py",
      "mimetype": "text/x-python",
      "name": "python"
    }
  },
  "nbformat": 4,
  "nbformat_minor": 5,
  "cells": [
    {
      "cell_type": "code",
      "id": "css_setup",
      "metadata": {
        "jupyter": {
          "source_hidden": true
        }
      },
      "source": [
        "import requests\n",
        "from IPython.core.display import HTML\n",
        "HTML(f\"\"\"\n",
        "<style>\n",
        "@import \"https://cdn.jsdelivr.net/npm/bulma@0.9.4/css/bulma.min.css\";\n",
        "</style>\n",
        "\"\"\")"
      ],
      "execution_count": 0,
      "outputs": []
    },
    {
      "cell_type": "markdown",
      "id": "ouhXm1iBEHVMGosaFwY8U",
      "metadata": {},
      "source": [
        "# Evaluating poses\n",
        "\n",
        "<article class=\"message\">\n",
        "    <div class=\"message-body\">\n",
        "        <strong>Overview of tasks</strong>\n",
        "        <ul style=\"list-style: none;\">\n",
        "            <li>\n",
        "            <a href=\"#inspect\">Task 1: Visually inspect and compare poses</a>\n",
        "            </li>\n",
        "            <li>\n",
        "            <a href=\"#dist\">Task 2: Calculate pose distance</a>\n",
        "            </li>\n",
        "            <li>\n",
        "            <a href=\"#comparison\">Task 3: Compare poses</a>\n",
        "            </li>\n",
        "        </ul>\n",
        "    </div>\n",
        "</article>\n",
        "\n",
        "In this exercise you will compare distances between high-dimensional vectors of human poses (from a dataset of badminton poses). The dataset contains 18 sample poses, each defined by 25 points $(x_i, y_i)$. Your task is to calculate the Euclidean distance ($L_2$-norm) between all poses.\n",
        "The dataset is loaded and stored in an $18\\times 50$-dimensional Numpy array:\n",
        ""
      ]
    },
    {
      "cell_type": "code",
      "id": "4Cxa9SmC_rLtSfVltz8gW",
      "metadata": {},
      "source": [
        "import numpy as np\n",
        "import matplotlib.pyplot as plt\n",
        "\n",
        "poses = np.load(\"data/poses.npy\")"
      ],
      "execution_count": 0,
      "outputs": []
    },
    {
      "cell_type": "markdown",
      "id": "YywmQWorjUxVR7g0vXMvl",
      "metadata": {},
      "source": [
        "Each row in `poses`\n",
        " has the form $x_1, y_1, x_2, y_2, \\dots, x_{25}, y_{25}$, i.e. it is a list of $50$ elements constituting $25$ points:\n",
        ""
      ]
    },
    {
      "cell_type": "code",
      "id": "LgMR0SXliFhe3XnNC7xBV",
      "metadata": {},
      "source": [
        "# Get the first pose and print it\n",
        "poses[0]"
      ],
      "execution_count": 0,
      "outputs": []
    },
    {
      "cell_type": "markdown",
      "id": "maXnqmsmoREqu1UXkQO3t",
      "metadata": {},
      "source": [
        "_Note that the output above is still a 1d array, it is simply printed over multiple lines_\n",
        "The following cell contains as set of helper functions for plotting the poses. You do not need to study these - simply skip to the next section:\n",
        ""
      ]
    },
    {
      "cell_type": "code",
      "id": "CpincVqFQ7LdmtwBI9I1P",
      "metadata": {},
      "source": [
        "def limb_number_plot(s_pose_x,s_pose_y,n1,n2,c=\"red\",label=None,axis = None):\n",
        "  if label is not None:\n",
        "    if (s_pose_x[n1]>-10.0) and (s_pose_x[n2]>-10.0) and (s_pose_y[n1]>-10.0) and (s_pose_y[n2]>-10.0): \n",
        "        axis.plot([s_pose_x[n1],s_pose_x[n2]], [s_pose_y[n1], s_pose_y[n2]],color = c, linestyle=\"-\",label=label)\n",
        "  else:\n",
        "    if (s_pose_x[n1]>-10.0) and (s_pose_x[n2]>-10.0) and (s_pose_y[n1]>-10.0) and (s_pose_y[n2]>-10.0): \n",
        "        axis.plot([s_pose_x[n1],s_pose_x[n2]], [s_pose_y[n1], s_pose_y[n2]],color = c, linestyle=\"-\")\n",
        "\n",
        "def plot_single_pose(s_pose, a, c = \"darkgreen\", label=None, head = True):\n",
        "    s_pose_x=s_pose[::2]\n",
        "    s_pose_y=s_pose[1::2]\n",
        "    limb_number_plot(s_pose_x,s_pose_y,2,5,c,axis=a)\n",
        "    if label is not None:\n",
        "\n",
        "        limb_number_plot(s_pose_x,s_pose_y,9,12,c,label,axis=a)\n",
        "    else:\n",
        "        limb_number_plot(s_pose_x,s_pose_y,9,12,c,axis=a)\n",
        "    limb_number_plot(s_pose_x,s_pose_y,2,9,c,axis=a)\n",
        "    limb_number_plot(s_pose_x,s_pose_y,5,12,c,axis=a)\n",
        "\n",
        "    limb_number_plot(s_pose_x,s_pose_y,2,3,c,axis=a)\n",
        "    limb_number_plot(s_pose_x,s_pose_y,3,4,c,axis=a)\n",
        "\n",
        "    limb_number_plot(s_pose_x,s_pose_y,5,6,c,axis=a)\n",
        "    limb_number_plot(s_pose_x,s_pose_y,6,7,c,axis=a)\n",
        "\n",
        "    #left leg / foot\n",
        "    limb_number_plot(s_pose_x,s_pose_y,9,10,c,axis=a)\n",
        "    limb_number_plot(s_pose_x,s_pose_y,10,11,c,axis=a)\n",
        "    limb_number_plot(s_pose_x,s_pose_y,11,22,c,axis=a)\n",
        "\n",
        "    #right leg / foot\n",
        "    limb_number_plot(s_pose_x,s_pose_y,12,13,c,axis=a)\n",
        "    limb_number_plot(s_pose_x,s_pose_y,13,14,c,axis=a)\n",
        "    limb_number_plot(s_pose_x,s_pose_y,14,19,c,axis=a)\n",
        "\n",
        "    # head\n",
        "    if head:\n",
        "        limb_number_plot(s_pose_x,s_pose_y,0,15,c,axis=a)\n",
        "        limb_number_plot(s_pose_x,s_pose_y,0,16,c,axis=a)\n",
        "\n",
        "        limb_number_plot(s_pose_x,s_pose_y,15,17,c,axis=a)\n",
        "        limb_number_plot(s_pose_x,s_pose_y,16,18,c,axis=a)\n",
        "    return True"
      ],
      "execution_count": 0,
      "outputs": []
    },
    {
      "cell_type": "markdown",
      "id": "VK7Jn5sBNsrjI-QOj98GO",
      "metadata": {},
      "source": [
        "The cell below visualises each pose in the dataset:\n",
        ""
      ]
    },
    {
      "cell_type": "code",
      "id": "Ri1CW6aIx00-G53Ljs0mD",
      "metadata": {},
      "source": [
        "# Create a 6x3 grid of subplots\n",
        "fig, ax = plt.subplots(3, 6, figsize=(14, 8))\n",
        "\n",
        "for i, p in enumerate(poses):\n",
        "    axis = ax[i//6, i%6] # Select the appropriate subplot\n",
        "    plot_single_pose(p, axis)\n",
        "\n",
        "    axis.set_title(i)\n",
        "    axis.set_xlim(-5, 5)\n",
        "    axis.set_ylim(3,-3)\n",
        "\n",
        "\n",
        "plt.tight_layout()"
      ],
      "execution_count": 0,
      "outputs": []
    },
    {
      "cell_type": "markdown",
      "id": "bgT814Pz-5IdmffGe9h_v",
      "metadata": {},
      "source": [
        "<article class=\"message task\"><a class=\"anchor\" id=\"inspect\"></a>\n",
        "    <div class=\"message-header\">\n",
        "        <span>Task 1: Visually inspect and compare poses</span>\n",
        "        <span class=\"has-text-right\">\n",
        "          <i class=\"bi bi-lightbulb-fill\"></i><i class=\"bi bi-stoplights easy\"></i>\n",
        "        </span>\n",
        "    </div>\n",
        "<div class=\"message-body\">\n",
        "\n",
        "\n",
        "This task only involves visual inspection of the poses.\n",
        "1. Choose the three pairs of poses that look most similar and note their indices.\n",
        "2. Choose the three pairs of poses that look least similar and note their indices.\n",
        "\n",
        "\n",
        "\n",
        "</div></article>\n",
        "\n",
        "<article class=\"message task\"><a class=\"anchor\" id=\"dist\"></a>\n",
        "    <div class=\"message-header\">\n",
        "        <span>Task 2: Calculate pose distance</span>\n",
        "        <span class=\"has-text-right\">\n",
        "          <i class=\"bi bi-code\"></i><i class=\"bi bi-stoplights easy\"></i>\n",
        "        </span>\n",
        "    </div>\n",
        "<div class=\"message-body\">\n",
        "\n",
        "\n",
        "In this task you will calculate the Euclidean distance ($L_2$ norm) between all the poses (note that the distance is symmetric, such that the distance between pairs (a, b) and (b, a) are the same).\n",
        "1. In the cell below, calculate the Euclidean distance between each combination of poses and store the result in an $18\\times 18$ matrix called `res`\n",
        " (the name is important as the variable is used below) such that the distance between `poses[i]`\n",
        " and `poses[j]`\n",
        " is in position $i, j$ in the matrix.\n",
        "\n",
        "\n",
        "\n",
        "</div></article>\n",
        "\n",
        ""
      ]
    },
    {
      "cell_type": "code",
      "id": "Sm0kx_1fp_eww18E0LMs0",
      "metadata": {},
      "source": [
        "# Write your solution here"
      ],
      "execution_count": 0,
      "outputs": []
    },
    {
      "cell_type": "markdown",
      "id": "9iwlHA8u8wJ6WtcwyxgqP",
      "metadata": {},
      "source": [
        "The following cell creates a visualization of the 18x18 distance matrix you created above:\n",
        ""
      ]
    },
    {
      "cell_type": "code",
      "id": "5_ShSTAOdFbLqxRWN2Pa8",
      "metadata": {},
      "source": [
        "import seaborn as sns\n",
        "t = np.triu(np.ones_like(res))\n",
        "sns.heatmap(res, annot=True, mask=t)"
      ],
      "execution_count": 0,
      "outputs": []
    },
    {
      "cell_type": "markdown",
      "id": "515i4GznSz805UFW_-TNV",
      "metadata": {},
      "source": [
        "<article class=\"message task\"><a class=\"anchor\" id=\"comparison\"></a>\n",
        "    <div class=\"message-header\">\n",
        "        <span>Task 3: Compare poses</span>\n",
        "        <span class=\"has-text-right\">\n",
        "          <i class=\"bi bi-code\"></i><i class=\"bi bi-stoplights medium\"></i>\n",
        "        </span>\n",
        "    </div>\n",
        "<div class=\"message-body\">\n",
        "\n",
        "\n",
        "1. Determine the three most similar pose-pairs using the distances calculated in the distance matrix `res`\n",
        " and plot them using the plotting function `plot_pair`\n",
        " below.\n",
        "2. Determine the three most dissimilar pose-pairs using the distances calculated in the distance matrix `res`\n",
        " and plot them.\n",
        "3. Compare the pose-pairs you chose in [Task 1](#inspect) with the calculated pose-pairs. How well did your intuition match the calculated result?\n",
        "\n",
        "\n",
        "\n",
        "</div></article>\n",
        "\n",
        ""
      ]
    },
    {
      "cell_type": "code",
      "id": "yKnK8dX0Qxt4eiia3r5Xw",
      "metadata": {},
      "source": [
        "def plot_single(ax, i, p):\n",
        "    ax.scatter(p[:, 0], p[:, 1]) # Plot the pose coordinates\n",
        "\n",
        "    ax.set_title(i)\n",
        "    ax.set_xlim(-5, 5)\n",
        "    ax.set_ylim(3,-3)\n",
        "\n",
        "def plot_pair(a, b):\n",
        "    \"\"\"Plot two poses side by side. a and b are indices.\n",
        "    \"\"\"\n",
        "    fig, ax = plt.subplots(1, 2)\n",
        "\n",
        "    ap = poses[a]\n",
        "    bp = poses[b]\n",
        "\n",
        "    plot_single_pose(ap, ax[0])\n",
        "    plot_single_pose(bp, ax[1])\n",
        "    #plot_single(ax[0], a, ap)\n",
        "    #plot_single(ax[1], b, bp)"
      ],
      "execution_count": 0,
      "outputs": []
    },
    {
      "cell_type": "markdown",
      "id": "6Yr4r547_ofZWy64LS0Pi",
      "metadata": {},
      "source": [
        ""
      ]
    }
  ]
}