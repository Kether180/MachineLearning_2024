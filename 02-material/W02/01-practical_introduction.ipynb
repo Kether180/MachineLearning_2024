{
  "metadata": {
    "kernelspec": {
      "display_name": "Python",
      "language": "python3",
      "name": "python3"
    },
    "language_info": {
      "codemirror_mode": {
        "name": "ipython",
        "version": 3
      },
      "file_extension": "py",
      "mimetype": "text/x-python",
      "name": "python"
    }
  },
  "nbformat": 4,
  "nbformat_minor": 5,
  "cells": [
    {
      "cell_type": "code",
      "id": "css_setup",
      "metadata": {
        "jupyter": {
          "source_hidden": true
        }
      },
      "source": [
        "import requests\n",
        "from IPython.core.display import HTML\n",
        "HTML(f\"\"\"\n",
        "<style>\n",
        "@import \"https://cdn.jsdelivr.net/npm/bulma@0.9.4/css/bulma.min.css\";\n",
        "</style>\n",
        "\"\"\")"
      ],
      "execution_count": 0,
      "outputs": []
    },
    {
      "cell_type": "markdown",
      "id": "Vuvt3OmhN1qfNpb084oob",
      "metadata": {},
      "source": [
        "# Practical introduction to Python and Numpy\n",
        "<article class=\"message is-danger\">\n",
        "  <div class=\"message-header\">Important</div>\n",
        "  <div class=\"message-body\">\n",
        "\n",
        "  Please use either _Jupyter Lab_ (not notebook) or _Visual Studio Code_ to solve the exercises.\n",
        "\n",
        "\n",
        "  </div>\n",
        "</article>\n",
        "\n",
        "<article class=\"message\">\n",
        "    <div class=\"message-body\">\n",
        "        <strong>Overview of tasks</strong>\n",
        "        <ul style=\"list-style: none;\">\n",
        "            <li>\n",
        "            <a href=\"#norm\">Task 1: Vector length</a>\n",
        "            </li>\n",
        "            <li>\n",
        "            <a href=\"#comprehensions\">Task 2: List comprehensions</a>\n",
        "            </li>\n",
        "            <li>\n",
        "            <a href=\"#dotproduct\">Task 3: Inner product</a>\n",
        "            </li>\n",
        "            <li>\n",
        "            <a href=\"#indexing\">Task 4: Array indexing</a>\n",
        "            </li>\n",
        "            <li>\n",
        "            <a href=\"#norm_np\">Task 5: Length using numpy</a>\n",
        "            </li>\n",
        "            <li>\n",
        "            <a href=\"#angle\">Task 6: Angle calculation</a>\n",
        "            </li>\n",
        "            <li>\n",
        "            <a href=\"#distances\">Task 7: Distances</a>\n",
        "            </li>\n",
        "        </ul>\n",
        "    </div>\n",
        "</article>\n",
        "\n",
        "This exercise delves deeper into the syntax of Python and NumPy, providing guidelines for effectively working with arrays using both Python's native structures (called lists) and NumPy arrays. The first part of the exercise is about implementing basic linear algebra operations using native Python types while the second part is about using Numpy.\n",
        "**Note:** Run each code cell as you progress through the exercise. Incomplete cells are part of tasks and have to be completed by you.\n",
        "\n",
        "## Using native types in Python to implement basic linear algebra operations\n",
        "The vectors `va`\n",
        " and `vb`\n",
        " are defined as:\n",
        ""
      ]
    },
    {
      "cell_type": "code",
      "id": "1qvYcKzILwL4Hh5Yu_Kx8",
      "metadata": {},
      "source": [
        "va = [2, 2]\n",
        "vb = [3, 4]"
      ],
      "execution_count": 0,
      "outputs": []
    },
    {
      "cell_type": "markdown",
      "id": "3MC-J2QttPeZbty04Wzd8",
      "metadata": {},
      "source": [
        "## Vector length\n",
        "The length (L2-norm) of a vector is defined as\n",
        "\n",
        "$$||v|| = \\sqrt{\\sum_{i=1}^N v_i^2}.$$\n",
        "<article class=\"message task\"><a class=\"anchor\" id=\"norm\"></a>\n",
        "    <div class=\"message-header\">\n",
        "        <span>Task 1: Vector length</span>\n",
        "        <span class=\"has-text-right\">\n",
        "          <i class=\"bi bi-code\"></i><i class=\"bi bi-stoplights easy\"></i>\n",
        "        </span>\n",
        "    </div>\n",
        "<div class=\"message-body\">\n",
        "\n",
        "\n",
        "1. Implement the length as a Python function in the code cell below.\n",
        "2. Calculate the length of the vectors `va`\n",
        " and `vb`\n",
        " using the implementation from (1).\n",
        "3. Verify the result using pen and paper.\n",
        "\n",
        "**Hints:** \n",
        "- For-loops in Python loop through the elements of an iterator and takes the current iterator value as the iteration variable, similar to for-each loops in Java.\n",
        "- The `range(x)`\n",
        " function in Python returns an iterator of integers from $0,\\dots, x-1$.\n",
        "- The length of a list `l`\n",
        " can be found using the `len(l)`\n",
        " function.\n",
        "- The `**`\n",
        " operator implements exponentiation in Python. For the square root of `x`\n",
        ", use `x**(1/2)`\n",
        ".\n",
        "- Use Python's built in `help(<function/class/method>)`\n",
        " function for additional documentation. In Jupyter Lab, you can also open a documentation popover by pressing placing the text cursor on the desired symbol and pressing **Shift + Tab**.\n",
        "\n",
        "\n",
        "\n",
        "</div></article>\n",
        "\n",
        ""
      ]
    },
    {
      "cell_type": "code",
      "id": "xeVr5MF-1YTGGNH9hvZN9",
      "metadata": {},
      "source": [
        "def length(v):\n",
        "    ...\n",
        "\n",
        "\n",
        "print('a', length(va))\n",
        "print('b', length(vb))\n",
        "assert length(va) == 8**0.5\n",
        "assert length(vb) == 5"
      ],
      "execution_count": 0,
      "outputs": []
    },
    {
      "cell_type": "markdown",
      "id": "nXAgMWPqBLNLa4pSTXTD7",
      "metadata": {},
      "source": [
        "## List comprehensions\n",
        "Using loops for list iteration requires quite a lot of boilerplate code. Fortunately, Python's _list comprehensions_ are \n",
        "created exactly for making list iteration more expressive and easier to understand.\n",
        "A list comprehension has the following form\n",
        "```python\n",
        "[f(e) for e in list]\n",
        "\n",
        "\n",
        "```\n",
        "\n",
        "where $f$ is an arbitrary function applied to each element $e$. For people familiar with functional programming, this \n",
        "is equivalent to the `map`\n",
        " function. _Note: List comprehensions can also include guard rules. You can read more about \n",
        "list comprehensions [here](https://docs.python.org/3/tutorial/datastructures.html#list-comprehensions)\n",
        "._\n",
        "Python also provides a wealth of utility functions for performing common list operations. One such function is\n",
        "```python\n",
        "sum(l)\n",
        "\n",
        "\n",
        "```\n",
        "\n",
        "which sums all elements in the list argument.\n",
        "<article class=\"message task\"><a class=\"anchor\" id=\"comprehensions\"></a>\n",
        "    <div class=\"message-header\">\n",
        "        <span>Task 2: List comprehensions</span>\n",
        "        <span class=\"has-text-right\">\n",
        "          <i class=\"bi bi-code\"></i><i class=\"bi bi-stoplights easy\"></i>\n",
        "        </span>\n",
        "    </div>\n",
        "<div class=\"message-body\">\n",
        "\n",
        "\n",
        "1. Implement the `length2`\n",
        " function in the cell below by using a list comprehension and the [`sum`\n",
        " function](https://docs.python.org/3.10/library/functions.html#sum)\n",
        ".    - First, exponentiate each element in a list comprehension, resulting in a new list of values.\n",
        "    - Then use the `sum`\n",
        " function to add all elements and calculate the square root of the sum.\n",
        "\n",
        "\n",
        "2. Verify the result using pen and paper.\n",
        "\n",
        "\n",
        "\n",
        "</div></article>\n",
        "\n",
        ""
      ]
    },
    {
      "cell_type": "code",
      "id": "9_d4j-onHXZfckRH1tY01",
      "metadata": {},
      "source": [
        "def length2(v):\n",
        "    ...\n",
        "\n",
        "print('a', length2(va))\n",
        "print('b', length2(vb))\n",
        "assert length2(va) == 8**0.5\n",
        "assert length2(vb) == 5"
      ],
      "execution_count": 0,
      "outputs": []
    },
    {
      "cell_type": "markdown",
      "id": "yPttONS2XL9_7pDPtooCo",
      "metadata": {},
      "source": [
        "<article class=\"message task\"><a class=\"anchor\" id=\"dotproduct\"></a>\n",
        "    <div class=\"message-header\">\n",
        "        <span>Task 3: Inner product</span>\n",
        "        <span class=\"has-text-right\">\n",
        "          <i class=\"bi bi-code\"></i><i class=\"bi bi-stoplights easy\"></i>\n",
        "        </span>\n",
        "    </div>\n",
        "<div class=\"message-body\">\n",
        "\n",
        "\n",
        "In this task you will calculate the dot product of two vectors using lists. Recall the definition of the dot product:\n",
        "\n",
        "$$\n",
        "a\\cdot b = \\sum_{i=1}^N a_ib_i.\n",
        "$$\n",
        "1. Complete the function `dot`\n",
        " below by implementing the equation for inner (dot) product using either for-loops or list \n",
        "comprehensions.    - _Note: If you want to use list comprehensions you need the function `zip`\n",
        " to interleave the two lists. The `zip`\n",
        " function is \n",
        "equivalent to `zip`\n",
        " in most functional programming languages. The documentation can be found \n",
        "[here](https://docs.python.org/3/library/functions.html#zip)\n",
        "_\n",
        "\n",
        "\n",
        "2. Test the implementation on `va`\n",
        " and `vb`\n",
        ". Verify the results using pen and paper.\n",
        "\n",
        "\n",
        "\n",
        "</div></article>\n",
        "\n",
        ""
      ]
    },
    {
      "cell_type": "code",
      "id": "05UbULTSeG12gk0LYkG7_",
      "metadata": {},
      "source": [
        "def dot(a, b):\n",
        "    ...\n",
        "\n",
        "# Tests\n",
        "assert dot(va, vb) == 14"
      ],
      "execution_count": 0,
      "outputs": []
    },
    {
      "cell_type": "markdown",
      "id": "OPw_B_LZ6FHCdcTOVnaDK",
      "metadata": {},
      "source": [
        "## Introducing Numpy\n",
        "Numpy makes it way easier to work with multidimensional arrays and provides a significant performance increase. Refer to this week's tutorial\n",
        " for further information.\n",
        "The following code imports the `numpy`\n",
        " package and creates a $3\\times 3$ matrix:\n",
        "**Note:** Note that the import statement renames `numpy`\n",
        " to `np`\n",
        ". This is commonly done in Python to avoid namespace confusion.\n",
        "\n",
        ""
      ]
    },
    {
      "cell_type": "code",
      "id": "AA2_dPjYfH_sf_1miacJ5",
      "metadata": {},
      "source": [
        "import numpy as np\n",
        "\n",
        "A = np.array([\n",
        "    [1, 2, 3],\n",
        "    [3, 4, 9],\n",
        "    [5, 7, 3]\n",
        "])"
      ],
      "execution_count": 0,
      "outputs": []
    },
    {
      "cell_type": "markdown",
      "id": "-Rn9dUMsZ6t_9xxCQTiK1",
      "metadata": {},
      "source": [
        "Use `A.shape`\n",
        " to get the dimensions (size) of the array. The `shape`\n",
        " property works on all Numpy arrays, e.g. `(A*2).shape`\n",
        " works as well (we will \n",
        "return to array operations later in this exercise).\n",
        "The cell below prints the shape of `A`\n",
        ":\n",
        ""
      ]
    },
    {
      "cell_type": "code",
      "id": "W_iV7oGri2eK2vADm3DBi",
      "metadata": {},
      "source": [
        "A.shape"
      ],
      "execution_count": 0,
      "outputs": []
    },
    {
      "cell_type": "markdown",
      "id": "z0vn6Y6mfQl5vkO-xqex9",
      "metadata": {},
      "source": [
        "## Slicing\n",
        "Slicing allows you to select a sequence or area of array elements using the `<start>:<stop>`\n",
        " notation, e.g. `0:2`\n",
        ". Inspect the code cell below for a few examples:\n",
        ""
      ]
    },
    {
      "cell_type": "code",
      "id": "yKoEEFuiaP9aIoz7e3d2y",
      "metadata": {},
      "source": [
        "single = A[0]\n",
        "print('single element', single)\n",
        "\n",
        "vector = A[:2, 1] # 0's can be ommitted.\n",
        "print('vector of elements', vector)\n",
        "\n",
        "matrix = A[:, :2]\n",
        "print('matrix of elements\\n', matrix)"
      ],
      "execution_count": 0,
      "outputs": []
    },
    {
      "cell_type": "markdown",
      "id": "rszT20i-MxSgPu7lAvDbS",
      "metadata": {},
      "source": [
        "It is possible to use negative indices. These are equivalent to counting from the end of the array, i.e. `-<idx>`\n",
        "\n",
        "is equivalent to `len(a)-<idx>`\n",
        ". A few examples:\n",
        ""
      ]
    },
    {
      "cell_type": "code",
      "id": "1u6hR5orw-uk8Qb_DGx1E",
      "metadata": {},
      "source": [
        "single = A[-1, -1]\n",
        "print('single', single)\n",
        "\n",
        "arange = A[0:-2, 0:-1]\n",
        "print('arange', arange)"
      ],
      "execution_count": 0,
      "outputs": []
    },
    {
      "cell_type": "markdown",
      "id": "LpMfA3gVH_CD0634gv7ap",
      "metadata": {},
      "source": [
        "<article class=\"message is-info\">\n",
        "  <div class=\"message-header\">Info</div>\n",
        "  <div class=\"message-body\">\n",
        "  \n",
        "  You can find the official documentation for Numpy slicing [here](https://numpy.org/doc/stable/user/basics.indexing.html)\n",
        ".\n",
        "\n",
        "  \n",
        "  </div>\n",
        "</article>\n",
        "\n",
        "<article class=\"message task\"><a class=\"anchor\" id=\"indexing\"></a>\n",
        "    <div class=\"message-header\">\n",
        "        <span>Task 4: Array indexing</span>\n",
        "        <span class=\"has-text-right\">\n",
        "          <i class=\"bi bi-code\"></i><i class=\"bi bi-stoplights easy\"></i>\n",
        "        </span>\n",
        "    </div>\n",
        "<div class=\"message-body\">\n",
        "\n",
        "\n",
        "Use slicing to create the following variables:\n",
        "1. Create a 2x2 matrix `ur`\n",
        " from of the upper right corner of `A`\n",
        ".\n",
        "2. Extract the 2nd row of `A`\n",
        " and store it in the variable `row`\n",
        ".\n",
        "3. Extract the 1st column of `A`\n",
        " and store it in the variable `col`\n",
        ".\n",
        "\n",
        "\n",
        "\n",
        "</div></article>\n",
        "\n",
        ""
      ]
    },
    {
      "cell_type": "code",
      "id": "xWWF3S_K_lgz8bFFmQLsh",
      "metadata": {},
      "source": [
        "ur = ...\n",
        "row = ...\n",
        "col = ...\n",
        "\n",
        "print('upper right\\n', ur)\n",
        "print('row', row)\n",
        "print('column', col)\n",
        "\n",
        "# Tests\n",
        "assert np.all(ur == np.array([[2, 3], [4, 9]]))\n",
        "assert np.all(row == np.array([3, 4, 9]))\n",
        "assert np.all(col == np.array([1, 3, 5]))"
      ],
      "execution_count": 0,
      "outputs": []
    },
    {
      "cell_type": "markdown",
      "id": "og7WYoBOJCAHgLPy22l24",
      "metadata": {},
      "source": [
        "---\n",
        "## Using Numpy array operations\n",
        "While these implementations seem fine for small inputs, they become unbearingly slow for large arrays.\n",
        "Let's try an example. The code below uses numpy to generate $1000000$-dimensional vectors of random numbers:\n",
        ""
      ]
    },
    {
      "cell_type": "code",
      "id": "3BuTUSW4RGION6L-IPnif",
      "metadata": {},
      "source": [
        "ta = np.random.randint(100, size=1000000)\n",
        "tb = np.random.randint(100, size=1000000)"
      ],
      "execution_count": 0,
      "outputs": []
    },
    {
      "cell_type": "markdown",
      "id": "c-kwQSqDIWL4f-7eWjEkn",
      "metadata": {},
      "source": [
        "Jupyter notebooks support the command `%timeit <statement>`\n",
        ", which runs a performance test on a given statement. This makes it possible to performance test the native implementation of the inner product from {{ ref(dotproduct) }}:\n",
        ""
      ]
    },
    {
      "cell_type": "code",
      "id": "duLMmg9bzl45RtSJVpVQ0",
      "metadata": {},
      "source": [
        "%timeit dot(ta, tb)"
      ],
      "execution_count": 0,
      "outputs": []
    },
    {
      "cell_type": "markdown",
      "id": "SvmneAaaO9FmIygN0UWQe",
      "metadata": {},
      "source": [
        "Not very fast, huh? Now, let's try using Numpy's built-in function for inner products, `np.dot`\n",
        ":\n",
        ""
      ]
    },
    {
      "cell_type": "code",
      "id": "NX7ezHyFjbl4gscZ_wMuE",
      "metadata": {},
      "source": [
        "%timeit np.dot(ta, tb)"
      ],
      "execution_count": 0,
      "outputs": []
    },
    {
      "cell_type": "markdown",
      "id": "2gzRdJoOjOoYys5jg609p",
      "metadata": {},
      "source": [
        "This is approximately 300 times faster than the native implementation (on the test computer, anyway)!. What about other list operations? Let's try the `sum`\n",
        " function:\n",
        ""
      ]
    },
    {
      "cell_type": "code",
      "id": "alyulOSrFq3j6y4N1uSBg",
      "metadata": {},
      "source": [
        "%timeit sum(ta)\n",
        "%timeit np.sum(ta)"
      ],
      "execution_count": 0,
      "outputs": []
    },
    {
      "cell_type": "markdown",
      "id": "PgKzY3L0ONlnND0ak2z0p",
      "metadata": {},
      "source": [
        "Again, a similar performance improvement. Because of its performance, Numpy should always be used instead of native Python wherever possible. In general, you should expect a speed improvement of several orders of magnitude when using Numpy.\n",
        "## Adapting Python code to Numpy\n",
        "This exercise is about adapting the `length`\n",
        " function implemented int [Task 1](#norm) to Numpy. Overloaded operators are common in Numpy. For example, to exponentiate the elements of a Numpy array `x`\n",
        " to the $4$'th power, simply use the `**`\n",
        " \n",
        "operator on the array itself, i.e. `x**4`\n",
        ".\n",
        "<article class=\"message task\"><a class=\"anchor\" id=\"norm_np\"></a>\n",
        "    <div class=\"message-header\">\n",
        "        <span>Task 5: Length using numpy</span>\n",
        "        <span class=\"has-text-right\">\n",
        "          <i class=\"bi bi-code\"></i><i class=\"bi bi-stoplights easy\"></i>\n",
        "        </span>\n",
        "    </div>\n",
        "<div class=\"message-body\">\n",
        "\n",
        "\n",
        "1. In the cell below, implement `length_np`\n",
        " using Numpy. You can use Numpy's sum function (`np.sum`\n",
        ").\n",
        "2. Test it on the provided input `vec`\n",
        ".\n",
        "\n",
        "\n",
        "\n",
        "</div></article>\n",
        "\n",
        ""
      ]
    },
    {
      "cell_type": "code",
      "id": "NZ2spITNMfpQmMW3N7kHb",
      "metadata": {},
      "source": [
        "def length_np(v):\n",
        "    ...\n",
        "\n",
        "vec = np.array([2, 3, 4, 5])\n",
        "length_np(vec)"
      ],
      "execution_count": 0,
      "outputs": []
    },
    {
      "cell_type": "markdown",
      "id": "HhB0L71vqLZp7LNxsXA9-",
      "metadata": {},
      "source": [
        "Compare the Python and Numpy implementations using an array of random numbers:\n",
        ""
      ]
    },
    {
      "cell_type": "code",
      "id": "eI-LdTDw6EmjcAE0yPWAl",
      "metadata": {},
      "source": [
        "vr = np.random.randint(100, size=10000)\n",
        "\n",
        "%timeit length_np(vr)\n",
        "%timeit length(vr)\n",
        "%timeit length2(vr)"
      ],
      "execution_count": 0,
      "outputs": []
    },
    {
      "cell_type": "markdown",
      "id": "ZH5gfLpBi9hIab7US36ow",
      "metadata": {},
      "source": [
        "This should reveal a large difference between the Numpy and Python implementations.\n",
        "## Angles between vectors\n",
        "The angle between vectors $\\mathbf{u}$ and $\\mathbf{v}$ is described by the following relation (as shown in the lecture):\n",
        "\n",
        "$$\n",
        "\\cos \\theta = \\frac{\\mathbf{u}\\cdot \\mathbf{v}}{\\|\\mathbf{u}\\|\\|\\mathbf{v}\\|}\n",
        "$$\n",
        "_Note to self: Return the result as a tuple of (radians, degrees). Check what resources we currently have on tuples_\n",
        "<article class=\"message task\"><a class=\"anchor\" id=\"angle\"></a>\n",
        "    <div class=\"message-header\">\n",
        "        <span>Task 6: Angle calculation</span>\n",
        "        <span class=\"has-text-right\">\n",
        "          <i class=\"bi bi-code\"></i><i class=\"bi bi-stoplights easy\"></i>\n",
        "        </span>\n",
        "    </div>\n",
        "<div class=\"message-body\">\n",
        "\n",
        "\n",
        "1. Use Numpy to implement the `angle`\n",
        " function in the code cell below. The function should return the angle in radians between inputs `a`\n",
        " and `b`\n",
        ".\n",
        "2. Verify the example below using pen and paper.\n",
        "\n",
        "\n",
        "\n",
        "</div></article>\n",
        "\n",
        ""
      ]
    },
    {
      "cell_type": "code",
      "id": "jakIVa5ImD3_Cnief_Fm6",
      "metadata": {},
      "source": [
        "def angle(a, b):\n",
        "    ...\n",
        "\n",
        "a = np.array([2, 3, 4])\n",
        "b = np.array([0, -1, 2])\n",
        "print(angle(a, b)) # The result should be: 1.1426035712129559\n",
        "assert angle(a, b) == 1.1426035712129559"
      ],
      "execution_count": 0,
      "outputs": []
    },
    {
      "cell_type": "markdown",
      "id": "XthLKio1Hkbtk6G4kG0dP",
      "metadata": {},
      "source": [
        "## Distances\n",
        "The Euclidean distance between two vectors $\\mathbf{a}$ and $\\mathbf{b}$ is calculated as the length of the difference vector between $\\mathbf{a}$ and $\\mathbf{b}$, i.e. $\\|\\mathbf{a}-\\mathbf{b}\\|$.\n",
        "<article class=\"message task\"><a class=\"anchor\" id=\"distances\"></a>\n",
        "    <div class=\"message-header\">\n",
        "        <span>Task 7: Distances</span>\n",
        "        <span class=\"has-text-right\">\n",
        "          <i class=\"bi bi-code\"></i><i class=\"bi bi-stoplights medium\"></i>\n",
        "        </span>\n",
        "    </div>\n",
        "<div class=\"message-body\">\n",
        "\n",
        "\n",
        "1. Create two-dimensional vectors $\\mathbf{a}=\\begin{bmatrix}0\\\\0\\end{bmatrix}$ and $\\mathbf{b}=\\begin{bmatrix}1\\\\1\\end{bmatrix}$ using `np.zeros`\n",
        " and `np.ones`\n",
        " (refer to the tutorial for inspiration). Use the code cell below.\n",
        "2. Calculate the distance between the points and print the result.\n",
        "3. Create n-dimensional vectors $\\mathbf{a}=\\begin{bmatrix}0\\\\\\vdots\\\\0\\end{bmatrix}$ and $\\mathbf{b}=\\begin{bmatrix}1\\\\\\vdots\\\\1\\end{bmatrix}$ using `np.zeros`\n",
        " and `np.ones`\n",
        " (refer to the tutorial for inspiration) for $n=1, \\dots, 10$. Calculate the distance between the vectors for each number of dimensions. Plot the distances as a function of $n$.\n",
        "4. Explain the relationship in the figure between the number of dimensions and the distance.\n",
        "5. _(optional)_ Derive a formula for the distance between $\\mathbf{a}$ and $\\mathbf{b}$ as a function of the number of dimensions $n$, i.e. $f(n)=?$\n",
        "\n",
        "\n",
        "\n",
        "</div></article>\n",
        "\n",
        ""
      ]
    },
    {
      "cell_type": "code",
      "id": "y5x9lKYkskgAhsaoYeHB0",
      "metadata": {},
      "source": [
        ""
      ],
      "execution_count": 0,
      "outputs": []
    },
    {
      "cell_type": "markdown",
      "id": "tKNcXgYTYGlKLQPpcdaeO",
      "metadata": {},
      "source": [
        ""
      ]
    },
    {
      "cell_type": "code",
      "id": "Go88MigiUVwSdMkpKciw1",
      "metadata": {},
      "source": [
        ""
      ],
      "execution_count": 0,
      "outputs": []
    },
    {
      "cell_type": "markdown",
      "id": "4uqMmRqQRtvYgBDf0fpYk",
      "metadata": {},
      "source": [
        ""
      ]
    }
  ]
}