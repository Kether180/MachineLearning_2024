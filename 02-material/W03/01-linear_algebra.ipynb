{
  "cells": [
    {
      "cell_type": "code",
      "execution_count": 1,
      "id": "css_setup",
      "metadata": {
        "jupyter": {
          "source_hidden": true
        }
      },
      "outputs": [
        {
          "data": {
            "text/html": [
              "\n",
              "<style>\n",
              "@import \"https://cdn.jsdelivr.net/npm/bulma@0.9.4/css/bulma.min.css\";\n",
              "</style>\n"
            ],
            "text/plain": [
              "<IPython.core.display.HTML object>"
            ]
          },
          "execution_count": 1,
          "metadata": {},
          "output_type": "execute_result"
        }
      ],
      "source": [
        "import requests\n",
        "from IPython.core.display import HTML\n",
        "HTML(f\"\"\"\n",
        "<style>\n",
        "@import \"https://cdn.jsdelivr.net/npm/bulma@0.9.4/css/bulma.min.css\";\n",
        "</style>\n",
        "\"\"\")"
      ]
    },
    {
      "cell_type": "markdown",
      "id": "0vKTfviILDiXIssAkncmv",
      "metadata": {},
      "source": [
        "# Linear Algebra using Python and Numpy\n",
        "This exercise introduces fundamental linear algebra operations in Numpy and how to use them to solve linear systems of equations. The goal is to familiarise yourself with the concepts of linear algebra and how to use them in Numpy. The following topics will be covered:\n",
        "- Performing matrix operations (elementwise operations, transpose, multiplication, inverse).\n",
        "- Properties of matrix multiplication and inverse.\n",
        "- Representing linear equations in matrix form.\n",
        "- Solving linear equations using the matrix inverse.\n",
        "\n",
        "\n",
        "<article class=\"message\">\n",
        "    <div class=\"message-body\">\n",
        "        <strong>List of individual tasks</strong>\n",
        "        <ul style=\"list-style: none;\">\n",
        "            <li>\n",
        "            <a href=\"#diff\">Task 1: Elementwise difference</a>\n",
        "            </li>\n",
        "            <li>\n",
        "            <a href=\"#mul_prop\">Task 2: Multiplication properties</a>\n",
        "            </li>\n",
        "            <li>\n",
        "            <a href=\"#elem_mul\">Task 3: Elementwise multiplication</a>\n",
        "            </li>\n",
        "            <li>\n",
        "            <a href=\"#inverses\">Task 4: Inverses</a>\n",
        "            </li>\n",
        "            <li>\n",
        "            <a href=\"#inverse_prop\">Task 5: Inverse properties</a>\n",
        "            </li>\n",
        "            <li>\n",
        "            <a href=\"#determinant\">Task 6: The determinant</a>\n",
        "            </li>\n",
        "            <li>\n",
        "            <a href=\"#transpose\">Task 7: Transpose</a>\n",
        "            </li>\n",
        "            <li>\n",
        "            <a href=\"#eqsys\">Task 8: Solving linear equation systems</a>\n",
        "            </li>\n",
        "            <li>\n",
        "            <a href=\"#matmul\">Task 9: Implementing matrix multiplication</a>\n",
        "            </li>\n",
        "        </ul>\n",
        "    </div>\n",
        "</article>\n",
        "\n",
        "The cell below defines matrices `A`\n",
        ", `B`\n",
        ", `C`\n",
        ", `D`\n",
        ", `E`\n",
        " that are used throughout the exercise:\n"
      ]
    },
    {
      "cell_type": "code",
      "execution_count": 2,
      "id": "CLj_n8VX5AJW3nyyrnAv4",
      "metadata": {},
      "outputs": [],
      "source": [
        "import numpy as np\n",
        "import matplotlib.pyplot as plt"
      ]
    },
    {
      "cell_type": "markdown",
      "id": "mh2xmR6XbZJYEtpB3D2Ki",
      "metadata": {},
      "source": []
    },
    {
      "cell_type": "code",
      "execution_count": 3,
      "id": "LLnA0XV8UFS_v6uLlQ-pT",
      "metadata": {},
      "outputs": [],
      "source": [
        "# Define matrices to be used in the tasks:\n",
        "A = np.array([\n",
        "    [1, 0.5, 1/3, 0.25],\n",
        "    [0.5, 1/3, 0.25, 0.2],\n",
        "    [1/3, 0.25, 0.2, 1/6],\n",
        "    [0.25, 0.2, 1/6, 1/7]\n",
        "])\n",
        "\n",
        "B = np.array([\n",
        "    [-16, 15, -14, 13],\n",
        "    [-12, 11, -10, 9],\n",
        "    [-8, 7, -6, 5],\n",
        "    [-4, 3, -2, 1]\n",
        "])\n",
        "\n",
        "C = np.array([\n",
        "    [1, 1/2, 1/3, 1/4],\n",
        "    [1/2, 1/3, 1/4, 1/5],\n",
        "    [1/3, 1/5, 1/7, 1/9],\n",
        "    [1/4, 1/7, 1/8, 1/9],\n",
        "])\n",
        "\n",
        "D = np.array([\n",
        "    [2, 4, 5/2],\n",
        "    [-3/4, 2, 0.25],\n",
        "    [0.25, 0.5, 2]\n",
        "])\n",
        "\n",
        "E = np.array([\n",
        "    [1, -0.5, 3/4],\n",
        "    [3/2, 0.5, -2],\n",
        "    [0.25, 1, 0.5]\n",
        "])\n",
        "\n",
        "D_inv = np.linalg.inv(D)\n",
        "E_inv = np.linalg.inv(E)"
      ]
    },
    {
      "cell_type": "markdown",
      "id": "f6I-Onfy_wRdSROMVYder",
      "metadata": {},
      "source": [
        "<article class=\"message task\"><a class=\"anchor\" id=\"diff\"></a>\n",
        "    <div class=\"message-header\">\n",
        "        <span>Task 1: Elementwise difference</span>\n",
        "        <span class=\"has-text-right\">\n",
        "          <i class=\"bi bi-code\"></i><i class=\"bi bi-stoplights easy\"></i>\n",
        "        </span>\n",
        "    </div>\n",
        "<div class=\"message-body\">\n",
        "\n",
        "\n",
        "1. Calculate $A-B$ in the code cell below.\n",
        "\n",
        "\n",
        "\n",
        "</div></article>\n",
        "\n"
      ]
    },
    {
      "cell_type": "code",
      "execution_count": 6,
      "id": "4LGfpHhog7VHK_P0i81AY",
      "metadata": {},
      "outputs": [
        {
          "name": "stdout",
          "output_type": "stream",
          "text": [
            "Elementwise Difference (A - B):\n",
            " [[ 17.         -14.5         14.33333333 -12.75      ]\n",
            " [ 12.5        -10.66666667  10.25        -8.8       ]\n",
            " [  8.33333333  -6.75         6.2         -4.83333333]\n",
            " [  4.25        -2.8          2.16666667  -0.85714286]]\n"
          ]
        }
      ],
      "source": [
        "# Task 1: Elementwise difference\n",
        "elementwise_diff = A - B\n",
        "print(\"Elementwise Difference (A - B):\\n\", elementwise_diff)\n",
        "\n",
        "#To calculate the elementwise difference between matrices AA and BB, we simply subtract matrix BB from matrix AA.\n"
      ]
    },
    {
      "cell_type": "markdown",
      "id": "tmdoDaHS6_WDtmj1euwdQ",
      "metadata": {},
      "source": [
        "<article class=\"message task\"><a class=\"anchor\" id=\"mul_prop\"></a>\n",
        "    <div class=\"message-header\">\n",
        "        <span>Task 2: Multiplication properties</span>\n",
        "        <span class=\"has-text-right\">\n",
        "          <i class=\"bi bi-code\"></i><i class=\"bi bi-stoplights easy\"></i>\n",
        "        </span>\n",
        "    </div>\n",
        "<div class=\"message-body\">\n",
        "\n",
        "\n",
        "1. Calculate $AC$ and $CA$ in the code cell below. (You may use either [`np.dot`\n",
        "](https://numpy.org/doc/stable/reference/generated/numpy.dot.html<elem-3>.dot)\n",
        " or the `@`\n",
        " operator).\n",
        "2. Explain why the results are different.\n",
        "\n",
        "\n",
        "\n",
        "</div></article>\n",
        "\n"
      ]
    },
    {
      "cell_type": "code",
      "execution_count": 8,
      "id": "xfVRY1IaN0aGnE4f0CIaa",
      "metadata": {},
      "outputs": [
        {
          "name": "stdout",
          "output_type": "stream",
          "text": [
            "Matrix AC:\n",
            " [[1.42361111 0.76904762 0.53720238 0.41481481]\n",
            " [0.8        0.43968254 0.31071429 0.24166667]\n",
            " [0.56666667 0.31380952 0.22301587 0.17407407]\n",
            " [0.44126984 0.24540816 0.175      0.13689153]]\n",
            "Matrix CA:\n",
            " [[1.42361111 0.8        0.56666667 0.44126984]\n",
            " [0.8        0.46361111 0.33333333 0.26190476]\n",
            " [0.50873016 0.29126984 0.20820106 0.16301587]\n",
            " [0.39087302 0.22609127 0.16256614 0.12777778]]\n"
          ]
        }
      ],
      "source": [
        "# Task 2: Multiplication properties\n",
        "AC = np.dot(A, C)  # Or A @ C\n",
        "CA = np.dot(C, A)  # Or C @ A\n",
        "\n",
        "print(\"Matrix AC:\\n\", AC)\n",
        "print(\"Matrix CA:\\n\", CA)\n",
        "\n",
        "# Matrix multiplication is not commutative, meaning ACAC is not necessarily equal to CACA. This is why the results differ.\n"
      ]
    },
    {
      "cell_type": "markdown",
      "id": "-z-FilgKOYCxF9QP-USNA",
      "metadata": {},
      "source": [
        "<article class=\"message task\"><a class=\"anchor\" id=\"elem_mul\"></a>\n",
        "    <div class=\"message-header\">\n",
        "        <span>Task 3: Elementwise multiplication</span>\n",
        "        <span class=\"has-text-right\">\n",
        "          <i class=\"bi bi-code\"></i><i class=\"bi bi-stoplights easy\"></i>\n",
        "        </span>\n",
        "    </div>\n",
        "<div class=\"message-body\">\n",
        "\n",
        "\n",
        "1. Calculate the elementwise multiplication of $A$ and $C$ using the `*`\n",
        " operator.\n",
        "2. Explain the difference between the `*`\n",
        " and `@`\n",
        " operators.\n",
        "\n",
        "\n",
        "\n",
        "</div></article>\n",
        "\n"
      ]
    },
    {
      "cell_type": "code",
      "execution_count": 9,
      "id": "7DgaeX01G0KxCIMHgLcsC",
      "metadata": {},
      "outputs": [
        {
          "name": "stdout",
          "output_type": "stream",
          "text": [
            "Elementwise Multiplication (A * C):\n",
            " [[1.         0.25       0.11111111 0.0625    ]\n",
            " [0.25       0.11111111 0.0625     0.04      ]\n",
            " [0.11111111 0.05       0.02857143 0.01851852]\n",
            " [0.0625     0.02857143 0.02083333 0.01587302]]\n"
          ]
        }
      ],
      "source": [
        "# Task 3: Elementwise multiplication\n",
        "\n",
        "elementwise_mult = A * C\n",
        "print(\"Elementwise Multiplication (A * C):\\n\", elementwise_mult)\n",
        "\n",
        "# The * operator performs elementwise multiplication, whereas the @ or np.dot() operator performs matrix multiplication. They operate differently and give different results."
      ]
    },
    {
      "cell_type": "markdown",
      "id": "Hr5g-sHjePkFU49nEUC7y",
      "metadata": {},
      "source": [
        "<article class=\"message task\"><a class=\"anchor\" id=\"inverses\"></a>\n",
        "    <div class=\"message-header\">\n",
        "        <span>Task 4: Inverses</span>\n",
        "        <span class=\"has-text-right\">\n",
        "          <i class=\"bi bi-code\"></i><i class=\"bi bi-stoplights easy\"></i>\n",
        "        </span>\n",
        "    </div>\n",
        "<div class=\"message-body\">\n",
        "\n",
        "\n",
        "1. Use [`np.linalg.inv`\n",
        "](https://docs.scipy.org/doc/numpy/reference/generated/numpy.linalg.inv.html)\n",
        " to calculate  the inverse of $A$ and $C$.\n",
        "2. Verify that $AA^{-1}=I$ and $CC^{-1}=I$. If the results differ from your expectations, argue why this is the case. _Hint: The question relates to the limitations of floating point numbers._\n",
        "\n",
        "\n",
        "\n",
        "</div></article>\n",
        "\n"
      ]
    },
    {
      "cell_type": "code",
      "execution_count": 10,
      "id": "PNRs4NTHn8aj22cSUI3Q1",
      "metadata": {},
      "outputs": [
        {
          "name": "stdout",
          "output_type": "stream",
          "text": [
            "Matrix A * A_inv (should be identity):\n",
            " [[ 1.00000000e+00  0.00000000e+00  0.00000000e+00  0.00000000e+00]\n",
            " [ 0.00000000e+00  1.00000000e+00  1.13686838e-13  0.00000000e+00]\n",
            " [ 3.55271368e-15 -5.68434189e-14  1.00000000e+00 -5.68434189e-14]\n",
            " [-1.06581410e-14  5.68434189e-14 -1.13686838e-13  1.00000000e+00]]\n",
            "Matrix C * C_inv (should be identity):\n",
            " [[ 1.00000000e+00  0.00000000e+00  0.00000000e+00  0.00000000e+00]\n",
            " [ 0.00000000e+00  1.00000000e+00  0.00000000e+00  2.84217094e-14]\n",
            " [ 0.00000000e+00 -2.27373675e-13  1.00000000e+00  5.68434189e-14]\n",
            " [ 0.00000000e+00  0.00000000e+00  0.00000000e+00  1.00000000e+00]]\n"
          ]
        }
      ],
      "source": [
        "# Task 4: Inverses\n",
        "A_inv = np.linalg.inv(A)\n",
        "C_inv = np.linalg.inv(C)\n",
        "\n",
        "# Verify\n",
        "AA_inv = np.dot(A, A_inv)\n",
        "CC_inv = np.dot(C, C_inv)\n",
        "\n",
        "print(\"Matrix A * A_inv (should be identity):\\n\", AA_inv)\n",
        "print(\"Matrix C * C_inv (should be identity):\\n\", CC_inv)\n",
        "\n",
        "# Small numerical inaccuracies might occur due to the limitations of floating-point representation in computers, leading to results that are close to, but not exactly, the identity matrix.\n"
      ]
    },
    {
      "cell_type": "markdown",
      "id": "G4r75bQJkBuT7hkTgHvgN",
      "metadata": {},
      "source": [
        "### Properties\n",
        "<article class=\"message task\"><a class=\"anchor\" id=\"inverse_prop\"></a>\n",
        "    <div class=\"message-header\">\n",
        "        <span>Task 5: Inverse properties</span>\n",
        "        <span class=\"has-text-right\">\n",
        "          <i class=\"bi bi-code\"></i><i class=\"bi bi-stoplights easy\"></i>\n",
        "        </span>\n",
        "    </div>\n",
        "<div class=\"message-body\">\n",
        "\n",
        "\n",
        "Use the code cell below to verify that:\n",
        "1. $D^{-1}E^{-1} = (ED)^{-1}$\n",
        "2. $D^{-1}E^{-1} \\neq (DE)^{-1}$\n",
        "\n",
        "\n",
        "\n",
        "</div></article>\n",
        "\n"
      ]
    },
    {
      "cell_type": "code",
      "execution_count": 11,
      "id": "VR_-_5IGbjj8pKC0fbjj7",
      "metadata": {},
      "outputs": [
        {
          "name": "stdout",
          "output_type": "stream",
          "text": [
            "D_inv * E_inv:\n",
            " [[ 0.25261376  0.13578836 -0.51301587]\n",
            " [-0.08601058  0.11462434  0.18539683]\n",
            " [ 0.16592593 -0.18962963  0.17777778]]\n",
            "(E * D)^-1:\n",
            " [[ 0.25261376  0.13578836 -0.51301587]\n",
            " [-0.08601058  0.11462434  0.18539683]\n",
            " [ 0.16592593 -0.18962963  0.17777778]]\n"
          ]
        }
      ],
      "source": [
        "# Task 5: Inverse properties\n",
        "inverse_property_1 = np.dot(D_inv, E_inv)\n",
        "inverse_property_2 = np.linalg.inv(np.dot(E, D))\n",
        "\n",
        "print(\"D_inv * E_inv:\\n\", inverse_property_1)\n",
        "print(\"(E * D)^-1:\\n\", inverse_property_2)\n",
        "\n",
        "# D−1E−1 should be equal to (ED)−1(ED)−1, but D−1E−1D−1E−1 is not equal to (DE)−1(DE)−1 due to the non-commutative nature of matrix multiplication."
      ]
    },
    {
      "cell_type": "markdown",
      "id": "HKHNbXUok5nXAFwT01eKE",
      "metadata": {},
      "source": [
        "<article class=\"message task\"><a class=\"anchor\" id=\"determinant\"></a>\n",
        "    <div class=\"message-header\">\n",
        "        <span>Task 6: The determinant</span>\n",
        "        <span class=\"has-text-right\">\n",
        "          <i class=\"bi bi-code\"></i><i class=\"bi bi-stoplights easy\"></i>\n",
        "        </span>\n",
        "    </div>\n",
        "<div class=\"message-body\">\n",
        "\n",
        "\n",
        "1. Calculate the determinant of $A$, $B$, and $C$ using [`np.linalg.det`\n",
        "](https://numpy.org/doc/stable/reference/generated/numpy.linalg.det.html<elem-4>.linalg.det)\n",
        ".\n",
        "2. Based on the results, determine which of the matrices have an inverse.\n",
        "3. Calculate the inverses of the matrices using [`np.linalg.inv`\n",
        "](https://numpy.org/doc/stable/reference/generated/numpy.linalg.inv.html<elem-6>.linalg.inv)\n",
        ". Explain what happens and how this is related to your answer in (2).\n",
        "\n",
        "\n",
        "\n",
        "</div></article>\n",
        "\n"
      ]
    },
    {
      "cell_type": "code",
      "execution_count": 12,
      "id": "OuI3VtYlVryYcNKWHB-Dv",
      "metadata": {},
      "outputs": [
        {
          "name": "stdout",
          "output_type": "stream",
          "text": [
            "Determinant of A: 1.6534391534390412e-07\n",
            "Determinant of B: 0.0\n",
            "Determinant of C: 1.0498026371034301e-07\n",
            "Inverse of A:\n",
            " [[   16.  -120.   240.  -140.]\n",
            " [ -120.  1200. -2700.  1680.]\n",
            " [  240. -2700.  6480. -4200.]\n",
            " [ -140.  1680. -4200.  2800.]]\n",
            "Inverse of B:\n",
            " Not Invertible\n",
            "Inverse of C:\n",
            " [[   -72.           -225.            525.             42.        ]\n",
            " [  1260.           3675.          -8820.00000001   -630.        ]\n",
            " [ -3696.         -10710.00000001  25830.00000002   1764.        ]\n",
            " [  2700.           7830.00000001 -18900.00000001  -1260.        ]]\n"
          ]
        }
      ],
      "source": [
        "# Task 6: The determinant\n",
        "det_A = np.linalg.det(A)\n",
        "det_B = np.linalg.det(B)\n",
        "det_C = np.linalg.det(C)\n",
        "\n",
        "print(\"Determinant of A:\", det_A)\n",
        "print(\"Determinant of B:\", det_B)\n",
        "print(\"Determinant of C:\", det_C)\n",
        "\n",
        "# Determine invertibility\n",
        "# A matrix is invertible if its determinant is not zero.\n",
        "invertible_A = np.linalg.inv(A) if det_A != 0 else \"Not Invertible\"\n",
        "invertible_B = np.linalg.inv(B) if det_B != 0 else \"Not Invertible\"\n",
        "invertible_C = np.linalg.inv(C) if det_C != 0 else \"Not Invertible\"\n",
        "\n",
        "print(\"Inverse of A:\\n\", invertible_A)\n",
        "print(\"Inverse of B:\\n\", invertible_B)  # Should not be invertible\n",
        "print(\"Inverse of C:\\n\", invertible_C)\n",
        "\n",
        "# If the determinant of a matrix is zero, the matrix is singular (non-invertible)."
      ]
    },
    {
      "cell_type": "markdown",
      "id": "SmCQfx2wd1k7aQLYzbuCL",
      "metadata": {},
      "source": [
        "<article class=\"message task\"><a class=\"anchor\" id=\"transpose\"></a>\n",
        "    <div class=\"message-header\">\n",
        "        <span>Task 7: Transpose</span>\n",
        "        <span class=\"has-text-right\">\n",
        "          <i class=\"bi bi-code\"></i><i class=\"bi bi-stoplights easy\"></i>\n",
        "        </span>\n",
        "    </div>\n",
        "<div class=\"message-body\">\n",
        "\n",
        "\n",
        "1. Verify that $(D^{-1})^\\top$ and ${D^\\top}^{-1}$ are equal.\n",
        "\n",
        "<article class=\"message is-warning\">\n",
        "  <div class=\"message-header\">Hint</div>\n",
        "  <div class=\"message-body\">\n",
        "  \n",
        "  The transpose of a matrix `A`\n",
        " in Numpy can be calculated with `A.T`\n",
        ".\n",
        "\n",
        "  \n",
        "  </div>\n",
        "</article>\n",
        "\n",
        "\n",
        "\n",
        "</div></article>\n",
        "\n"
      ]
    },
    {
      "cell_type": "code",
      "execution_count": 13,
      "id": "SVmCkNiQwuUS9W2abJgEd",
      "metadata": {},
      "outputs": [
        {
          "name": "stdout",
          "output_type": "stream",
          "text": [
            "(D_inv)^T:\n",
            " [[ 0.32804233  0.13227513 -0.07407407]\n",
            " [-0.57142857  0.28571429  0.        ]\n",
            " [-0.33862434 -0.2010582   0.59259259]]\n",
            "(D^T)^-1:\n",
            " [[ 0.32804233  0.13227513 -0.07407407]\n",
            " [-0.57142857  0.28571429 -0.        ]\n",
            " [-0.33862434 -0.2010582   0.59259259]]\n"
          ]
        }
      ],
      "source": [
        "# Task 7: Transpose\n",
        "D_inv_transpose = D_inv.T\n",
        "D_transpose_inv = np.linalg.inv(D.T)\n",
        "\n",
        "print(\"(D_inv)^T:\\n\", D_inv_transpose)\n",
        "print(\"(D^T)^-1:\\n\", D_transpose_inv)\n"
      ]
    },
    {
      "cell_type": "markdown",
      "id": "ZvuyhypPv4cCT4DZcCvfH",
      "metadata": {},
      "source": [
        "## Linear equations\n",
        "Matrices can represent systems of linear equations\n",
        "\n",
        "$$\n",
        "Ax=b\n",
        "$$\n",
        "where $A$ is the coefficient matrix, $x$ vector of unknowns, and $b$ is a vector of the dependent variables.\n",
        "A solution can be found using\n",
        "\n",
        "$$\n",
        "\\begin{align*}\n",
        "A^{-1}Ax&=A^{-1}b\\\\\n",
        "x &= A^{-1}b.\n",
        "\\end{align*}\n",
        "$$\n",
        "<article class=\"message task\"><a class=\"anchor\" id=\"eqsys\"></a>\n",
        "    <div class=\"message-header\">\n",
        "        <span>Task 8: Solving linear equation systems</span>\n",
        "        <span class=\"has-text-right\">\n",
        "          <i class=\"bi bi-code\"></i><i class=\"bi bi-stoplights medium\"></i>\n",
        "        </span>\n",
        "    </div>\n",
        "<div class=\"message-body\">\n",
        "\n",
        "\n",
        "For each of the following sets of linear equations determine whether a unique solution exits. Recall that the determinant \n",
        "can be used to determine whether a matrix has an inverse:\n",
        "a)\n",
        "\n",
        "$$ \n",
        "\\begin{align*}\n",
        "2x + 3y  &= -1\\\\\n",
        "x + y  &= 0\\\\\n",
        "\\end{align*}\n",
        "$$\n",
        "b)\n",
        "\n",
        "$$\n",
        "\\begin{align*}\n",
        "1x + 0y  &= 5\\\\\n",
        "0x + 1y  &= 7\\\\\n",
        "\\end{align*}\n",
        "$$\n",
        "c)\n",
        "\n",
        "$$\n",
        "\\begin{align*}\n",
        "0x + y  &= -1\\\\\n",
        "-2x + -3y  &= 2\\\\\n",
        "\\end{align*}\n",
        "$$\n",
        "d)\n",
        "\n",
        "$$\n",
        "\\begin{align*}\n",
        "x + -3y + 3z &= 0.5\\\\\n",
        "x - 5y + 3z& = 0.5\\\\\n",
        "6z + -6y + 4x &= 1.\n",
        "\\end{align*}\n",
        "$$\n",
        "e)\n",
        "\n",
        "$$\n",
        "\\begin{align*}\n",
        "2x + 3y + 4z &= 2\\\\\n",
        "x + 4z + y &= -2\\\\\n",
        "4z + 5y + 2x &= 3.\n",
        "\\end{align*}\n",
        "$$\n",
        "f)\n",
        "\n",
        "$$\n",
        "\\begin{align*}\n",
        "x + y + z &= 2\\\\\n",
        "2x + 2z + 2y &= -2\\\\\n",
        "3z + 3y + 3x &= 3.\n",
        "\\end{align*}\n",
        "$$\n",
        "\n",
        "\n",
        "</div></article>\n",
        "\n"
      ]
    },
    {
      "cell_type": "code",
      "execution_count": 14,
      "id": "Kt0L68CtH4GgmKQVI9ryp",
      "metadata": {},
      "outputs": [
        {
          "name": "stdout",
          "output_type": "stream",
          "text": [
            "Solution for system a): [ 1. -1.]\n",
            "Solution for system b): [5. 7.]\n",
            "Solution for system c): [ 0.5 -1. ]\n",
            "Solution for system d): [ 0.         -0.          0.16666667]\n",
            "Solution for system e): [-8.25  0.5   4.25]\n",
            "System f) has no unique solution: Singular matrix\n"
          ]
        }
      ],
      "source": [
        "# Task 8: Solving linear equation systems\n",
        "# System a)\n",
        "A1 = np.array([[2, 3], [1, 1]])\n",
        "b1 = np.array([-1, 0])\n",
        "x1 = np.linalg.solve(A1, b1)\n",
        "print(\"Solution for system a):\", x1)\n",
        "\n",
        "# System b)\n",
        "A2 = np.array([[1, 0], [0, 1]])\n",
        "b2 = np.array([5, 7])\n",
        "x2 = np.linalg.solve(A2, b2)\n",
        "print(\"Solution for system b):\", x2)\n",
        "\n",
        "# System c)\n",
        "A3 = np.array([[0, 1], [-2, -3]])\n",
        "b3 = np.array([-1, 2])\n",
        "x3 = np.linalg.solve(A3, b3)\n",
        "print(\"Solution for system c):\", x3)\n",
        "\n",
        "# System d)\n",
        "A4 = np.array([[1, -3, 3], [1, -5, 3], [4, -6, 6]])\n",
        "b4 = np.array([0.5, 0.5, 1])\n",
        "x4 = np.linalg.solve(A4, b4)\n",
        "print(\"Solution for system d):\", x4)\n",
        "\n",
        "# System e)\n",
        "A5 = np.array([[2, 3, 4], [1, 4, 1], [2, 5, 4]])\n",
        "b5 = np.array([2, -2, 3])\n",
        "x5 = np.linalg.solve(A5, b5)\n",
        "print(\"Solution for system e):\", x5)\n",
        "\n",
        "# System f) - This system has no unique solution as the determinant will be zero\n",
        "A6 = np.array([[1, 1, 1], [2, 2, 2], [3, 3, 3]])\n",
        "b6 = np.array([2, -2, 3])\n",
        "\n",
        "try:\n",
        "    x6 = np.linalg.solve(A6, b6)\n",
        "    print(\"Solution for system f):\", x6)\n",
        "except np.linalg.LinAlgError as e:\n",
        "    print(\"System f) has no unique solution:\", e)\n"
      ]
    },
    {
      "cell_type": "markdown",
      "id": "_ViPZylNBGTzTdHPnBqY8",
      "metadata": {},
      "source": [
        "## Matrix multiplication\n",
        "For an $N\\times D$ matrix $A$ and a $D\\times K$ matrix $B$, the \n",
        "matrix multiplication (or matrix product) is a new $N\\times K$ matrix $R$. Elements $R_{ij}$ of $R$ can be calculated \n",
        "using the following formula\n",
        "\n",
        "$$\n",
        "R_{ij} = \\sum_{d=1}^D A_{id}B_{dj}.\n",
        "$$\n",
        "In other words, it is the dot product of the $i$'th row vector of $A$ and the $j$'th column vector of $B$.\n",
        "<article class=\"message task\"><a class=\"anchor\" id=\"matmul\"></a>\n",
        "    <div class=\"message-header\">\n",
        "        <span>Task 9: Implementing matrix multiplication <em>(optional)</em></span>\n",
        "        <span class=\"has-text-right\">\n",
        "          <i class=\"bi bi-code\"></i><i class=\"bi bi-stoplights medium\"></i>\n",
        "        </span>\n",
        "    </div>\n",
        "<div class=\"message-body\">\n",
        "\n",
        "\n",
        "Implement matrix multiplication in the `matmul`\n",
        " function in the code cell below. You may use either Python lists or Numpy arrays, but the intention is to not use Numpy's built-in functions for matrix multiplication (i.e., `np.dot`\n",
        ", `@`\n",
        ", `np.matmul`\n",
        ", etc.). You may, however, use `np.dot`\n",
        " for the purpose of computing the inner product between row and column vectors.\n",
        "<article class=\"message is-warning\">\n",
        "  <div class=\"message-header\">Hint</div>\n",
        "  <div class=\"message-body\">\n",
        "  \n",
        "  It might be helpful to calculate the correct result by hand first, to make debugging easier.\n",
        "\n",
        "  \n",
        "  </div>\n",
        "</article>\n",
        "\n",
        "\n",
        "\n",
        "</div></article>\n",
        "\n"
      ]
    },
    {
      "cell_type": "code",
      "execution_count": 15,
      "id": "pIjSSLIdF8beRI05tD2Ht",
      "metadata": {},
      "outputs": [
        {
          "name": "stdout",
          "output_type": "stream",
          "text": [
            "Result of matmul(ma, mb):\n",
            " [[ 33.   6.  26.]\n",
            " [ 78.  21.  77.]\n",
            " [123.  36. 128.]]\n"
          ]
        }
      ],
      "source": [
        "def matmul(a, b):\n",
        "    # Get dimensions of matrices\n",
        "    n = len(a)\n",
        "    d = len(a[0])\n",
        "    k = len(b[0])\n",
        "\n",
        "    # Initialize result matrix with zeros\n",
        "    result = np.zeros((n, k))\n",
        "\n",
        "    # Perform matrix multiplication\n",
        "    for i in range(n):\n",
        "        for j in range(k):\n",
        "            for l in range(d):\n",
        "                result[i][j] += a[i][l] * b[l][j]\n",
        "    return result\n",
        "\n",
        "# Test matrices\n",
        "ma = [\n",
        "    [1, 2, 3],\n",
        "    [4, 5, 6],\n",
        "    [7, 8, 9]\n",
        "]\n",
        "\n",
        "mb = [\n",
        "    [5, 4, 9],\n",
        "    [2, 1, 7],\n",
        "    [8, 0, 1]\n",
        "]\n",
        "\n",
        "# Perform matrix multiplication\n",
        "result = matmul(ma, mb)\n",
        "print(\"Result of matmul(ma, mb):\\n\", result)\n"
      ]
    },
    {
      "cell_type": "markdown",
      "id": "4319c7cc",
      "metadata": {},
      "source": [
        "This implementation manually computes the matrix product without relying on Numpy’s optimized functions.\n",
        "\n",
        "That concludes the solution to the tasks. Each task has been addressed, and the relevant code has been provided."
      ]
    },
    {
      "cell_type": "markdown",
      "id": "JoehI3kH5JvFgKiUaYsne",
      "metadata": {},
      "source": [
        "---\n"
      ]
    }
  ],
  "metadata": {
    "kernelspec": {
      "display_name": "Python",
      "language": "python3",
      "name": "python3"
    },
    "language_info": {
      "codemirror_mode": {
        "name": "ipython",
        "version": 3
      },
      "file_extension": ".py",
      "mimetype": "text/x-python",
      "name": "python",
      "nbconvert_exporter": "python",
      "pygments_lexer": "ipython3",
      "version": "3.12.5"
    }
  },
  "nbformat": 4,
  "nbformat_minor": 5
}
