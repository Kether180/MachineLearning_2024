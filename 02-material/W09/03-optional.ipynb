{
  "metadata": {
    "kernelspec": {
      "display_name": "Python",
      "language": "python3",
      "name": "python3"
    },
    "language_info": {
      "codemirror_mode": {
        "name": "ipython",
        "version": 3
      },
      "file_extension": "py",
      "mimetype": "text/x-python",
      "name": "python"
    }
  },
  "nbformat": 4,
  "nbformat_minor": 5,
  "cells": [
    {
      "cell_type": "code",
      "id": "css_setup",
      "metadata": {
        "jupyter": {
          "source_hidden": true
        }
      },
      "source": [
        "import requests\n",
        "from IPython.core.display import HTML\n",
        "HTML(f\"\"\"\n",
        "<style>\n",
        "@import \"https://cdn.jsdelivr.net/npm/bulma@0.9.4/css/bulma.min.css\";\n",
        "</style>\n",
        "\"\"\")"
      ],
      "execution_count": 0,
      "outputs": []
    },
    {
      "cell_type": "markdown",
      "id": "wCCfXNqV60pK4hUplSOkf",
      "metadata": {},
      "source": [
        "# Optional Exercises\n",
        "The optional tasks introduce additional classification metrics.\n",
        ""
      ]
    },
    {
      "cell_type": "code",
      "id": "uey8-VPkvOd3cu7WKMr0z",
      "metadata": {},
      "source": [
        "import numpy as np\n",
        "import matplotlib.pyplot as plt\n",
        "import seaborn as sns\n",
        "\n",
        "from sklearn import datasets\n",
        "from sklearn.model_selection import train_test_split, KFold\n",
        "from sklearn.metrics import confusion_matrix, accuracy_score, precision_recall_curve, auc, average_precision_score, roc_curve\n",
        "from sklearn.svm import SVC, LinearSVC\n",
        "from sklearn.dummy import DummyClassifier\n",
        "\n",
        "import warnings\n",
        "warnings.filterwarnings(\"ignore\")"
      ],
      "execution_count": 0,
      "outputs": []
    },
    {
      "cell_type": "markdown",
      "id": "OiSlx9pLaf4NoBRIjowgk",
      "metadata": {},
      "source": [
        "## Matthews Correlation Coefficient\n",
        "Only attempt the optional task once you have completed all of the previous exercises.\n",
        "<article class=\"message task\"><a class=\"anchor\" id=\"mcc\"></a>\n",
        "    <div class=\"message-header\">\n",
        "        <span>Task 1: Matthews Correlation Coefficient (optional)</span>\n",
        "        <span class=\"has-text-right\">\n",
        "          <i class=\"bi bi-code\"></i><i class=\"bi bi-stoplights medium\"></i>\n",
        "        </span>\n",
        "    </div>\n",
        "<div class=\"message-body\">\n",
        "\n",
        "\n",
        "In the current task, you will implement a third classifier. When presented with new data, this classifier makes predictions based on the most frequently observed class in the dataset. \n",
        "1. Reuse your code from task 3 of the Evaluating Classifiers exercise and implement five-fold cross validation to train the dummy classifier on the unbalanced dataset.\n",
        "\n",
        "2. Plot the accuracy of the model on the validation folds. Compare the accuracy of the third classifier to the the accuracy of the second one.\n",
        "\n",
        "3. Extend your plot to show the classification report metrics (Precision, Recall, F1-score, Specificity). What do these metrics tell you about model perofmance on the minority class?\n",
        "\n",
        "4. Following the given formula, implement the function `mcc`\n",
        " to calculate the Matthews Correlation Coefficient (MCC) both for the third and second classifiers\n",
        "\n",
        "\n",
        "\n",
        "$$ MCC=\\frac{TP \\times TN-FP \\times FN}{\\sqrt{(TP+FP)(TP+FN)(TN+FP)(TN+FN)}}$$\n",
        "5. How does the MCC help you assess the performance of the models, especially regarding their ability to handle class imbalance? \n",
        "\n",
        "\n",
        "\n",
        "</div></article>\n",
        "\n",
        ""
      ]
    },
    {
      "cell_type": "code",
      "id": "VUrGK-xk8RMyMOCRUHSdI",
      "metadata": {},
      "source": [
        "classifier3 = DummyClassifier(strategy=\"most_frequent\")\n",
        "\n",
        "X, Y = datasets.make_classification(n_samples=1000, n_classes=10, n_informative=10)\n",
        "\n",
        "# Mark the minority class as True\n",
        "Y = (Y == 0).astype(int)\n",
        "\n",
        "def mcc(y_true,y_pred):\n",
        "    ...\n",
        "\n",
        "# write your solution here"
      ],
      "execution_count": 0,
      "outputs": []
    },
    {
      "cell_type": "markdown",
      "id": "P1Of_p0MPngDCNd5BLs0M",
      "metadata": {},
      "source": [
        ""
      ]
    }
  ]
}