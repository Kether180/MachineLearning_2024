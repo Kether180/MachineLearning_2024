{
  "metadata": {
    "kernelspec": {
      "display_name": "Python",
      "language": "python3",
      "name": "python3"
    },
    "language_info": {
      "codemirror_mode": {
        "name": "ipython",
        "version": 3
      },
      "file_extension": "py",
      "mimetype": "text/x-python",
      "name": "python"
    }
  },
  "nbformat": 4,
  "nbformat_minor": 5,
  "cells": [
    {
      "cell_type": "code",
      "id": "css_setup",
      "metadata": {
        "jupyter": {
          "source_hidden": true
        }
      },
      "source": [
        "import requests\n",
        "from IPython.core.display import HTML\n",
        "HTML(f\"\"\"\n",
        "<style>\n",
        "@import \"https://cdn.jsdelivr.net/npm/bulma@0.9.4/css/bulma.min.css\";\n",
        "</style>\n",
        "\"\"\")"
      ],
      "execution_count": 0,
      "outputs": []
    },
    {
      "cell_type": "markdown",
      "id": "9IhhkTUDdDvGnSjCfoR7_",
      "metadata": {},
      "source": [
        "# HoG classifier\n",
        "The current exercise builds on the HOG exercises from the previous exercise\n",
        ", but it can also be successfully completed independently.\n",
        "The cell below imports the necessary libraries, loads an example image and extracts and plots the HOG features along the original image. \n",
        ""
      ]
    },
    {
      "cell_type": "code",
      "id": "aPRT0Slk5xGt9yK2JIUsu",
      "metadata": {},
      "source": [
        "import matplotlib.pyplot as plt\n",
        "import numpy as np\n",
        "import seaborn as sns\n",
        "from itertools import chain\n",
        "\n",
        "from skimage import data, transform, feature, exposure\n",
        "from skimage.feature import hog\n",
        "from sklearn.datasets import fetch_lfw_people\n",
        "from skimage.color import rgb2gray\n",
        "from sklearn.feature_extraction.image import PatchExtractor\n",
        "from sklearn.svm import LinearSVC\n",
        "#from sklearn.linear_model import LogisticRegression\n",
        "from sklearn.metrics import confusion_matrix\n",
        "\n",
        "image = data.astronaut()\n",
        "\n",
        "fd, hog_image = hog(image, orientations=8, pixels_per_cell=(8, 8),\n",
        "                    cells_per_block=(2, 2), visualize=True, channel_axis=-1)\n",
        "\n",
        "fig, (ax1, ax2) = plt.subplots(1, 2, figsize=(12, 6), sharex=True, sharey=True)\n",
        "\n",
        "ax1.axis('off')\n",
        "ax1.imshow(image, cmap=plt.cm.gray)\n",
        "ax1.set_title('Input image')\n",
        "\n",
        "# Rescale histogram for better display\n",
        "hog_image_rescaled = exposure.rescale_intensity(hog_image, in_range=(0, 10))\n",
        "\n",
        "ax2.axis('off')\n",
        "ax2.imshow(hog_image_rescaled, cmap=plt.cm.gray)\n",
        "ax2.set_title('Histogram of Oriented Gradients')\n",
        "plt.show()"
      ],
      "execution_count": 0,
      "outputs": []
    },
    {
      "cell_type": "markdown",
      "id": "NTfASinTHLU5_31vS2WYX",
      "metadata": {},
      "source": [
        "## Creating the training data\n",
        "Through the following steps you will construct the training data, which comprises of HOG features extracted from images containing faces and non-faces. The constructed set will be used for training a binary classification model.\n",
        "**Face Images (Positive class)**\n",
        "You will use the \"Labeled Faces in the Wild\" dataset (\"LFW\") for the images containing faces as provided by scikit-learn. The cell below loads the dataset, extracts the facial images, and displays a selection of these images for visualization. \n",
        "<article class=\"message is-info\">\n",
        "  <div class=\"message-header\">Info</div>\n",
        "  <div class=\"message-body\">\n",
        "\n",
        "  When first loading the dataset, please be aware that the code may require a few minutes to finish execution.\n",
        "\n",
        "\n",
        "  </div>\n",
        "</article>\n",
        ""
      ]
    },
    {
      "cell_type": "code",
      "id": "ulhcvfN0jfZLoeVSY4NWx",
      "metadata": {},
      "source": [
        "faces = fetch_lfw_people()\n",
        "\n",
        "face_images = faces.images\n",
        "print(face_images.shape) # 13233 face images to use for training\n",
        "\n",
        "# Visualize Positive Set (face images)\n",
        "\n",
        "fig, ax = plt.subplots(4,6)\n",
        "for i, axi in enumerate(ax.flat):\n",
        "    axi.imshow(face_images[500 * i], cmap='gray')\n",
        "    axi.axis('off')"
      ],
      "execution_count": 0,
      "outputs": []
    },
    {
      "cell_type": "markdown",
      "id": "Pv3DpuZ1F4qcG4ejvgBKm",
      "metadata": {},
      "source": [
        "**Non-face Images (Negative class)**\n",
        "For non-face images other images from the Scikit-Image library are used. The cell below loads these images. The `PatchExtractor`\n",
        " method is used for data augmentation.\n",
        ""
      ]
    },
    {
      "cell_type": "code",
      "id": "ugx5TRJJBE1-r7Jb61eeW",
      "metadata": {},
      "source": [
        "# negative data samples\n",
        "imgs_to_use = ['camera', 'text', 'coins', 'moon',\n",
        "               'page', 'clock', 'immunohistochemistry',\n",
        "               'chelsea', 'coffee', 'hubble_deep_field']\n",
        "# images = []\n",
        "\n",
        "images = [data.camera(), data.coins(),data.text(),data.moon(),data.page(),data.clock(),data.coffee(),data.hubble_deep_field()]\n",
        "img = []\n",
        "for im in images:\n",
        "    if len(im.shape)==3:\n",
        "        img.append(rgb2gray(im))\n",
        "    else:\n",
        "        img.append(im)\n",
        "\n",
        "### Make patches of the different negative samples to generate a larger dataset\n",
        "\n",
        "def extract_patches(img, N, scale=1.0, patch_size=face_images[0].shape):\n",
        "    extracted_patch_size = tuple((scale * np.array(patch_size)).astype(int))\n",
        "    extractor = PatchExtractor(patch_size=extracted_patch_size,\n",
        "                               max_patches=N, random_state=0)\n",
        "    patches = extractor.transform(img[np.newaxis])\n",
        "    if scale != 1:\n",
        "        patches = np.array([transform.resize(patch, patch_size)\n",
        "                            for patch in patches])\n",
        "    return patches\n",
        "\n",
        "non_face_images = np.vstack([extract_patches(im, 1000, scale)\n",
        "                              for im in img for scale in [0.5,1.0,2.0]]) # [0.5, 1.0, 2.0]\n",
        "print(non_face_images.shape)"
      ],
      "execution_count": 0,
      "outputs": []
    },
    {
      "cell_type": "markdown",
      "id": "0MSymytiYo717qtPvxDFR",
      "metadata": {},
      "source": [
        "The cell below visualizes the newly created non-face image patches:\n",
        ""
      ]
    },
    {
      "cell_type": "code",
      "id": "cBm4s73cvq2XLm_TBR4Y0",
      "metadata": {},
      "source": [
        "# Visualize Negative Set\n",
        "\n",
        "fig, ax = plt.subplots(4,6)\n",
        "for i, axi in enumerate(ax.flat):\n",
        "    axi.imshow(non_face_images[600 * i], cmap='gray')\n",
        "    axi.axis('off')"
      ],
      "execution_count": 0,
      "outputs": []
    },
    {
      "cell_type": "markdown",
      "id": "MzHDT9bviw11-iXtmfG06",
      "metadata": {},
      "source": [
        "The cell below combines the face and the non face images, then extracts the HOG features from the combined set. It also creates the target labels for the newly assembled training dataset. \n",
        ""
      ]
    },
    {
      "cell_type": "code",
      "id": "tZheqGV7MJ9Xsq4mEG3mE",
      "metadata": {},
      "source": [
        "X_train = np.array([hog(im, orientations=8, pixels_per_cell=(8, 8), cells_per_block=(2, 2), visualize=False)\n",
        "                    for im in chain(face_images, non_face_images)])\n",
        "\n",
        "\n",
        "Y_train = np.zeros(X_train.shape[0])\n",
        "Y_train[:face_images.shape[0]] = 1"
      ],
      "execution_count": 0,
      "outputs": []
    },
    {
      "cell_type": "markdown",
      "id": "cAXYbzzhuNkkdprZFt7GK",
      "metadata": {},
      "source": [
        "## Training a classifier\n",
        "In the following task you will train a linear classifier using HoG features.\n",
        "<article class=\"message task\"><a class=\"anchor\" id=\"sklearn\"></a>\n",
        "    <div class=\"message-header\">\n",
        "        <span>Task 1: Implement a classifier</span>\n",
        "        <span class=\"has-text-right\">\n",
        "          <i class=\"bi bi-code\"></i><i class=\"bi bi-stoplights easy\"></i>\n",
        "        </span>\n",
        "    </div>\n",
        "<div class=\"message-body\">\n",
        "\n",
        "\n",
        "The cell below contains the classification model. Your task is to:\n",
        "1. Fit the model to the training data.\n",
        "\n",
        "2. Calculate and print the accuracy of the classifier on the training data.\n",
        "\n",
        "3. Construct and plot a confusion matrix of the model predictions on the training set.\n",
        "\n",
        "4. Based on the accuracy and the confusion matrix, discuss how effective the model is. \n",
        "\n",
        "\n",
        "\n",
        "\n",
        "</div></article>\n",
        "\n",
        ""
      ]
    },
    {
      "cell_type": "code",
      "id": "SqrauXY2L79D6nndXx3Hw",
      "metadata": {},
      "source": [
        "model = LinearSVC(C=1.0, class_weight=None, dual=False, fit_intercept=True,\n",
        "           intercept_scaling=1, loss='squared_hinge', max_iter=1000,\n",
        "           multi_class='ovr', penalty='l2', random_state=None, tol=0.0001,\n",
        "           verbose=0)\n",
        "\n",
        "# implement model from scikit-learn"
      ],
      "execution_count": 0,
      "outputs": []
    },
    {
      "cell_type": "markdown",
      "id": "gC8h1805WguQKXmzJ48MA",
      "metadata": {},
      "source": [
        "## Testing on new images\n",
        "In this section you will evaluate the trained model on a novel image. You will implement a function that slides over the image and breaks it down to smaller patches. Then you will extract the HOG features from these patches, and categorize them as either a face (1) or a non-face (0) image. \n",
        ""
      ]
    },
    {
      "cell_type": "code",
      "id": "KZUDTSZEoMO3VZA4MDZ_a",
      "metadata": {},
      "source": [
        "# Load a test image\n",
        "test_img = data.astronaut()\n",
        "test_img = rgb2gray(test_img)\n",
        "test_img = transform.rescale(test_img, 0.5)\n",
        "test_img = test_img[:120, 60:160]\n",
        "\n",
        "\n",
        "plt.imshow(test_img, cmap='gray')\n",
        "plt.axis('off')\n",
        "print(test_img.shape)"
      ],
      "execution_count": 0,
      "outputs": []
    },
    {
      "cell_type": "markdown",
      "id": "s2FSTH0-aAmrtINVdkZ3m",
      "metadata": {},
      "source": [
        "<article class=\"message task\"><a class=\"anchor\" id=\"sliding\"></a>\n",
        "    <div class=\"message-header\">\n",
        "        <span>Task 2: Sliding window</span>\n",
        "        <span class=\"has-text-right\">\n",
        "          <i class=\"bi bi-code\"></i><i class=\"bi bi-stoplights hard\"></i>\n",
        "        </span>\n",
        "    </div>\n",
        "<div class=\"message-body\">\n",
        "\n",
        "\n",
        "1. Implement the method `sliding_windows`\n",
        " that takes the test image and extracts image patches from it. \n",
        "    - The function should iteratively slide over the entire image and extract image patches of the same size as the inputs the classifier was trained on.\n",
        "    - The function should return a tuple of the coordinates of the upper left corner of each subimage patch, and the patch itself.\n",
        "\n",
        "\n",
        "\n",
        "\n",
        "\n",
        "</div></article>\n",
        "\n",
        ""
      ]
    },
    {
      "cell_type": "code",
      "id": "EnM9tf2KWczKlHJBh5q1V",
      "metadata": {},
      "source": [
        "# Sliding Window function - Goes Over the image patch by patch\n",
        "# and computes the HOG features for each patch.\n",
        "\n",
        "def sliding_window(img, patch_size=face_images[0].shape, istep=, jstep=):\n",
        "    indicies = []\n",
        "    patches = []\n",
        "    ...\n",
        "    return indicies, patches\n",
        "\n",
        "# Write you code iterating over the test image here.\n",
        "# EASIEST approach is to use a foor loop for each image dimension"
      ],
      "execution_count": 0,
      "outputs": []
    },
    {
      "cell_type": "markdown",
      "id": "EqMQJbka3Kfz38OAeEOXI",
      "metadata": {},
      "source": [
        "<article class=\"message task\"><a class=\"anchor\" id=\"calc_hog\"></a>\n",
        "    <div class=\"message-header\">\n",
        "        <span>Task 3: Classifying the test image</span>\n",
        "        <span class=\"has-text-right\">\n",
        "          <i class=\"bi bi-code\"></i><i class=\"bi bi-stoplights medium\"></i>\n",
        "        </span>\n",
        "    </div>\n",
        "<div class=\"message-body\">\n",
        "\n",
        "\n",
        "In the following task you have to:\n",
        "1. Extract the HOG features for all patches from the test image (`test_img`\n",
        ") by making use of the `sliding_window`\n",
        " and `hog`\n",
        " functions. Store the features in an array called `hog_patches`\n",
        " and the corresponding indices in an array called `indices`\n",
        ".\n",
        "\n",
        "2. Use the model to classify the extracted HOG patches and store the results in an array called `labels`\n",
        ".\n",
        "\n",
        "3. Use the existing code to visualize the detections. \n",
        "\n",
        "\n",
        "\n",
        "\n",
        "</div></article>\n",
        "\n",
        ""
      ]
    },
    {
      "cell_type": "code",
      "id": "PNfeLVY9ROEIB-T8RHSsK",
      "metadata": {},
      "source": [
        "# Apply sliding window function to test_img\n",
        "\n",
        "# Write your code here\n",
        "\n",
        "\n",
        "# Visualize the detections\n",
        "fig, ax = plt.subplots()\n",
        "ax.imshow(test_img, cmap='gray')\n",
        "ax.axis('off')\n",
        "\n",
        "Ni, Nj = face_images[0].shape\n",
        "indices = np.array(indices)\n",
        "\n",
        "for i, j in indices[labels == 1]:\n",
        "    ax.add_patch(plt.Rectangle((j, i), Nj, Ni, edgecolor='red', alpha=0.3, lw=2, facecolor='none'))"
      ],
      "execution_count": 0,
      "outputs": []
    },
    {
      "cell_type": "markdown",
      "id": "x1khDkHm-TKW11KFkGPBZ",
      "metadata": {},
      "source": [
        "## Reflections\n",
        "<article class=\"message task\"><a class=\"anchor\" id=\"reflect\"></a>\n",
        "    <div class=\"message-header\">\n",
        "        <span>Task 4: Reflections</span>\n",
        "        <span class=\"has-text-right\">\n",
        "          <i class=\"bi bi-lightbulb-fill\"></i><i class=\"bi bi-stoplights easy\"></i>\n",
        "        </span>\n",
        "    </div>\n",
        "<div class=\"message-body\">\n",
        "\n",
        "\n",
        "- Summarize the overall process of face detection implemented in this exercise. \n",
        "- There are multiple overlapping boxes of the same detected face in the test image. How could you ensure that a face is only detected once? \n",
        "- How could the face detection pipeline be improved? Consider the following steps: training data construction, model fitting, test images.\n",
        "\n",
        "\n",
        "\n",
        "</div></article>\n",
        "\n",
        ""
      ]
    }
  ]
}